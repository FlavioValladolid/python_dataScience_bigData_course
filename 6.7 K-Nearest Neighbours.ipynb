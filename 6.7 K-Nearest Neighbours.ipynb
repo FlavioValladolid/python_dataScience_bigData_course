{
 "cells": [
  {
   "cell_type": "markdown",
   "id": "separated-shoot",
   "metadata": {},
   "source": [
    "# K-Nearest Neighbours\n",
    "\n",
    "Se traduce como los k vecinos más cercanos\n",
    "Clasifica cada punto en una categoría basándose en la categoría de sus vecinos más cercanos\n",
    "- Es uno de los algoritmos más intuitivo y fácil de comunicar, y muestra muy buenos resultados en diversas situaciones.\n",
    "\n",
    "**Consejo:** Cuando ajustemos un modelo KNN, es recomendable escoger una 'k' que favorezca los desempates.\n",
    "- Si estamos clasificando entre vuelos que se retrasan mucho y vuelos que no, y no sabemos cómo clasificar un vuelo concreto, si solo miramos los dos vuelos más próximos en nuestro espacio de variables y uno de ellos se ha retrasado y el otro no, ¿cómo clasificar los vuelos? Para evitar este tipo de situaciones se recomienda usar un número impar, lo que va a asegurarnos que si estamos clasificando binariamente no tengamos empates."
   ]
  },
  {
   "cell_type": "code",
   "execution_count": 1,
   "id": "serial-press",
   "metadata": {},
   "outputs": [],
   "source": [
    "from sklearn.neighbors import KNeighborsClassifier\n",
    "import numpy as np\n",
    "import pandas as pd\n",
    "\n",
    "df = pd.read_csv(r'./base_datos_2008.csv',nrows = 1e6) # Importar el primer millón de filas"
   ]
  },
  {
   "cell_type": "code",
   "execution_count": 2,
   "id": "moving-suspect",
   "metadata": {},
   "outputs": [],
   "source": [
    "# Crear un nuevo dataset con estas columnas y eliminar los datos faltantes\n",
    "newdf = df[['AirTime','Distance','TaxiOut','ArrDelay']].dropna()\n",
    "# Generar un objeto con todas aquellas columnas que no son nuestras variables respuesta, que es el retras ode llegada\n",
    "cols = newdf[newdf.columns[newdf.columns != 'ArrDelay']]\n",
    "# Este código es útil si queremos ir ampliando las variables que vamos a usar para predecir esta, ya que no neceistamos modificar el objeto"
   ]
  },
  {
   "cell_type": "code",
   "execution_count": 3,
   "id": "chronic-arrow",
   "metadata": {},
   "outputs": [],
   "source": [
    "# Crear una variable respuesta binaria\n",
    "# Queremos separar entre aquellos vuelos que se hayan retrasado más de 10 minutos y aquellos que menos\n",
    "filtro = newdf['ArrDelay'] > 10"
   ]
  },
  {
   "cell_type": "code",
   "execution_count": 4,
   "id": "painful-africa",
   "metadata": {},
   "outputs": [],
   "source": [
    "# Hacer los datos más atractivos (no es necesario)\n",
    "# Poner etiquetas a los casos\n",
    "newdf['ArrDelay'][filtro] = 'Delayed'\n",
    "newdf['ArrDelay'][filtro == False] = 'Not Delayed'"
   ]
  },
  {
   "cell_type": "code",
   "execution_count": 5,
   "id": "opening-scope",
   "metadata": {},
   "outputs": [
    {
     "data": {
      "text/plain": [
       "0    Not Delayed\n",
       "1    Not Delayed\n",
       "2        Delayed\n",
       "3    Not Delayed\n",
       "4        Delayed\n",
       "Name: ArrDelay, dtype: object"
      ]
     },
     "execution_count": 5,
     "metadata": {},
     "output_type": "execute_result"
    }
   ],
   "source": [
    "# Ver cuál es la variable respuesta\n",
    "newdf['ArrDelay'].head()\n",
    "# Muestra los 5 primeros casos en función de si se ha retrasado o no se ha retrasado"
   ]
  },
  {
   "cell_type": "markdown",
   "id": "worthy-mystery",
   "metadata": {},
   "source": [
    "### Ajustar un modelo KNN\n",
    "\n",
    "**n_neighbors:** Indicar los números de vecinos que queremos\n",
    "\n",
    "**n_jobs=-1:** Usar todos los núcleos del procesador"
   ]
  },
  {
   "cell_type": "code",
   "execution_count": 6,
   "id": "coral-library",
   "metadata": {},
   "outputs": [],
   "source": [
    "nbrs_3 = KNeighborsClassifier(n_neighbors = 3, n_jobs = -1)"
   ]
  },
  {
   "cell_type": "code",
   "execution_count": 7,
   "id": "protecting-publisher",
   "metadata": {},
   "outputs": [
    {
     "data": {
      "text/plain": [
       "KNeighborsClassifier(n_jobs=-1, n_neighbors=3)"
      ]
     },
     "execution_count": 7,
     "metadata": {},
     "output_type": "execute_result"
    }
   ],
   "source": [
    "# Usar las variables generadas para producir nuestra columna respuesta (ArrDelay)\n",
    "nbrs_3.fit(cols,newdf['ArrDelay'])"
   ]
  },
  {
   "cell_type": "code",
   "execution_count": 8,
   "id": "certain-treatment",
   "metadata": {},
   "outputs": [],
   "source": [
    "# Generar las predicciones que podemos obtener\n",
    "predicciones_3 = nbrs_3.predict(cols)"
   ]
  },
  {
   "cell_type": "code",
   "execution_count": 9,
   "id": "affected-gregory",
   "metadata": {},
   "outputs": [
    {
     "data": {
      "text/plain": [
       "0.8040059625362947"
      ]
     },
     "execution_count": 9,
     "metadata": {},
     "output_type": "execute_result"
    }
   ],
   "source": [
    "# Generar una columna que nos permitirá ver cuántos vuelos hemos clasificado correctamente usando los tres vecinos más cercanos\n",
    "np.mean(predicciones_3 == newdf['ArrDelay'])\n",
    "# Esto indica que se ha clasificado correctamente el 80.4% de los casos\n",
    "# Esta medida puede ser engañosa ya que no sabemos la proporción de los datos"
   ]
  },
  {
   "cell_type": "code",
   "execution_count": 10,
   "id": "united-friendly",
   "metadata": {},
   "outputs": [
    {
     "data": {
      "text/plain": [
       "0.6912450368307814"
      ]
     },
     "execution_count": 10,
     "metadata": {},
     "output_type": "execute_result"
    }
   ],
   "source": [
    "# Ver la proporción de estos casos en nuestra base de datos\n",
    "np.mean(newdf['ArrDelay'] == 'Not Delayed')\n",
    "# Casi el 70% de los vuelos no se han retrasado, esto hace que nuestro modelo nos esté incrementando la predicción aproximadamente un 10% en relación a lo que pudiese predecir con solo la media"
   ]
  },
  {
   "cell_type": "markdown",
   "id": "honey-hepatitis",
   "metadata": {},
   "source": [
    "### Correr el modelo con solo el vecino más cercano\n",
    "Es posible cambiar el número de vecinos para saber cuál es el que se ajusta mejor al modelo"
   ]
  },
  {
   "cell_type": "code",
   "execution_count": 11,
   "id": "heard-vanilla",
   "metadata": {},
   "outputs": [
    {
     "data": {
      "text/plain": [
       "0.8346359548396921"
      ]
     },
     "execution_count": 11,
     "metadata": {},
     "output_type": "execute_result"
    }
   ],
   "source": [
    "nbrs_1 = KNeighborsClassifier(n_neighbors=1,n_jobs=-1)\n",
    "nbrs_1.fit(cols,newdf['ArrDelay'])\n",
    "predicciones_1 = nbrs_1.predict(cols)\n",
    "np.mean(predicciones_1 == newdf['ArrDelay'])\n",
    "\n",
    "# Se observa que mirando únicamente el vecino más cercano obtiene mejores resultados que mirando los tres más cercanos, ha incrementado un 3% nuestra precisión"
   ]
  },
  {
   "cell_type": "code",
   "execution_count": 13,
   "id": "dated-effort",
   "metadata": {},
   "outputs": [
    {
     "data": {
      "text/plain": [
       "0.6912450368307814"
      ]
     },
     "execution_count": 13,
     "metadata": {},
     "output_type": "execute_result"
    }
   ],
   "source": [
    "# Comprobar\n",
    "np.mean(newdf['ArrDelay'] == 'Not Delayed')"
   ]
  },
  {
   "cell_type": "markdown",
   "id": "finished-replica",
   "metadata": {},
   "source": [
    "### Explorar la matriz de confusión para ver qué tan bien se ha predicho cada caso"
   ]
  },
  {
   "cell_type": "code",
   "execution_count": 14,
   "id": "statistical-sweden",
   "metadata": {},
   "outputs": [
    {
     "name": "stdout",
     "output_type": "stream",
     "text": [
      "[[218051  80009]\n",
      " [ 79627 587674]]\n"
     ]
    }
   ],
   "source": [
    "from sklearn.metrics import confusion_matrix\n",
    "confusion_matrix = confusion_matrix(newdf['ArrDelay'],predicciones_1)\n",
    "print(confusion_matrix)\n",
    "\n",
    "# Las filas son los valores reales que tomaba la variable\n",
    "# Es decir, los que se retrasaban y los que no se retrasaban\n",
    "# Por columnas se ve la predicción, de los que se retrasan y los que no se retrasan\n",
    "\n",
    "# El número mayor es el número de vuelos que no se retrasan y que hemos predicho que no se retrasan, 218051 es la cantidad de vuelos que se retrasan y que predecimos que se retrasan\n",
    "# 79627 son los vuelos que no se retrasaban y que nuestro modelo predijo que se retrasaban\n",
    "# 80009 son los vuelos que se retrasaban pero que nuestro modelo predijo lo contrario"
   ]
  }
 ],
 "metadata": {
  "kernelspec": {
   "display_name": "Python 3",
   "language": "python",
   "name": "python3"
  },
  "language_info": {
   "codemirror_mode": {
    "name": "ipython",
    "version": 3
   },
   "file_extension": ".py",
   "mimetype": "text/x-python",
   "name": "python",
   "nbconvert_exporter": "python",
   "pygments_lexer": "ipython3",
   "version": "3.8.6"
  }
 },
 "nbformat": 4,
 "nbformat_minor": 5
}
