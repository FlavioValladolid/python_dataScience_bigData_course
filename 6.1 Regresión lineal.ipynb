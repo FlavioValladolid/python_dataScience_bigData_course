{
 "cells": [
  {
   "cell_type": "markdown",
   "id": "chief-underwear",
   "metadata": {},
   "source": [
    "# Regresión lineal\n",
    "\n",
    "El modelo de regresión lineal es un modelo matemático usado para **aproximar la relación de dependencia entre una variable dependiente numérica y continua \"y\", y las variables independientes \"x\"**, así como un término aleatorio **épsilon** que corresponde al error o ruido de nuestros modelos.\n",
    "\n",
    "![img](https://i.imgur.com/hIIwIZH.png)\n",
    "\n",
    "El **objetivo final** de este modelo es minimizar la distancia cuadrática de todos los puntos en relación a una recta: **la recta de regresión lineal**.\n",
    "\n",
    "A la variable \"y\" se le llama **independiente**, pero también vas a escuchar **respuesta**, y a las **explicativas o regresoras** \"x\" también se les puede llamar **dependientes\".\n",
    "\n",
    "Al tratarse de un modelo matemático, esta aproximación a la modelización de datos **requiere que se cumplan algunos supuestos:**\n",
    "- Relación lineal entre variables.\n",
    "    - Esto implica que al incrementar \"x\" unidades, una de las variables regresoras se incremente, en promedio, beta veces la variable respuesta.\n",
    "- Errores independientes entre sí.\n",
    "    - Las variables explicativas no están relacionadas linealmente entre ellas.\n",
    "- Homocedasticidad\n",
    "    - Se asume que los errores tengan varianza constante.\n",
    "    - En terminología matemática se expresa como que los errores son homocedásticos, esto implica que si, por ejemplo, intentamos predecir los salarios en base a la edad, vamos a encontrar errores de la misma magnitud para gente joven que para gente mayor.\n",
    "- E(epsilon) = 0\n",
    "    - Los erroes tengan una esperanza matemática igual a cero.\n",
    "    - Los errores no van a tener sistemáticamente una tendencia positiva o negativa, es decir, vamos a predecir algunos casos por encima de su valor real y algunos por debajo, pero nunca todos por encima o todos por debajo.\n",
    "- El error total sea la suma de todos los errores."
   ]
  },
  {
   "cell_type": "markdown",
   "id": "freelance-administrator",
   "metadata": {},
   "source": [
    "### Modelo para predecir el retraso en las aerolíneas estadounidenses"
   ]
  },
  {
   "cell_type": "code",
   "execution_count": 2,
   "id": "straight-hunter",
   "metadata": {},
   "outputs": [],
   "source": [
    "import pandas as pd\n",
    "import numpy as np\n",
    "from sklearn import datasets, linear_model\n",
    "from sklearn.metrics import mean_squared_error, r2_score\n",
    "import matplotlib.pyplot as plt\n",
    "\n",
    "df = pd.read_csv(r\"/home/flavioisay/MEGAsync/Python para data science y big data esencial/base_datos_2008.csv\")\n"
   ]
  },
  {
   "cell_type": "code",
   "execution_count": 3,
   "id": "royal-option",
   "metadata": {},
   "outputs": [],
   "source": [
    "df = df.dropna(subset = ['ArrDelay']) # Eliminar los datos faltantes\n",
    "df = df.sample(frac = 1).head(100000) # Seleccionar un subset de 100,000 y se mezclan\n",
    "Y = df['ArrDelay'] # Tratar de predecir el retraso en la llegada\n",
    "X = df[['DepDelay']] # A partir con el retraso en la salida\n",
    "# Estas variables están muy correlacionadas por lo que se obtendrá un modelo muy predictivo"
   ]
  },
  {
   "cell_type": "code",
   "execution_count": 5,
   "id": "under-michael",
   "metadata": {},
   "outputs": [
    {
     "data": {
      "text/plain": [
       "Index(['Year', 'Month', 'DayofMonth', 'DayOfWeek', 'DepTime', 'CRSDepTime',\n",
       "       'ArrTime', 'CRSArrTime', 'UniqueCarrier', 'FlightNum', 'TailNum',\n",
       "       'ActualElapsedTime', 'CRSElapsedTime', 'AirTime', 'ArrDelay',\n",
       "       'DepDelay', 'Origin', 'Dest', 'Distance', 'TaxiIn', 'TaxiOut',\n",
       "       'Cancelled', 'CancellationCode', 'Diverted', 'CarrierDelay',\n",
       "       'WeatherDelay', 'NASDelay', 'SecurityDelay', 'LateAircraftDelay'],\n",
       "      dtype='object')"
      ]
     },
     "execution_count": 5,
     "metadata": {},
     "output_type": "execute_result"
    }
   ],
   "source": [
    "df.columns"
   ]
  },
  {
   "cell_type": "code",
   "execution_count": 6,
   "id": "reliable-edmonton",
   "metadata": {},
   "outputs": [
    {
     "name": "stdout",
     "output_type": "stream",
     "text": [
      "Coeficientes:  [1.02353485]\n",
      "R cuadrado:  0.8666378628508091\n"
     ]
    }
   ],
   "source": [
    "regr = linear_model.LinearRegression() # Ajustar el modelo\n",
    "regr.fit(X,Y) # Decirle que lo ajuste con X y con Y\n",
    "\n",
    "print('Coeficientes: ', regr.coef_) # Imprimir el valor de las beta\n",
    "Y_pred = regr.predict(X) # Encontrar los valores que genera el modelo, es decir las predicciones\n",
    "print(\"R cuadrado: \",r2_score(Y, Y_pred)) # Aproximación de qué tan bueno es el modelo\n",
    "# Es el porcentaje de varianza que explica el modelo\n",
    "# Entre más próximo a uno es un modelo mejor"
   ]
  },
  {
   "cell_type": "code",
   "execution_count": 8,
   "id": "virtual-efficiency",
   "metadata": {},
   "outputs": [
    {
     "data": {
      "image/png": "[encoded data removed]",
      "text/plain": [
       "<Figure size 432x288 with 1 Axes>"
      ]
     },
     "metadata": {
      "needs_background": "light"
     },
     "output_type": "display_data"
    }
   ],
   "source": [
    "plt.scatter(X[1:10000],Y[1:10000],color = 'black') # Mostrar resultados, los puntos\n",
    "plt.plot(X[1:10000],Y_pred[1:10000],color = 'blue') # Se añade la recta de regresión\n",
    "plt.show() # Se observa que el modelo es uno bueno para predecir este tipo de datos"
   ]
  },
  {
   "cell_type": "markdown",
   "id": "korean-parker",
   "metadata": {},
   "source": [
    "### Ajustar modelos cuando las variables regresoras (x) son categóricas"
   ]
  },
  {
   "cell_type": "code",
   "execution_count": 13,
   "id": "transparent-copper",
   "metadata": {},
   "outputs": [],
   "source": [
    "X = df[['AirTime','Distance','TaxiIn','TaxiOut']] # Conjunto de variables cuantitativas\n",
    "\n",
    "df['Month'] = df['Month'].apply(str) # Tratar a las variables como categóricas ya que no tienen una escala lógica\n",
    "df['DayofMonth'] = df['DayofMonth'].apply(str) # Convierte la columna en texto\n",
    "df['DayOfWeek'] = df['DayOfWeek'].apply(str)\n",
    "\n",
    "# Convertir en variables dummies\n",
    "# Una variable dummy es una variable que toma un valor uno o cero en función de si aparece la categoría que estamos estudiando.\n",
    "dummies = pd.get_dummies(data = df[['Month','DayofMonth','DayOfWeek','Origin','Dest']])\n",
    "x = dummies.add(X,fill_value = 0)"
   ]
  },
  {
   "cell_type": "code",
   "execution_count": 16,
   "id": "nonprofit-fight",
   "metadata": {},
   "outputs": [
    {
     "data": {
      "text/plain": [
       "Index(['AirTime', 'DayOfWeek_1', 'DayOfWeek_2', 'DayOfWeek_3', 'DayOfWeek_4',\n",
       "       'DayOfWeek_5', 'DayOfWeek_6', 'DayOfWeek_7', 'DayofMonth_1',\n",
       "       'DayofMonth_10',\n",
       "       ...\n",
       "       'Origin_VLD', 'Origin_VPS', 'Origin_WRG', 'Origin_WYS', 'Origin_XNA',\n",
       "       'Origin_YAK', 'Origin_YKM', 'Origin_YUM', 'TaxiIn', 'TaxiOut'],\n",
       "      dtype='object', length=652)"
      ]
     },
     "execution_count": 16,
     "metadata": {},
     "output_type": "execute_result"
    }
   ],
   "source": [
    "x.columns # Se obtiene una columna para cada origen, destino etc."
   ]
  },
  {
   "cell_type": "code",
   "execution_count": 17,
   "id": "pregnant-performer",
   "metadata": {},
   "outputs": [
    {
     "name": "stdout",
     "output_type": "stream",
     "text": [
      "R cuadrado:  0.1388084414738764\n"
     ]
    }
   ],
   "source": [
    "regr = linear_model.LinearRegression() # Ajustar el modelo con 650 variables\n",
    "regr.fit(X,Y)\n",
    "\n",
    "# print('Coeficientes: ', regr.coef_)\n",
    "Y_pred = regr.predict(X)\n",
    "print('R cuadrado: ', r2_score(Y, Y_pred))\n",
    "# Esta es una situación más realista porque son variables que se pueden controlar de antemano"
   ]
  },
  {
   "cell_type": "code",
   "execution_count": 18,
   "id": "executive-tracy",
   "metadata": {},
   "outputs": [],
   "source": [
    "X = X.add(df[['DepDelay']],fill_value = 0) # Añadir la columan del retraso de salida a todas las columnas en X"
   ]
  },
  {
   "cell_type": "code",
   "execution_count": 19,
   "id": "rising-rolling",
   "metadata": {},
   "outputs": [
    {
     "name": "stdout",
     "output_type": "stream",
     "text": [
      "R cuadrado:  0.9444252310211521\n"
     ]
    }
   ],
   "source": [
    "regr = linear_model.LinearRegression() # Volver a justar el modelo con toda la información generada\n",
    "regr.fit(X,Y)\n",
    "\n",
    "Y_pred = regr.predict(X)\n",
    "print(\"R cuadrado: \", r2_score(Y, Y_pred)) # Este modelo es prácticamente perfecto\n",
    "# Aquí se predicen internamente los datos\n",
    "\n"
   ]
  },
  {
   "cell_type": "markdown",
   "id": "declared-serial",
   "metadata": {},
   "source": [
    "Para ajustar un buen modelo, lo que deberíamos hacer en este caso, si lo que queremos es ver efectivamente cuál es el potencial explicativo o predictivo de este modelo, es usar nuevos datos y evaluar este modelo sobre ellos. Aquí lo que estamos haciendo es evaluar el modelo que hemos entrenado con estos datos sobre esos mismos datos, lo cual a veces puede llevar a sobreajustar los resultados."
   ]
  }
 ],
 "metadata": {
  "kernelspec": {
   "display_name": "Python 3",
   "language": "python",
   "name": "python3"
  },
  "language_info": {
   "codemirror_mode": {
    "name": "ipython",
    "version": 3
   },
   "file_extension": ".py",
   "mimetype": "text/x-python",
   "name": "python",
   "nbconvert_exporter": "python",
   "pygments_lexer": "ipython3",
   "version": "3.8.6"
  }
 },
 "nbformat": 4,
 "nbformat_minor": 5
}
