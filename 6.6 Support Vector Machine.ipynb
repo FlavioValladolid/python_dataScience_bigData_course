{
 "cells": [
  {
   "cell_type": "markdown",
   "id": "korean-serum",
   "metadata": {},
   "source": [
    "# Support vector machine\n",
    "\n",
    "Se trata de un método no probabilístico de clasificación binaria lineal o no lineal.\n",
    "\n",
    "Un resumen rápido de su funcionamiento es que divide los grupos de puntos mediante una recta intentando maximizar la distancia de los puntos más cercanos a la recta con esta por ambos lados.\n",
    "- En caso de no ser separables linealmente, el **support vector machine** aplica una transformación del espacio de variables basada en **kernel**."
   ]
  },
  {
   "cell_type": "markdown",
   "id": "strange-laugh",
   "metadata": {},
   "source": [
    "### Clasificación de datos categóricos"
   ]
  },
  {
   "cell_type": "code",
   "execution_count": 2,
   "id": "matched-harassment",
   "metadata": {},
   "outputs": [],
   "source": [
    "from sklearn.svm import SVC\n",
    "import numpy as np\n",
    "import pandas as pd\n",
    "\n",
    "df = pd.read_csv('.//base_datos_2008.csv')\n",
    "df = df.dropna(subset = ['ArrDelay'])       # Eliminar todos los datos faltantes con esta instrucción\n",
    "df = df.sample(frac = 1)                    # Remezclar la base de datos\n",
    "df_test = df.tail(1000)                     # Casos para el test\n",
    "df = df.head(1000)                          # Casos para el training"
   ]
  },
  {
   "cell_type": "code",
   "execution_count": 9,
   "id": "lyric-increase",
   "metadata": {},
   "outputs": [],
   "source": [
    "# Ajustando el modelo utilizando estas variables como predictoras\n",
    "X = df[['Distance','AirTime','DepTime','TaxiIn','TaxiOut','DepDelay']]\n",
    "\n",
    "# Mismas variables que la anterior\n",
    "X_test = df_test[['Distance','AirTime','DepTime','TaxiIn','TaxiOut','DepDelay']]\n",
    "\n",
    "# Generamos una respuesta categórica con todos los vuelos que se hayan retrasado por más de 10 minutos\n",
    "Y = df['ArrDelay'] > 10\n",
    "Y_test = df_test['ArrDelay'] > 10\n",
    "\n",
    "# Ajustar el Support Vector Machine\n",
    "# Se puede escoger muchos kernels, se recomienda el linear\n",
    "clf = SVC(kernel = 'linear') # kernel='linear'\n",
    "clf.fit(X,Y)\n",
    "\n",
    "Y_pred = clf.predict(X_test)\n",
    "# Parámetros principales para modificar el SVM\n",
    "# C / Kernel\n",
    "# C es un parámetro de regularización que controla el balance entre conseguir un error de training bajo y un error de training bajo\n",
    "# La selección del tipo de kernel que queremos usar para ajustar nuestros datos debería responder a algún criterio específico a alguna particularidad que haga más adecuado el uso de uno por encima de los demás en nuestros datos concretos\n",
    "\n",
    "# En la práctica,una opción habitual si lo que queremos es obtener un buen modelo predictivo, es usar la validación externa o, más interesante, la validació"
   ]
  },
  {
   "cell_type": "code",
   "execution_count": 6,
   "id": "romantic-circulation",
   "metadata": {},
   "outputs": [
    {
     "data": {
      "text/plain": [
       "0.775"
      ]
     },
     "execution_count": 6,
     "metadata": {},
     "output_type": "execute_result"
    }
   ],
   "source": [
    "# Ver el potencial predictivo\n",
    "np.mean(Y_pred == Y_test)\n",
    "# Clasifica correctamente el 77% porciento de los datos\n",
    "# Con un kernel lineal aumenta a un 90% lo cual es alto por la cantidad de datos"
   ]
  },
  {
   "cell_type": "code",
   "execution_count": null,
   "id": "individual-ready",
   "metadata": {},
   "outputs": [],
   "source": [
    "# http://scikit-learn.org/stable/modules/svm.html#svm-kernels\n",
    "\n",
    "# linear / poly / rbf / sigmoid -> Asociados a otros parámetros\n",
    "# Estos kernels están asociados a otros parámetros"
   ]
  },
  {
   "cell_type": "code",
   "execution_count": 7,
   "id": "annual-barrel",
   "metadata": {},
   "outputs": [],
   "source": [
    "# Si se desea ajustar \"support vector machines\" con kernels lineales se recomienda la siguiente función\n",
    "# Para kernels lineales -> LinearSVC()"
   ]
  }
 ],
 "metadata": {
  "kernelspec": {
   "display_name": "Python 3",
   "language": "python",
   "name": "python3"
  },
  "language_info": {
   "codemirror_mode": {
    "name": "ipython",
    "version": 3
   },
   "file_extension": ".py",
   "mimetype": "text/x-python",
   "name": "python",
   "nbconvert_exporter": "python",
   "pygments_lexer": "ipython3",
   "version": "3.8.6"
  }
 },
 "nbformat": 4,
 "nbformat_minor": 5
}
