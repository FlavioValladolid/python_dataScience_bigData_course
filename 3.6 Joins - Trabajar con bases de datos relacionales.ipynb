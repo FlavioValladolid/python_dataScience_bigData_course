{
 "metadata": {
  "language_info": {
   "codemirror_mode": {
    "name": "ipython",
    "version": 3
   },
   "file_extension": ".py",
   "mimetype": "text/x-python",
   "name": "python",
   "nbconvert_exporter": "python",
   "pygments_lexer": "ipython3",
   "version": "3.8.5-final"
  },
  "orig_nbformat": 2,
  "kernelspec": {
   "name": "python3",
   "display_name": "Python 3.8.5 64-bit (conda)",
   "metadata": {
    "interpreter": {
     "hash": "ed225720166559e7176d3793db16a2fd8d295f725007103b21ac3099d2a89ee8"
    }
   }
  }
 },
 "nbformat": 4,
 "nbformat_minor": 2,
 "cells": [
  {
   "source": [
    "# Joins. Trabajar con bases de datos relacionales\n",
    "\n",
    "Joins, unen distintas bases de datos en una misma estructura"
   ],
   "cell_type": "markdown",
   "metadata": {}
  },
  {
   "cell_type": "code",
   "execution_count": 1,
   "metadata": {},
   "outputs": [],
   "source": [
    "import pandas as pd\n",
    "consumidores = [('A','Móvil'),('B','Móvil'),('A','Portátil'),('A','Tablet'),\n",
    "                ('B','Tablet'),('C','Portátil'),('D','Smartwatch'),('E','Consola')]\n",
    "\n",
    "con_labels = ['Consumidor','Producto']\n",
    "\n",
    "con_df = pd.DataFrame.from_records(consumidores, columns = con_labels)\n",
    "\n",
    "productores = [('a','Móvil'),('a','Smartwatch'),('a','Tablet'),('b','Portatil'),\n",
    "                ('c','Sobremesa'),('c','Portátil')]\n",
    "\n",
    "prod_labels = ['Productor','Producto']\n",
    "\n",
    "prod_df = pd.DataFrame.from_records(productores,columns = prod_labels)"
   ]
  },
  {
   "cell_type": "code",
   "execution_count": 2,
   "metadata": {},
   "outputs": [
    {
     "output_type": "execute_result",
     "data": {
      "text/plain": [
       "  Consumidor    Producto\n",
       "0          A       Móvil\n",
       "1          B       Móvil\n",
       "2          A    Portátil\n",
       "3          A      Tablet\n",
       "4          B      Tablet\n",
       "5          C    Portátil\n",
       "6          D  Smartwatch\n",
       "7          E     Consola"
      ],
      "text/html": "<div>\n<style scoped>\n    .dataframe tbody tr th:only-of-type {\n        vertical-align: middle;\n    }\n\n    .dataframe tbody tr th {\n        vertical-align: top;\n    }\n\n    .dataframe thead th {\n        text-align: right;\n    }\n</style>\n<table border=\"1\" class=\"dataframe\">\n  <thead>\n    <tr style=\"text-align: right;\">\n      <th></th>\n      <th>Consumidor</th>\n      <th>Producto</th>\n    </tr>\n  </thead>\n  <tbody>\n    <tr>\n      <th>0</th>\n      <td>A</td>\n      <td>Móvil</td>\n    </tr>\n    <tr>\n      <th>1</th>\n      <td>B</td>\n      <td>Móvil</td>\n    </tr>\n    <tr>\n      <th>2</th>\n      <td>A</td>\n      <td>Portátil</td>\n    </tr>\n    <tr>\n      <th>3</th>\n      <td>A</td>\n      <td>Tablet</td>\n    </tr>\n    <tr>\n      <th>4</th>\n      <td>B</td>\n      <td>Tablet</td>\n    </tr>\n    <tr>\n      <th>5</th>\n      <td>C</td>\n      <td>Portátil</td>\n    </tr>\n    <tr>\n      <th>6</th>\n      <td>D</td>\n      <td>Smartwatch</td>\n    </tr>\n    <tr>\n      <th>7</th>\n      <td>E</td>\n      <td>Consola</td>\n    </tr>\n  </tbody>\n</table>\n</div>"
     },
     "metadata": {},
     "execution_count": 2
    }
   ],
   "source": [
    "con_df"
   ]
  },
  {
   "cell_type": "code",
   "execution_count": 3,
   "metadata": {},
   "outputs": [
    {
     "output_type": "execute_result",
     "data": {
      "text/plain": [
       "  Productor    Producto\n",
       "0         a       Móvil\n",
       "1         a  Smartwatch\n",
       "2         a      Tablet\n",
       "3         b    Portatil\n",
       "4         c   Sobremesa\n",
       "5         c    Portátil"
      ],
      "text/html": "<div>\n<style scoped>\n    .dataframe tbody tr th:only-of-type {\n        vertical-align: middle;\n    }\n\n    .dataframe tbody tr th {\n        vertical-align: top;\n    }\n\n    .dataframe thead th {\n        text-align: right;\n    }\n</style>\n<table border=\"1\" class=\"dataframe\">\n  <thead>\n    <tr style=\"text-align: right;\">\n      <th></th>\n      <th>Productor</th>\n      <th>Producto</th>\n    </tr>\n  </thead>\n  <tbody>\n    <tr>\n      <th>0</th>\n      <td>a</td>\n      <td>Móvil</td>\n    </tr>\n    <tr>\n      <th>1</th>\n      <td>a</td>\n      <td>Smartwatch</td>\n    </tr>\n    <tr>\n      <th>2</th>\n      <td>a</td>\n      <td>Tablet</td>\n    </tr>\n    <tr>\n      <th>3</th>\n      <td>b</td>\n      <td>Portatil</td>\n    </tr>\n    <tr>\n      <th>4</th>\n      <td>c</td>\n      <td>Sobremesa</td>\n    </tr>\n    <tr>\n      <th>5</th>\n      <td>c</td>\n      <td>Portátil</td>\n    </tr>\n  </tbody>\n</table>\n</div>"
     },
     "metadata": {},
     "execution_count": 3
    }
   ],
   "source": [
    "prod_df # El orden no es lo importante, sino la informacion contenida"
   ]
  },
  {
   "source": [
    "### Unir dos bases de datos con merge"
   ],
   "cell_type": "markdown",
   "metadata": {}
  },
  {
   "cell_type": "code",
   "execution_count": 5,
   "metadata": {},
   "outputs": [
    {
     "output_type": "execute_result",
     "data": {
      "text/plain": [
       "  Consumidor    Producto Productor\n",
       "0          A       Móvil         a\n",
       "1          B       Móvil         a\n",
       "2          A    Portátil         c\n",
       "3          C    Portátil         c\n",
       "4          A      Tablet         a\n",
       "5          B      Tablet         a\n",
       "6          D  Smartwatch         a\n",
       "7          E     Consola       NaN\n",
       "8        NaN    Portatil         b\n",
       "9        NaN   Sobremesa         c"
      ],
      "text/html": "<div>\n<style scoped>\n    .dataframe tbody tr th:only-of-type {\n        vertical-align: middle;\n    }\n\n    .dataframe tbody tr th {\n        vertical-align: top;\n    }\n\n    .dataframe thead th {\n        text-align: right;\n    }\n</style>\n<table border=\"1\" class=\"dataframe\">\n  <thead>\n    <tr style=\"text-align: right;\">\n      <th></th>\n      <th>Consumidor</th>\n      <th>Producto</th>\n      <th>Productor</th>\n    </tr>\n  </thead>\n  <tbody>\n    <tr>\n      <th>0</th>\n      <td>A</td>\n      <td>Móvil</td>\n      <td>a</td>\n    </tr>\n    <tr>\n      <th>1</th>\n      <td>B</td>\n      <td>Móvil</td>\n      <td>a</td>\n    </tr>\n    <tr>\n      <th>2</th>\n      <td>A</td>\n      <td>Portátil</td>\n      <td>c</td>\n    </tr>\n    <tr>\n      <th>3</th>\n      <td>C</td>\n      <td>Portátil</td>\n      <td>c</td>\n    </tr>\n    <tr>\n      <th>4</th>\n      <td>A</td>\n      <td>Tablet</td>\n      <td>a</td>\n    </tr>\n    <tr>\n      <th>5</th>\n      <td>B</td>\n      <td>Tablet</td>\n      <td>a</td>\n    </tr>\n    <tr>\n      <th>6</th>\n      <td>D</td>\n      <td>Smartwatch</td>\n      <td>a</td>\n    </tr>\n    <tr>\n      <th>7</th>\n      <td>E</td>\n      <td>Consola</td>\n      <td>NaN</td>\n    </tr>\n    <tr>\n      <th>8</th>\n      <td>NaN</td>\n      <td>Portatil</td>\n      <td>b</td>\n    </tr>\n    <tr>\n      <th>9</th>\n      <td>NaN</td>\n      <td>Sobremesa</td>\n      <td>c</td>\n    </tr>\n  </tbody>\n</table>\n</div>"
     },
     "metadata": {},
     "execution_count": 5
    }
   ],
   "source": [
    "### outer\n",
    "\n",
    "pd.merge(con_df,prod_df,on=\"Producto\",how=\"outer\")  # En on se especifica un nombre de columna, how especifica que tipo de join se va a usar\n",
    "# Si no se encuentra un producto en una tabla pone un NaN"
   ]
  },
  {
   "cell_type": "code",
   "execution_count": 6,
   "metadata": {},
   "outputs": [
    {
     "output_type": "execute_result",
     "data": {
      "text/plain": [
       "  Consumidor    Producto Productor\n",
       "0          A       Móvil         a\n",
       "1          B       Móvil         a\n",
       "2          A    Portátil         c\n",
       "3          C    Portátil         c\n",
       "4          A      Tablet         a\n",
       "5          B      Tablet         a\n",
       "6          D  Smartwatch         a"
      ],
      "text/html": "<div>\n<style scoped>\n    .dataframe tbody tr th:only-of-type {\n        vertical-align: middle;\n    }\n\n    .dataframe tbody tr th {\n        vertical-align: top;\n    }\n\n    .dataframe thead th {\n        text-align: right;\n    }\n</style>\n<table border=\"1\" class=\"dataframe\">\n  <thead>\n    <tr style=\"text-align: right;\">\n      <th></th>\n      <th>Consumidor</th>\n      <th>Producto</th>\n      <th>Productor</th>\n    </tr>\n  </thead>\n  <tbody>\n    <tr>\n      <th>0</th>\n      <td>A</td>\n      <td>Móvil</td>\n      <td>a</td>\n    </tr>\n    <tr>\n      <th>1</th>\n      <td>B</td>\n      <td>Móvil</td>\n      <td>a</td>\n    </tr>\n    <tr>\n      <th>2</th>\n      <td>A</td>\n      <td>Portátil</td>\n      <td>c</td>\n    </tr>\n    <tr>\n      <th>3</th>\n      <td>C</td>\n      <td>Portátil</td>\n      <td>c</td>\n    </tr>\n    <tr>\n      <th>4</th>\n      <td>A</td>\n      <td>Tablet</td>\n      <td>a</td>\n    </tr>\n    <tr>\n      <th>5</th>\n      <td>B</td>\n      <td>Tablet</td>\n      <td>a</td>\n    </tr>\n    <tr>\n      <th>6</th>\n      <td>D</td>\n      <td>Smartwatch</td>\n      <td>a</td>\n    </tr>\n  </tbody>\n</table>\n</div>"
     },
     "metadata": {},
     "execution_count": 6
    }
   ],
   "source": [
    "### inner\n",
    "\n",
    "pd.merge(con_df,prod_df,on=\"Producto\",how=\"inner\") # Omite el valor que no encuentra"
   ]
  },
  {
   "cell_type": "code",
   "execution_count": 7,
   "metadata": {},
   "outputs": [
    {
     "output_type": "execute_result",
     "data": {
      "text/plain": [
       "  Consumidor    Producto\n",
       "0          A       Móvil\n",
       "1          B       Móvil\n",
       "2          A    Portátil\n",
       "3          A      Tablet\n",
       "4          B      Tablet\n",
       "5          C    Portátil\n",
       "6          D  Smartwatch\n",
       "7          E     Consola"
      ],
      "text/html": "<div>\n<style scoped>\n    .dataframe tbody tr th:only-of-type {\n        vertical-align: middle;\n    }\n\n    .dataframe tbody tr th {\n        vertical-align: top;\n    }\n\n    .dataframe thead th {\n        text-align: right;\n    }\n</style>\n<table border=\"1\" class=\"dataframe\">\n  <thead>\n    <tr style=\"text-align: right;\">\n      <th></th>\n      <th>Consumidor</th>\n      <th>Producto</th>\n    </tr>\n  </thead>\n  <tbody>\n    <tr>\n      <th>0</th>\n      <td>A</td>\n      <td>Móvil</td>\n    </tr>\n    <tr>\n      <th>1</th>\n      <td>B</td>\n      <td>Móvil</td>\n    </tr>\n    <tr>\n      <th>2</th>\n      <td>A</td>\n      <td>Portátil</td>\n    </tr>\n    <tr>\n      <th>3</th>\n      <td>A</td>\n      <td>Tablet</td>\n    </tr>\n    <tr>\n      <th>4</th>\n      <td>B</td>\n      <td>Tablet</td>\n    </tr>\n    <tr>\n      <th>5</th>\n      <td>C</td>\n      <td>Portátil</td>\n    </tr>\n    <tr>\n      <th>6</th>\n      <td>D</td>\n      <td>Smartwatch</td>\n    </tr>\n    <tr>\n      <th>7</th>\n      <td>E</td>\n      <td>Consola</td>\n    </tr>\n  </tbody>\n</table>\n</div>"
     },
     "metadata": {},
     "execution_count": 7
    }
   ],
   "source": [
    "con_df"
   ]
  },
  {
   "cell_type": "code",
   "execution_count": 8,
   "metadata": {},
   "outputs": [
    {
     "output_type": "execute_result",
     "data": {
      "text/plain": [
       "  Productor    Producto\n",
       "0         a       Móvil\n",
       "1         a  Smartwatch\n",
       "2         a      Tablet\n",
       "3         b    Portatil\n",
       "4         c   Sobremesa\n",
       "5         c    Portátil"
      ],
      "text/html": "<div>\n<style scoped>\n    .dataframe tbody tr th:only-of-type {\n        vertical-align: middle;\n    }\n\n    .dataframe tbody tr th {\n        vertical-align: top;\n    }\n\n    .dataframe thead th {\n        text-align: right;\n    }\n</style>\n<table border=\"1\" class=\"dataframe\">\n  <thead>\n    <tr style=\"text-align: right;\">\n      <th></th>\n      <th>Productor</th>\n      <th>Producto</th>\n    </tr>\n  </thead>\n  <tbody>\n    <tr>\n      <th>0</th>\n      <td>a</td>\n      <td>Móvil</td>\n    </tr>\n    <tr>\n      <th>1</th>\n      <td>a</td>\n      <td>Smartwatch</td>\n    </tr>\n    <tr>\n      <th>2</th>\n      <td>a</td>\n      <td>Tablet</td>\n    </tr>\n    <tr>\n      <th>3</th>\n      <td>b</td>\n      <td>Portatil</td>\n    </tr>\n    <tr>\n      <th>4</th>\n      <td>c</td>\n      <td>Sobremesa</td>\n    </tr>\n    <tr>\n      <th>5</th>\n      <td>c</td>\n      <td>Portátil</td>\n    </tr>\n  </tbody>\n</table>\n</div>"
     },
     "metadata": {},
     "execution_count": 8
    }
   ],
   "source": [
    "prod_df"
   ]
  },
  {
   "cell_type": "code",
   "execution_count": 10,
   "metadata": {},
   "outputs": [
    {
     "output_type": "execute_result",
     "data": {
      "text/plain": [
       "  Consumidor    Producto Productor\n",
       "0          A       Móvil         a\n",
       "1          B       Móvil         a\n",
       "2          D  Smartwatch         a\n",
       "3          A      Tablet         a\n",
       "4          B      Tablet         a\n",
       "5        NaN    Portatil         b\n",
       "6        NaN   Sobremesa         c\n",
       "7          A    Portátil         c\n",
       "8          C    Portátil         c"
      ],
      "text/html": "<div>\n<style scoped>\n    .dataframe tbody tr th:only-of-type {\n        vertical-align: middle;\n    }\n\n    .dataframe tbody tr th {\n        vertical-align: top;\n    }\n\n    .dataframe thead th {\n        text-align: right;\n    }\n</style>\n<table border=\"1\" class=\"dataframe\">\n  <thead>\n    <tr style=\"text-align: right;\">\n      <th></th>\n      <th>Consumidor</th>\n      <th>Producto</th>\n      <th>Productor</th>\n    </tr>\n  </thead>\n  <tbody>\n    <tr>\n      <th>0</th>\n      <td>A</td>\n      <td>Móvil</td>\n      <td>a</td>\n    </tr>\n    <tr>\n      <th>1</th>\n      <td>B</td>\n      <td>Móvil</td>\n      <td>a</td>\n    </tr>\n    <tr>\n      <th>2</th>\n      <td>D</td>\n      <td>Smartwatch</td>\n      <td>a</td>\n    </tr>\n    <tr>\n      <th>3</th>\n      <td>A</td>\n      <td>Tablet</td>\n      <td>a</td>\n    </tr>\n    <tr>\n      <th>4</th>\n      <td>B</td>\n      <td>Tablet</td>\n      <td>a</td>\n    </tr>\n    <tr>\n      <th>5</th>\n      <td>NaN</td>\n      <td>Portatil</td>\n      <td>b</td>\n    </tr>\n    <tr>\n      <th>6</th>\n      <td>NaN</td>\n      <td>Sobremesa</td>\n      <td>c</td>\n    </tr>\n    <tr>\n      <th>7</th>\n      <td>A</td>\n      <td>Portátil</td>\n      <td>c</td>\n    </tr>\n    <tr>\n      <th>8</th>\n      <td>C</td>\n      <td>Portátil</td>\n      <td>c</td>\n    </tr>\n  </tbody>\n</table>\n</div>"
     },
     "metadata": {},
     "execution_count": 10
    }
   ],
   "source": [
    "pd.merge(con_df,prod_df,on=\"Producto\",how=\"right\") #Importa el orden\n",
    "# Une los data frames sole si encuentra la clave de la derecha"
   ]
  },
  {
   "cell_type": "code",
   "execution_count": 11,
   "metadata": {},
   "outputs": [
    {
     "output_type": "execute_result",
     "data": {
      "text/plain": [
       "  Consumidor    Producto Productor\n",
       "0          A       Móvil         a\n",
       "1          B       Móvil         a\n",
       "2          A    Portátil         c\n",
       "3          A      Tablet         a\n",
       "4          B      Tablet         a\n",
       "5          C    Portátil         c\n",
       "6          D  Smartwatch         a\n",
       "7          E     Consola       NaN"
      ],
      "text/html": "<div>\n<style scoped>\n    .dataframe tbody tr th:only-of-type {\n        vertical-align: middle;\n    }\n\n    .dataframe tbody tr th {\n        vertical-align: top;\n    }\n\n    .dataframe thead th {\n        text-align: right;\n    }\n</style>\n<table border=\"1\" class=\"dataframe\">\n  <thead>\n    <tr style=\"text-align: right;\">\n      <th></th>\n      <th>Consumidor</th>\n      <th>Producto</th>\n      <th>Productor</th>\n    </tr>\n  </thead>\n  <tbody>\n    <tr>\n      <th>0</th>\n      <td>A</td>\n      <td>Móvil</td>\n      <td>a</td>\n    </tr>\n    <tr>\n      <th>1</th>\n      <td>B</td>\n      <td>Móvil</td>\n      <td>a</td>\n    </tr>\n    <tr>\n      <th>2</th>\n      <td>A</td>\n      <td>Portátil</td>\n      <td>c</td>\n    </tr>\n    <tr>\n      <th>3</th>\n      <td>A</td>\n      <td>Tablet</td>\n      <td>a</td>\n    </tr>\n    <tr>\n      <th>4</th>\n      <td>B</td>\n      <td>Tablet</td>\n      <td>a</td>\n    </tr>\n    <tr>\n      <th>5</th>\n      <td>C</td>\n      <td>Portátil</td>\n      <td>c</td>\n    </tr>\n    <tr>\n      <th>6</th>\n      <td>D</td>\n      <td>Smartwatch</td>\n      <td>a</td>\n    </tr>\n    <tr>\n      <th>7</th>\n      <td>E</td>\n      <td>Consola</td>\n      <td>NaN</td>\n    </tr>\n  </tbody>\n</table>\n</div>"
     },
     "metadata": {},
     "execution_count": 11
    }
   ],
   "source": [
    "pd.merge(con_df,prod_df,on=\"Producto\",how=\"left\") # Busca la clave en la izquierda, si no lo encuentra pone un NaN"
   ]
  }
 ]
}