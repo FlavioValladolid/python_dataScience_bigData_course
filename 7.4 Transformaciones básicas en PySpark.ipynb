{
 "cells": [
  {
   "cell_type": "code",
   "execution_count": 1,
   "id": "banner-intranet",
   "metadata": {},
   "outputs": [],
   "source": [
    "from pyspark import SparkConf, SparkContext\n",
    "from pyspark.sql.types import StringType\n",
    "from pyspark import SQLContext\n",
    "import numpy as np\n",
    "\n",
    "# Crear nuestra configuración\n",
    "conf = SparkConf().setMaster('local').setAppName('Mi programa')\n",
    "# Generar los contextos\n",
    "sc = SparkContext(conf = conf)\n",
    "sqlContext = SQLContext(sc)\n",
    "\n",
    "# Cargar el dataframe\n",
    "dfspark = sqlContext.read.format('csv').option('header','true').option('inferSchema','true').load('./base_datos_2008.csv',nrows=1e6)\n",
    "# Seleccionar una pequeña fracción de los datos\n",
    "dfspark = dfspark.sample(fraction=0.001,withReplacement=False)\n",
    "# Transformar nuestra columna de interés (retraso en los vuelos), se transformará en un entero\n",
    "dfspark = dfspark.withColumn('ArrDelay', dfspark['ArrDelay'].cast('integer'))\n",
    "\n",
    "# Eliminar los datos faltantes\n",
    "df2 = dfspark.na.drop(subset=['ArrDelay','DepDelay','Distance'])\n",
    "# Eliminar los que estén clasificados como NULL\n",
    "df2 = df2.filter('ArrDelay is not NULL')\n",
    "df2 = df2.dropDuplicates()"
   ]
  },
  {
   "cell_type": "code",
   "execution_count": 2,
   "id": "lucky-sapphire",
   "metadata": {},
   "outputs": [
    {
     "data": {
      "text/plain": [
       "[Row(ArrDelay=107),\n",
       " Row(ArrDelay=123),\n",
       " Row(ArrDelay=96),\n",
       " Row(ArrDelay=73),\n",
       " Row(ArrDelay=178)]"
      ]
     },
     "execution_count": 2,
     "metadata": {},
     "output_type": "execute_result"
    }
   ],
   "source": [
    "# Filtrar nuestros datos dado un valor numérico\n",
    "# En formato texto se coloca el nombre de la columna que queremos filtrar, se selecciona aquellos valores que superen los 60 minutos\n",
    "# Para indicar que solo queremos los valores se usa el comando select\n",
    "# Con take se pide que nos de 5\n",
    "# con .take(1)[0] Nos da exactamente el valor\n",
    "df2.select('ArrDelay').filter('ArrDelay > 60').take(5)"
   ]
  },
  {
   "cell_type": "code",
   "execution_count": 3,
   "id": "severe-phone",
   "metadata": {},
   "outputs": [
    {
     "data": {
      "text/plain": [
       "[Row(Year=2008, Month=4, DayofMonth=11, DayOfWeek=5, DepTime='835', CRSDepTime=730, ArrTime='1159', CRSArrTime=1012, UniqueCarrier='CO', FlightNum=347, TailNum='N17345', ActualElapsedTime='204', CRSElapsedTime='162', AirTime='146', ArrDelay=107, DepDelay='65', Origin='ORD', Dest='IAH', Distance=925, TaxiIn='14', TaxiOut='44', Cancelled=0, CancellationCode=None, Diverted=0, CarrierDelay='65', WeatherDelay='0', NASDelay='42', SecurityDelay='0', LateAircraftDelay='0'),\n",
       " Row(Year=2008, Month=5, DayofMonth=31, DayOfWeek=6, DepTime='2032', CRSDepTime=1825, ArrTime='2311', CRSArrTime=2108, UniqueCarrier='DL', FlightNum=1874, TailNum='N664DN', ActualElapsedTime='159', CRSElapsedTime='163', AirTime='135', ArrDelay=123, DepDelay='127', Origin='MCO', Dest='BDL', Distance=1050, TaxiIn='7', TaxiOut='17', Cancelled=0, CancellationCode=None, Diverted=0, CarrierDelay='0', WeatherDelay='0', NASDelay='0', SecurityDelay='0', LateAircraftDelay='123'),\n",
       " Row(Year=2008, Month=6, DayofMonth=27, DayOfWeek=5, DepTime='1023', CRSDepTime=845, ArrTime='1141', CRSArrTime=1005, UniqueCarrier='CO', FlightNum=187, TailNum='N56859', ActualElapsedTime='138', CRSElapsedTime='140', AirTime='121', ArrDelay=96, DepDelay='98', Origin='MCO', Dest='IAH', Distance=853, TaxiIn='5', TaxiOut='12', Cancelled=0, CancellationCode=None, Diverted=0, CarrierDelay='96', WeatherDelay='0', NASDelay='0', SecurityDelay='0', LateAircraftDelay='0'),\n",
       " Row(Year=2008, Month=5, DayofMonth=7, DayOfWeek=3, DepTime='1251', CRSDepTime=1140, ArrTime='1413', CRSArrTime=1300, UniqueCarrier='WN', FlightNum=2524, TailNum='N261WN', ActualElapsedTime='82', CRSElapsedTime='80', AirTime='68', ArrDelay=73, DepDelay='71', Origin='OAK', Dest='SNA', Distance=371, TaxiIn='5', TaxiOut='9', Cancelled=0, CancellationCode=None, Diverted=0, CarrierDelay='71', WeatherDelay='0', NASDelay='2', SecurityDelay='0', LateAircraftDelay='0'),\n",
       " Row(Year=2008, Month=4, DayofMonth=4, DayOfWeek=5, DepTime='2145', CRSDepTime=1855, ArrTime='2345', CRSArrTime=2047, UniqueCarrier='DL', FlightNum=1452, TailNum='N636DL', ActualElapsedTime='120', CRSElapsedTime='112', AirTime='86', ArrDelay=178, DepDelay='170', Origin='ATL', Dest='FLL', Distance=581, TaxiIn='4', TaxiOut='30', Cancelled=0, CancellationCode=None, Diverted=0, CarrierDelay='27', WeatherDelay='0', NASDelay='8', SecurityDelay='0', LateAircraftDelay='143')]"
      ]
     },
     "execution_count": 3,
     "metadata": {},
     "output_type": "execute_result"
    }
   ],
   "source": [
    "# Si queremos cada una de las filas del data frame se ignora .select\n",
    "df2.filter(\"ArrDelay > 60\").take(5)\n"
   ]
  },
  {
   "cell_type": "code",
   "execution_count": 4,
   "id": "antique-teaching",
   "metadata": {},
   "outputs": [
    {
     "data": {
      "text/plain": [
       "[array([1.81283774]),\n",
       " array([336.59100317]),\n",
       " array([87.35550383]),\n",
       " array([214.72750557]),\n",
       " array([861.21216904]),\n",
       " array([1417.79234058]),\n",
       " array([128.74117035]),\n",
       " array([861.21216904]),\n",
       " array([21.65583818]),\n",
       " array([1494.09950732])]"
      ]
     },
     "execution_count": 4,
     "metadata": {},
     "output_type": "execute_result"
    }
   ],
   "source": [
    "# Crear un objeto, la media de la columna\n",
    "# Indica que recoja todos los valores de esta columna y se le aplique el método\n",
    "media = np.mean(df2.select('ArrDelay').collect())\n",
    "# Se le aplica una función a la columna utilizando el objeto rdd que almacena la columna\n",
    "# Se utiliza una función map que aplica una función lambda a cada uno de los elementos, calculando la distnacia al cuadrado de el valor menos la media\n",
    "# Se muestran los primeros 10 casos\n",
    "df2.select('ArrDelay').rdd.map(lambda x: (x - media)**2).take(10)"
   ]
  },
  {
   "cell_type": "code",
   "execution_count": 5,
   "id": "rubber-animal",
   "metadata": {},
   "outputs": [
    {
     "name": "stdout",
     "output_type": "stream",
     "text": [
      "+---------+-----+\n",
      "|DayOfWeek|count|\n",
      "+---------+-----+\n",
      "|        1| 1020|\n",
      "|        6|  815|\n",
      "|        3|  996|\n",
      "|        5| 1061|\n",
      "|        4|  966|\n",
      "|        7| 1007|\n",
      "|        2| 1014|\n",
      "+---------+-----+\n",
      "\n"
     ]
    }
   ],
   "source": [
    "# En PySpark también se utiliza groupBy\n",
    "# Se indica qué función descriptiva se requiere (.count() en este caso)\n",
    "# .show() para mostrar los datos\n",
    "\n",
    "df2.groupBy('DayOfWeek').count().show()"
   ]
  },
  {
   "cell_type": "code",
   "execution_count": 6,
   "id": "moral-mustang",
   "metadata": {},
   "outputs": [
    {
     "name": "stdout",
     "output_type": "stream",
     "text": [
      "+---------+------------------+\n",
      "|DayOfWeek|     avg(ArrDelay)|\n",
      "+---------+------------------+\n",
      "|        1| 6.337254901960784|\n",
      "|        6| 5.298159509202454|\n",
      "|        3| 5.809236947791165|\n",
      "|        5|10.162111215834118|\n",
      "|        4| 8.784679089026914|\n",
      "|        7|10.804369414101291|\n",
      "|        2|10.551282051282051|\n",
      "+---------+------------------+\n",
      "\n"
     ]
    }
   ],
   "source": [
    "# Encontrar resúmenes más interesantes\n",
    "# Se aplica otra función distinta, en este caso la media a otra columna del dataframe\n",
    "# Muestra una tabla resumen de cada uno de los días de la semana con la función que se pide\n",
    "df2.groupBy('DayOfWeek').mean('ArrDelay').show()"
   ]
  },
  {
   "cell_type": "code",
   "execution_count": 7,
   "id": "controversial-apartment",
   "metadata": {},
   "outputs": [
    {
     "data": {
      "text/plain": [
       "[Row(Origin='PIT'),\n",
       " Row(Origin='FSM'),\n",
       " Row(Origin='SMF'),\n",
       " Row(Origin='SPI'),\n",
       " Row(Origin='CWA')]"
      ]
     },
     "execution_count": 7,
     "metadata": {},
     "output_type": "execute_result"
    }
   ],
   "source": [
    "# Ver todos los origenes distintos que tenemos en nuestra base de datos\n",
    "# Se seleccionan los datos\n",
    "# Se selecciona el rdd asociado\n",
    "# Se aplica el método .distinct(), este muestra una lista de todos los origenes distintos que se tienen en la base de datos\n",
    "# Se muestran los primeros 5 (no están ordenados bajo ningún criterio)\n",
    "df2.select('Origin').rdd.distinct().take(5)"
   ]
  },
  {
   "cell_type": "code",
   "execution_count": 8,
   "id": "abroad-slovenia",
   "metadata": {},
   "outputs": [
    {
     "data": {
      "text/plain": [
       "246"
      ]
     },
     "execution_count": 8,
     "metadata": {},
     "output_type": "execute_result"
    }
   ],
   "source": [
    "# Similar al código anterior pero en este caso se utiliza count, que indicará cuántos índices distintos tenemos \n",
    "df2.select('Origin').rdd.distinct().count()"
   ]
  },
  {
   "cell_type": "code",
   "execution_count": 9,
   "id": "quantitative-fraud",
   "metadata": {
    "scrolled": true
   },
   "outputs": [
    {
     "data": {
      "text/plain": [
       "[Row(Year=2008, Month=4, DayofMonth=15, DayOfWeek=2, DepTime='1529', CRSDepTime=625, ArrTime='1703', CRSArrTime=759, UniqueCarrier='MQ', FlightNum=3932, TailNum='N638AE', ActualElapsedTime='94', CRSElapsedTime='94', AirTime='71', ArrDelay=544, DepDelay='544', Origin='SGF', Dest='ORD', Distance=438, TaxiIn='11', TaxiOut='12', Cancelled=0, CancellationCode=None, Diverted=0, CarrierDelay='544', WeatherDelay='0', NASDelay='0', SecurityDelay='0', LateAircraftDelay='0'),\n",
       " Row(Year=2008, Month=2, DayofMonth=6, DayOfWeek=3, DepTime='1641', CRSDepTime=810, ArrTime='1823', CRSArrTime=1005, UniqueCarrier='MQ', FlightNum=4253, TailNum='N908AE', ActualElapsedTime='102', CRSElapsedTime='115', AirTime='86', ArrDelay=498, DepDelay='511', Origin='ORD', Dest='ICT', Distance=588, TaxiIn='3', TaxiOut='13', Cancelled=0, CancellationCode=None, Diverted=0, CarrierDelay='0', WeatherDelay='498', NASDelay='0', SecurityDelay='0', LateAircraftDelay='0'),\n",
       " Row(Year=2008, Month=10, DayofMonth=25, DayOfWeek=6, DepTime='1645', CRSDepTime=930, ArrTime='1925', CRSArrTime=1220, UniqueCarrier='AA', FlightNum=802, TailNum='N3BMAA', ActualElapsedTime='100', CRSElapsedTime='110', AirTime='84', ArrDelay=425, DepDelay='435', Origin='DEN', Dest='DFW', Distance=641, TaxiIn='8', TaxiOut='8', Cancelled=0, CancellationCode=None, Diverted=0, CarrierDelay='425', WeatherDelay='0', NASDelay='0', SecurityDelay='0', LateAircraftDelay='0'),\n",
       " Row(Year=2008, Month=3, DayofMonth=30, DayOfWeek=7, DepTime='245', CRSDepTime=2000, ArrTime='642', CRSArrTime=2359, UniqueCarrier='AA', FlightNum=1742, TailNum='N073AA', ActualElapsedTime='237', CRSElapsedTime='239', AirTime='215', ArrDelay=403, DepDelay='405', Origin='SJU', Dest='JFK', Distance=1597, TaxiIn='10', TaxiOut='12', Cancelled=0, CancellationCode=None, Diverted=0, CarrierDelay='0', WeatherDelay='0', NASDelay='0', SecurityDelay='0', LateAircraftDelay='403'),\n",
       " Row(Year=2008, Month=12, DayofMonth=23, DayOfWeek=2, DepTime='1936', CRSDepTime=1310, ArrTime='2157', CRSArrTime=1515, UniqueCarrier='WN', FlightNum=1726, TailNum='N769SW', ActualElapsedTime='261', CRSElapsedTime='245', AirTime='219', ArrDelay=402, DepDelay='386', Origin='MDW', Dest='LAS', Distance=1521, TaxiIn='5', TaxiOut='37', Cancelled=0, CancellationCode=None, Diverted=0, CarrierDelay='0', WeatherDelay='34', NASDelay='16', SecurityDelay='0', LateAircraftDelay='352')]"
      ]
     },
     "execution_count": 9,
     "metadata": {},
     "output_type": "execute_result"
    }
   ],
   "source": [
    "# Pedir que se ordene el DataFrame por alguna de las columnas que tengamos\n",
    "# Se selecciona ArrDelay y pedir que lo haga de manera descendentes y toma las 5 primeras\n",
    "df2.orderBy(df2.ArrDelay.desc()).take(5)\n",
    "# Muestra los vuelos que más se han retrasado"
   ]
  }
 ],
 "metadata": {
  "kernelspec": {
   "display_name": "Python 3",
   "language": "python",
   "name": "python3"
  },
  "language_info": {
   "codemirror_mode": {
    "name": "ipython",
    "version": 3
   },
   "file_extension": ".py",
   "mimetype": "text/x-python",
   "name": "python",
   "nbconvert_exporter": "python",
   "pygments_lexer": "ipython3",
   "version": "3.8.6"
  }
 },
 "nbformat": 4,
 "nbformat_minor": 5
}
