{
 "cells": [
  {
   "cell_type": "markdown",
   "id": "looking-corpus",
   "metadata": {},
   "source": [
    "# Árboles de clasificación y regresión\n",
    "\n",
    "Árboles de clasificación -> Datos categóricos\n",
    "\n",
    "Árboles de regresión -> Datos numéricos.\n",
    "\n",
    "### Arboles de clasificación\n",
    "La idea principal detrás de los aŕboles de clasificación es seleccionar la variable que sea más explicativa a la hora de partir todos los casos de los que disponemos en dos grupos y generar dos ramas.\n",
    "Por ejemplo.\n",
    "- Queremos estudiar la relación entre un grpo de variables y el hecho de que un vuelo se retrase o no.\n",
    "- El árbol de clasificación va a buscar entre todas las variables y seleccionar la partición basada en una sola variable que explique mejor los retrasos en los vuelos.\n",
    "- Al estudiar la relación entre un grupo de variables y seleccionar la partición basada en una sola variable que explique mejor los retrasos en los vuelos.\n",
    "    - Es decir, aquella que deje una mayor proporción de vuelos con retraso en una rama y vuelos sin retraso en la otra.\n",
    "    \n",
    "    \n",
    "Una de las principales ventajas de este modelo es que permite una lectura muy sencilla del proceso de clasificación, ya que los pasos que sigue el modelo son muy humanos.\n",
    "-  Ya que toma decisiones secuenciales para grupos de datos, creando particiones cada vez más pequeñas y precisas.\n",
    "\n",
    "### Árbol de regresión\n",
    "Los modelos de regresión, que siguen exactamente el mismo procedimiento pero en vez de buscar la mayor proporción de una categoría en cada rama buscan un valor que divida entre dos grupos, minimizando el \"mean squared error\" dentro de cada rama. Así, por ejemplo, si queremos predecir los minutos de retraso de un vuelo en vez de si el vuelo se va a retrasar o no, el modelo separaría entre los vuelos que salen antes de las seis de la tarde, con una media de 10 minutos de retraso, y los que salen después, con una media de 30 minutos."
   ]
  },
  {
   "cell_type": "code",
   "execution_count": 2,
   "id": "empty-poland",
   "metadata": {},
   "outputs": [],
   "source": [
    "from sklearn import tree\n",
    "import numpy as np\n",
    "import pandas as pd\n",
    "from sklearn.metrics import r2_score\n",
    "\n",
    "df = pd.read_csv(r\"/home/flavioisay/MEGAsync/Python para data science y big data esencial/base_datos_2008.csv\")\n",
    "df = df.dropna(subset=['ArrDelay'])\n",
    "df = df.sample(frac=1)\n",
    "# Se parte en dos DataFrames\n",
    "dftest = df.tail(500000) #  Último medio millón de casos\n",
    "df = df.head(500000) # Primer medio millón de casos"
   ]
  },
  {
   "cell_type": "code",
   "execution_count": 3,
   "id": "individual-allergy",
   "metadata": {},
   "outputs": [],
   "source": [
    "# Ajustar árbol de clasificación\n",
    "clf = tree.DecisionTreeClassifier()\n",
    "\n",
    "X = df[['Distance','AirTime','DepTime','TaxiIn','TaxiOut','DepDelay']]\n",
    "X_test = dftest[['Distance','AirTime','DepTime','TaxiIn','TaxiOut','DepDelay']]\n",
    "Y = df['ArrDelay'] > 10\n",
    "Y_test = dftest['ArrDelay'] > 10\n",
    "\n",
    "# Entrenar el objeto clf con el método fit (variable regresora, variable respuesta)\n",
    "clf = clf.fit(X,Y)\n",
    "Y_pred = clf.predict(X)\n",
    "Y_pred_test = clf.predict(X_test)\n",
    "\n",
    "# max_depth , min_samples_split / min_samples_leaf , max_features\n",
    "# max_depth, es la profundidad máxima que le permitimos a nuestro modelo llegar, por ejemplo, como máximo 1000 ramas para abajo\n",
    "# min_samples_split, mínimo número de casos que aceptamos en cada una de las particiones, por ejemplo, si no queremos que haya particiones con menos de 10 casos, se puede forzar aquí\n",
    "# max_features, forzar el modelo a no usar todas las variables que le metemos, es posible decirle que como mucho, queremos que aparezcan, 10 si tenemos 20, o un porcentaje"
   ]
  },
  {
   "cell_type": "code",
   "execution_count": 4,
   "id": "civil-football",
   "metadata": {},
   "outputs": [
    {
     "data": {
      "text/plain": [
       "0.999996"
      ]
     },
     "execution_count": 4,
     "metadata": {},
     "output_type": "execute_result"
    }
   ],
   "source": [
    "np.mean(Y == Y_pred) # Está clasificando correctamente los datos\n",
    "# El modelo sobreajusta los datos\n",
    "# Es decir, crea un árbol que predice perfectamente cada una de las observaciones que tenemos\n",
    "# Esto se trata de evitar, por eso se crearon los dos dataframes del inicio.\n",
    "# X_test y Y_test, son los datos guardados para evaluar cómo funciona el modelo\n",
    "# A lo anterior se le llama validación externa"
   ]
  },
  {
   "cell_type": "code",
   "execution_count": 6,
   "id": "champion-twelve",
   "metadata": {},
   "outputs": [
    {
     "data": {
      "text/plain": [
       "0.89363"
      ]
     },
     "execution_count": 6,
     "metadata": {},
     "output_type": "execute_result"
    }
   ],
   "source": [
    "np.mean(Y_test == Y_pred_test) # Funciona pero no predice también como anteriormente\n"
   ]
  },
  {
   "cell_type": "code",
   "execution_count": 7,
   "id": "entertaining-infection",
   "metadata": {},
   "outputs": [
    {
     "name": "stdout",
     "output_type": "stream",
     "text": [
      "R cuadrado:  0.9999988837404525\n",
      "R cuadrado test:  0.8962973805842132\n"
     ]
    }
   ],
   "source": [
    "### Para una respuesta numérica\n",
    "clf = tree.DecisionTreeRegressor()\n",
    "\n",
    "Y = df['ArrDelay'] # Respuesta numérica, minitos que se han retrasado los vuelos\n",
    "\n",
    "Y_test = dftest['ArrDelay']\n",
    "\n",
    "# Entrenar modelo, las variables regresoras son las mismas que la anterior\n",
    "clf = clf.fit(X,Y)\n",
    "# Crear unas predicciones para los datos internos\n",
    "Y_pred = clf.predict(X)\n",
    "# Prediccions para los datos externos\n",
    "Y_pred_test = clf.predict(X_test)\n",
    "\n",
    "# Métrica de comparación, r2, que es el porcentaje de varianza explicada por el modelo\n",
    "print('R cuadrado: ', r2_score(Y, Y_pred))\n",
    "print('R cuadrado test: ', r2_score(Y_test,Y_pred_test))"
   ]
  }
 ],
 "metadata": {
  "kernelspec": {
   "display_name": "Python 3",
   "language": "python",
   "name": "python3"
  },
  "language_info": {
   "codemirror_mode": {
    "name": "ipython",
    "version": 3
   },
   "file_extension": ".py",
   "mimetype": "text/x-python",
   "name": "python",
   "nbconvert_exporter": "python",
   "pygments_lexer": "ipython3",
   "version": "3.8.6"
  }
 },
 "nbformat": 4,
 "nbformat_minor": 5
}
