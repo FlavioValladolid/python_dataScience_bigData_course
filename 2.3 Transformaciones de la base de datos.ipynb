{
 "metadata": {
  "language_info": {
   "codemirror_mode": {
    "name": "ipython",
    "version": 3
   },
   "file_extension": ".py",
   "mimetype": "text/x-python",
   "name": "python",
   "nbconvert_exporter": "python",
   "pygments_lexer": "ipython3",
   "version": "3.8.5-final"
  },
  "orig_nbformat": 2,
  "kernelspec": {
   "name": "python3",
   "display_name": "Python 3.8.5 64-bit (conda)",
   "metadata": {
    "interpreter": {
     "hash": "ed225720166559e7176d3793db16a2fd8d295f725007103b21ac3099d2a89ee8"
    }
   }
  }
 },
 "nbformat": 4,
 "nbformat_minor": 2,
 "cells": [
  {
   "source": [
    "# Transformaciones de la base de datos\n",
    "\n",
    "Es una modificación de la estructura de nuestra base de datos. Por ejemplo\n",
    "- Añadir filas.\n",
    "- Quitar filas.\n",
    "- etc.\n"
   ],
   "cell_type": "markdown",
   "metadata": {}
  },
  {
   "cell_type": "code",
   "execution_count": 1,
   "metadata": {},
   "outputs": [],
   "source": [
    "import pandas as pd\n",
    "\n",
    "df = pd.read_csv(r\"C:\\Users\\Flavio Isay\\Documents\\MEGAsync\\Cursos\\Python para data science y big data esencial\\base_datos_2008.csv\")\n"
   ]
  },
  {
   "source": [
    "### Crear una columna nueva"
   ],
   "cell_type": "markdown",
   "metadata": {}
  },
  {
   "cell_type": "code",
   "execution_count": 2,
   "metadata": {},
   "outputs": [],
   "source": [
    "# Dar un nombre a la columna nueva, es el redonde de la columna ArrDelay dividida por 60\n",
    "df['HoursDelay'] = round(df['ArrDelay'] / 60)"
   ]
  },
  {
   "cell_type": "code",
   "execution_count": 3,
   "metadata": {},
   "outputs": [
    {
     "output_type": "execute_result",
     "data": {
      "text/plain": [
       "0   -0.0\n",
       "1    0.0\n",
       "2    0.0\n",
       "3   -0.0\n",
       "4    1.0\n",
       "Name: HoursDelay, dtype: float64"
      ]
     },
     "metadata": {},
     "execution_count": 3
    }
   ],
   "source": [
    "# Mostrar columna\n",
    "df['HoursDelay'].head()"
   ]
  },
  {
   "source": [
    "Python entiende que un redondeo por debajo de 0 lleva el signo negativo, pero será un cero en los cálculos"
   ],
   "cell_type": "markdown",
   "metadata": {}
  },
  {
   "source": [
    "### Eliminar una columna"
   ],
   "cell_type": "markdown",
   "metadata": {}
  },
  {
   "cell_type": "code",
   "execution_count": 4,
   "metadata": {},
   "outputs": [],
   "source": [
    "del(df[\"HoursDelay\"])"
   ]
  },
  {
   "cell_type": "code",
   "execution_count": 5,
   "metadata": {},
   "outputs": [
    {
     "output_type": "execute_result",
     "data": {
      "text/plain": [
       "   Year  Month  DayofMonth  DayOfWeek  DepTime  CRSDepTime  ArrTime  \\\n",
       "0  2008      1           3          4   2003.0        1955   2211.0   \n",
       "1  2008      1           3          4    754.0         735   1002.0   \n",
       "2  2008      1           3          4    628.0         620    804.0   \n",
       "3  2008      1           3          4    926.0         930   1054.0   \n",
       "4  2008      1           3          4   1829.0        1755   1959.0   \n",
       "\n",
       "   CRSArrTime UniqueCarrier  FlightNum  ... TaxiIn  TaxiOut  Cancelled  \\\n",
       "0        2225            WN        335  ...    4.0      8.0          0   \n",
       "1        1000            WN       3231  ...    5.0     10.0          0   \n",
       "2         750            WN        448  ...    3.0     17.0          0   \n",
       "3        1100            WN       1746  ...    3.0      7.0          0   \n",
       "4        1925            WN       3920  ...    3.0     10.0          0   \n",
       "\n",
       "   CancellationCode  Diverted  CarrierDelay WeatherDelay NASDelay  \\\n",
       "0               NaN         0           NaN          NaN      NaN   \n",
       "1               NaN         0           NaN          NaN      NaN   \n",
       "2               NaN         0           NaN          NaN      NaN   \n",
       "3               NaN         0           NaN          NaN      NaN   \n",
       "4               NaN         0           2.0          0.0      0.0   \n",
       "\n",
       "   SecurityDelay  LateAircraftDelay  \n",
       "0            NaN                NaN  \n",
       "1            NaN                NaN  \n",
       "2            NaN                NaN  \n",
       "3            NaN                NaN  \n",
       "4            0.0               32.0  \n",
       "\n",
       "[5 rows x 29 columns]"
      ],
      "text/html": "<div>\n<style scoped>\n    .dataframe tbody tr th:only-of-type {\n        vertical-align: middle;\n    }\n\n    .dataframe tbody tr th {\n        vertical-align: top;\n    }\n\n    .dataframe thead th {\n        text-align: right;\n    }\n</style>\n<table border=\"1\" class=\"dataframe\">\n  <thead>\n    <tr style=\"text-align: right;\">\n      <th></th>\n      <th>Year</th>\n      <th>Month</th>\n      <th>DayofMonth</th>\n      <th>DayOfWeek</th>\n      <th>DepTime</th>\n      <th>CRSDepTime</th>\n      <th>ArrTime</th>\n      <th>CRSArrTime</th>\n      <th>UniqueCarrier</th>\n      <th>FlightNum</th>\n      <th>...</th>\n      <th>TaxiIn</th>\n      <th>TaxiOut</th>\n      <th>Cancelled</th>\n      <th>CancellationCode</th>\n      <th>Diverted</th>\n      <th>CarrierDelay</th>\n      <th>WeatherDelay</th>\n      <th>NASDelay</th>\n      <th>SecurityDelay</th>\n      <th>LateAircraftDelay</th>\n    </tr>\n  </thead>\n  <tbody>\n    <tr>\n      <th>0</th>\n      <td>2008</td>\n      <td>1</td>\n      <td>3</td>\n      <td>4</td>\n      <td>2003.0</td>\n      <td>1955</td>\n      <td>2211.0</td>\n      <td>2225</td>\n      <td>WN</td>\n      <td>335</td>\n      <td>...</td>\n      <td>4.0</td>\n      <td>8.0</td>\n      <td>0</td>\n      <td>NaN</td>\n      <td>0</td>\n      <td>NaN</td>\n      <td>NaN</td>\n      <td>NaN</td>\n      <td>NaN</td>\n      <td>NaN</td>\n    </tr>\n    <tr>\n      <th>1</th>\n      <td>2008</td>\n      <td>1</td>\n      <td>3</td>\n      <td>4</td>\n      <td>754.0</td>\n      <td>735</td>\n      <td>1002.0</td>\n      <td>1000</td>\n      <td>WN</td>\n      <td>3231</td>\n      <td>...</td>\n      <td>5.0</td>\n      <td>10.0</td>\n      <td>0</td>\n      <td>NaN</td>\n      <td>0</td>\n      <td>NaN</td>\n      <td>NaN</td>\n      <td>NaN</td>\n      <td>NaN</td>\n      <td>NaN</td>\n    </tr>\n    <tr>\n      <th>2</th>\n      <td>2008</td>\n      <td>1</td>\n      <td>3</td>\n      <td>4</td>\n      <td>628.0</td>\n      <td>620</td>\n      <td>804.0</td>\n      <td>750</td>\n      <td>WN</td>\n      <td>448</td>\n      <td>...</td>\n      <td>3.0</td>\n      <td>17.0</td>\n      <td>0</td>\n      <td>NaN</td>\n      <td>0</td>\n      <td>NaN</td>\n      <td>NaN</td>\n      <td>NaN</td>\n      <td>NaN</td>\n      <td>NaN</td>\n    </tr>\n    <tr>\n      <th>3</th>\n      <td>2008</td>\n      <td>1</td>\n      <td>3</td>\n      <td>4</td>\n      <td>926.0</td>\n      <td>930</td>\n      <td>1054.0</td>\n      <td>1100</td>\n      <td>WN</td>\n      <td>1746</td>\n      <td>...</td>\n      <td>3.0</td>\n      <td>7.0</td>\n      <td>0</td>\n      <td>NaN</td>\n      <td>0</td>\n      <td>NaN</td>\n      <td>NaN</td>\n      <td>NaN</td>\n      <td>NaN</td>\n      <td>NaN</td>\n    </tr>\n    <tr>\n      <th>4</th>\n      <td>2008</td>\n      <td>1</td>\n      <td>3</td>\n      <td>4</td>\n      <td>1829.0</td>\n      <td>1755</td>\n      <td>1959.0</td>\n      <td>1925</td>\n      <td>WN</td>\n      <td>3920</td>\n      <td>...</td>\n      <td>3.0</td>\n      <td>10.0</td>\n      <td>0</td>\n      <td>NaN</td>\n      <td>0</td>\n      <td>2.0</td>\n      <td>0.0</td>\n      <td>0.0</td>\n      <td>0.0</td>\n      <td>32.0</td>\n    </tr>\n  </tbody>\n</table>\n<p>5 rows × 29 columns</p>\n</div>"
     },
     "metadata": {},
     "execution_count": 5
    }
   ],
   "source": [
    "df.head()"
   ]
  },
  {
   "source": [
    "### Borrar varias columnas a la vez"
   ],
   "cell_type": "markdown",
   "metadata": {}
  },
  {
   "cell_type": "code",
   "execution_count": 6,
   "metadata": {},
   "outputs": [],
   "source": [
    "df = df.drop(['Diverted','Cancelled','Year'], axis = 1) # Especificar donde se quiere borrar con el eje (axis = 1)"
   ]
  },
  {
   "cell_type": "code",
   "execution_count": 9,
   "metadata": {},
   "outputs": [
    {
     "output_type": "error",
     "ename": "KeyError",
     "evalue": "\"['Diverted' 'Cancelled' 'Year'] not found in axis\"",
     "traceback": [
      "\u001b[1;31m---------------------------------------------------------------------------\u001b[0m",
      "\u001b[1;31mKeyError\u001b[0m                                  Traceback (most recent call last)",
      "\u001b[1;32m<ipython-input-9-9ce5dd34f643>\u001b[0m in \u001b[0;36m<module>\u001b[1;34m\u001b[0m\n\u001b[1;32m----> 1\u001b[1;33m \u001b[0mdf\u001b[0m\u001b[1;33m.\u001b[0m\u001b[0mdrop\u001b[0m\u001b[1;33m(\u001b[0m\u001b[1;33m[\u001b[0m\u001b[1;34m'Diverted'\u001b[0m\u001b[1;33m,\u001b[0m\u001b[1;34m'Cancelled'\u001b[0m\u001b[1;33m,\u001b[0m\u001b[1;34m'Year'\u001b[0m\u001b[1;33m]\u001b[0m\u001b[1;33m,\u001b[0m \u001b[0maxis\u001b[0m \u001b[1;33m=\u001b[0m \u001b[1;36m1\u001b[0m\u001b[1;33m,\u001b[0m \u001b[0minplace\u001b[0m \u001b[1;33m=\u001b[0m \u001b[1;32mTrue\u001b[0m\u001b[1;33m)\u001b[0m \u001b[1;31m# inplace indica que borrara en el mismo objeto donde se aplica la funcion se borrara\u001b[0m\u001b[1;33m\u001b[0m\u001b[1;33m\u001b[0m\u001b[0m\n\u001b[0m",
      "\u001b[1;32mC:\\Anaconda\\lib\\site-packages\\pandas\\core\\frame.py\u001b[0m in \u001b[0;36mdrop\u001b[1;34m(self, labels, axis, index, columns, level, inplace, errors)\u001b[0m\n\u001b[0;32m   4161\u001b[0m                 \u001b[0mweight\u001b[0m  \u001b[1;36m1.0\u001b[0m     \u001b[1;36m0.8\u001b[0m\u001b[1;33m\u001b[0m\u001b[1;33m\u001b[0m\u001b[0m\n\u001b[0;32m   4162\u001b[0m         \"\"\"\n\u001b[1;32m-> 4163\u001b[1;33m         return super().drop(\n\u001b[0m\u001b[0;32m   4164\u001b[0m             \u001b[0mlabels\u001b[0m\u001b[1;33m=\u001b[0m\u001b[0mlabels\u001b[0m\u001b[1;33m,\u001b[0m\u001b[1;33m\u001b[0m\u001b[1;33m\u001b[0m\u001b[0m\n\u001b[0;32m   4165\u001b[0m             \u001b[0maxis\u001b[0m\u001b[1;33m=\u001b[0m\u001b[0maxis\u001b[0m\u001b[1;33m,\u001b[0m\u001b[1;33m\u001b[0m\u001b[1;33m\u001b[0m\u001b[0m\n",
      "\u001b[1;32mC:\\Anaconda\\lib\\site-packages\\pandas\\core\\generic.py\u001b[0m in \u001b[0;36mdrop\u001b[1;34m(self, labels, axis, index, columns, level, inplace, errors)\u001b[0m\n\u001b[0;32m   3885\u001b[0m         \u001b[1;32mfor\u001b[0m \u001b[0maxis\u001b[0m\u001b[1;33m,\u001b[0m \u001b[0mlabels\u001b[0m \u001b[1;32min\u001b[0m \u001b[0maxes\u001b[0m\u001b[1;33m.\u001b[0m\u001b[0mitems\u001b[0m\u001b[1;33m(\u001b[0m\u001b[1;33m)\u001b[0m\u001b[1;33m:\u001b[0m\u001b[1;33m\u001b[0m\u001b[1;33m\u001b[0m\u001b[0m\n\u001b[0;32m   3886\u001b[0m             \u001b[1;32mif\u001b[0m \u001b[0mlabels\u001b[0m \u001b[1;32mis\u001b[0m \u001b[1;32mnot\u001b[0m \u001b[1;32mNone\u001b[0m\u001b[1;33m:\u001b[0m\u001b[1;33m\u001b[0m\u001b[1;33m\u001b[0m\u001b[0m\n\u001b[1;32m-> 3887\u001b[1;33m                 \u001b[0mobj\u001b[0m \u001b[1;33m=\u001b[0m \u001b[0mobj\u001b[0m\u001b[1;33m.\u001b[0m\u001b[0m_drop_axis\u001b[0m\u001b[1;33m(\u001b[0m\u001b[0mlabels\u001b[0m\u001b[1;33m,\u001b[0m \u001b[0maxis\u001b[0m\u001b[1;33m,\u001b[0m \u001b[0mlevel\u001b[0m\u001b[1;33m=\u001b[0m\u001b[0mlevel\u001b[0m\u001b[1;33m,\u001b[0m \u001b[0merrors\u001b[0m\u001b[1;33m=\u001b[0m\u001b[0merrors\u001b[0m\u001b[1;33m)\u001b[0m\u001b[1;33m\u001b[0m\u001b[1;33m\u001b[0m\u001b[0m\n\u001b[0m\u001b[0;32m   3888\u001b[0m \u001b[1;33m\u001b[0m\u001b[0m\n\u001b[0;32m   3889\u001b[0m         \u001b[1;32mif\u001b[0m \u001b[0minplace\u001b[0m\u001b[1;33m:\u001b[0m\u001b[1;33m\u001b[0m\u001b[1;33m\u001b[0m\u001b[0m\n",
      "\u001b[1;32mC:\\Anaconda\\lib\\site-packages\\pandas\\core\\generic.py\u001b[0m in \u001b[0;36m_drop_axis\u001b[1;34m(self, labels, axis, level, errors)\u001b[0m\n\u001b[0;32m   3919\u001b[0m                 \u001b[0mnew_axis\u001b[0m \u001b[1;33m=\u001b[0m \u001b[0maxis\u001b[0m\u001b[1;33m.\u001b[0m\u001b[0mdrop\u001b[0m\u001b[1;33m(\u001b[0m\u001b[0mlabels\u001b[0m\u001b[1;33m,\u001b[0m \u001b[0mlevel\u001b[0m\u001b[1;33m=\u001b[0m\u001b[0mlevel\u001b[0m\u001b[1;33m,\u001b[0m \u001b[0merrors\u001b[0m\u001b[1;33m=\u001b[0m\u001b[0merrors\u001b[0m\u001b[1;33m)\u001b[0m\u001b[1;33m\u001b[0m\u001b[1;33m\u001b[0m\u001b[0m\n\u001b[0;32m   3920\u001b[0m             \u001b[1;32melse\u001b[0m\u001b[1;33m:\u001b[0m\u001b[1;33m\u001b[0m\u001b[1;33m\u001b[0m\u001b[0m\n\u001b[1;32m-> 3921\u001b[1;33m                 \u001b[0mnew_axis\u001b[0m \u001b[1;33m=\u001b[0m \u001b[0maxis\u001b[0m\u001b[1;33m.\u001b[0m\u001b[0mdrop\u001b[0m\u001b[1;33m(\u001b[0m\u001b[0mlabels\u001b[0m\u001b[1;33m,\u001b[0m \u001b[0merrors\u001b[0m\u001b[1;33m=\u001b[0m\u001b[0merrors\u001b[0m\u001b[1;33m)\u001b[0m\u001b[1;33m\u001b[0m\u001b[1;33m\u001b[0m\u001b[0m\n\u001b[0m\u001b[0;32m   3922\u001b[0m             \u001b[0mresult\u001b[0m \u001b[1;33m=\u001b[0m \u001b[0mself\u001b[0m\u001b[1;33m.\u001b[0m\u001b[0mreindex\u001b[0m\u001b[1;33m(\u001b[0m\u001b[1;33m**\u001b[0m\u001b[1;33m{\u001b[0m\u001b[0maxis_name\u001b[0m\u001b[1;33m:\u001b[0m \u001b[0mnew_axis\u001b[0m\u001b[1;33m}\u001b[0m\u001b[1;33m)\u001b[0m\u001b[1;33m\u001b[0m\u001b[1;33m\u001b[0m\u001b[0m\n\u001b[0;32m   3923\u001b[0m \u001b[1;33m\u001b[0m\u001b[0m\n",
      "\u001b[1;32mC:\\Anaconda\\lib\\site-packages\\pandas\\core\\indexes\\base.py\u001b[0m in \u001b[0;36mdrop\u001b[1;34m(self, labels, errors)\u001b[0m\n\u001b[0;32m   5280\u001b[0m         \u001b[1;32mif\u001b[0m \u001b[0mmask\u001b[0m\u001b[1;33m.\u001b[0m\u001b[0many\u001b[0m\u001b[1;33m(\u001b[0m\u001b[1;33m)\u001b[0m\u001b[1;33m:\u001b[0m\u001b[1;33m\u001b[0m\u001b[1;33m\u001b[0m\u001b[0m\n\u001b[0;32m   5281\u001b[0m             \u001b[1;32mif\u001b[0m \u001b[0merrors\u001b[0m \u001b[1;33m!=\u001b[0m \u001b[1;34m\"ignore\"\u001b[0m\u001b[1;33m:\u001b[0m\u001b[1;33m\u001b[0m\u001b[1;33m\u001b[0m\u001b[0m\n\u001b[1;32m-> 5282\u001b[1;33m                 \u001b[1;32mraise\u001b[0m \u001b[0mKeyError\u001b[0m\u001b[1;33m(\u001b[0m\u001b[1;34mf\"{labels[mask]} not found in axis\"\u001b[0m\u001b[1;33m)\u001b[0m\u001b[1;33m\u001b[0m\u001b[1;33m\u001b[0m\u001b[0m\n\u001b[0m\u001b[0;32m   5283\u001b[0m             \u001b[0mindexer\u001b[0m \u001b[1;33m=\u001b[0m \u001b[0mindexer\u001b[0m\u001b[1;33m[\u001b[0m\u001b[1;33m~\u001b[0m\u001b[0mmask\u001b[0m\u001b[1;33m]\u001b[0m\u001b[1;33m\u001b[0m\u001b[1;33m\u001b[0m\u001b[0m\n\u001b[0;32m   5284\u001b[0m         \u001b[1;32mreturn\u001b[0m \u001b[0mself\u001b[0m\u001b[1;33m.\u001b[0m\u001b[0mdelete\u001b[0m\u001b[1;33m(\u001b[0m\u001b[0mindexer\u001b[0m\u001b[1;33m)\u001b[0m\u001b[1;33m\u001b[0m\u001b[1;33m\u001b[0m\u001b[0m\n",
      "\u001b[1;31mKeyError\u001b[0m: \"['Diverted' 'Cancelled' 'Year'] not found in axis\""
     ]
    }
   ],
   "source": [
    "# df.drop(['Diverted','Cancelled','Year'], axis = 1, inplace = True) # inplace indica que borrara en el mismo objeto donde se aplica la funcion se borrara"
   ]
  },
  {
   "source": [
    "### Borrar filas con la función drop"
   ],
   "cell_type": "markdown",
   "metadata": {}
  },
  {
   "cell_type": "code",
   "execution_count": 9,
   "metadata": {},
   "outputs": [
    {
     "output_type": "execute_result",
     "data": {
      "text/plain": [
       "         Month  DayofMonth  DayOfWeek  DepTime  CRSDepTime  ArrTime  \\\n",
       "1            1           3          4    754.0         735   1002.0   \n",
       "2            1           3          4    628.0         620    804.0   \n",
       "3            1           3          4    926.0         930   1054.0   \n",
       "4            1           3          4   1829.0        1755   1959.0   \n",
       "5            1           3          4   1940.0        1915   2121.0   \n",
       "...        ...         ...        ...      ...         ...      ...   \n",
       "7009723     12          13          6   1002.0         959   1204.0   \n",
       "7009724     12          13          6    834.0         835   1021.0   \n",
       "7009725     12          13          6    655.0         700    856.0   \n",
       "7009726     12          13          6   1251.0        1240   1446.0   \n",
       "7009727     12          13          6   1110.0        1103   1413.0   \n",
       "\n",
       "         CRSArrTime UniqueCarrier  FlightNum TailNum  ...  Dest  Distance  \\\n",
       "1              1000            WN       3231  N772SW  ...   TPA       810   \n",
       "2               750            WN        448  N428WN  ...   BWI       515   \n",
       "3              1100            WN       1746  N612SW  ...   BWI       515   \n",
       "4              1925            WN       3920  N464WN  ...   BWI       515   \n",
       "5              2110            WN        378  N726SW  ...   JAX       688   \n",
       "...             ...           ...        ...     ...  ...   ...       ...   \n",
       "7009723        1150            DL       1636  N646DL  ...   IAD       533   \n",
       "7009724        1023            DL       1637  N908DL  ...   SAT       874   \n",
       "7009725         856            DL       1638  N671DN  ...   ATL       545   \n",
       "7009726        1437            DL       1639  N646DL  ...   ATL       533   \n",
       "7009727        1418            DL       1641  N908DL  ...   ATL       874   \n",
       "\n",
       "         TaxiIn  TaxiOut  CancellationCode CarrierDelay WeatherDelay  \\\n",
       "1           5.0     10.0               NaN          NaN          NaN   \n",
       "2           3.0     17.0               NaN          NaN          NaN   \n",
       "3           3.0      7.0               NaN          NaN          NaN   \n",
       "4           3.0     10.0               NaN          2.0          0.0   \n",
       "5           4.0     10.0               NaN          NaN          NaN   \n",
       "...         ...      ...               ...          ...          ...   \n",
       "7009723     6.0     45.0               NaN          NaN          NaN   \n",
       "7009724     5.0     23.0               NaN          NaN          NaN   \n",
       "7009725    24.0     12.0               NaN          NaN          NaN   \n",
       "7009726    13.0     13.0               NaN          NaN          NaN   \n",
       "7009727     8.0     11.0               NaN          NaN          NaN   \n",
       "\n",
       "         NASDelay  SecurityDelay  LateAircraftDelay  \n",
       "1             NaN            NaN                NaN  \n",
       "2             NaN            NaN                NaN  \n",
       "3             NaN            NaN                NaN  \n",
       "4             0.0            0.0               32.0  \n",
       "5             NaN            NaN                NaN  \n",
       "...           ...            ...                ...  \n",
       "7009723       NaN            NaN                NaN  \n",
       "7009724       NaN            NaN                NaN  \n",
       "7009725       NaN            NaN                NaN  \n",
       "7009726       NaN            NaN                NaN  \n",
       "7009727       NaN            NaN                NaN  \n",
       "\n",
       "[7009727 rows x 26 columns]"
      ],
      "text/html": "<div>\n<style scoped>\n    .dataframe tbody tr th:only-of-type {\n        vertical-align: middle;\n    }\n\n    .dataframe tbody tr th {\n        vertical-align: top;\n    }\n\n    .dataframe thead th {\n        text-align: right;\n    }\n</style>\n<table border=\"1\" class=\"dataframe\">\n  <thead>\n    <tr style=\"text-align: right;\">\n      <th></th>\n      <th>Month</th>\n      <th>DayofMonth</th>\n      <th>DayOfWeek</th>\n      <th>DepTime</th>\n      <th>CRSDepTime</th>\n      <th>ArrTime</th>\n      <th>CRSArrTime</th>\n      <th>UniqueCarrier</th>\n      <th>FlightNum</th>\n      <th>TailNum</th>\n      <th>...</th>\n      <th>Dest</th>\n      <th>Distance</th>\n      <th>TaxiIn</th>\n      <th>TaxiOut</th>\n      <th>CancellationCode</th>\n      <th>CarrierDelay</th>\n      <th>WeatherDelay</th>\n      <th>NASDelay</th>\n      <th>SecurityDelay</th>\n      <th>LateAircraftDelay</th>\n    </tr>\n  </thead>\n  <tbody>\n    <tr>\n      <th>1</th>\n      <td>1</td>\n      <td>3</td>\n      <td>4</td>\n      <td>754.0</td>\n      <td>735</td>\n      <td>1002.0</td>\n      <td>1000</td>\n      <td>WN</td>\n      <td>3231</td>\n      <td>N772SW</td>\n      <td>...</td>\n      <td>TPA</td>\n      <td>810</td>\n      <td>5.0</td>\n      <td>10.0</td>\n      <td>NaN</td>\n      <td>NaN</td>\n      <td>NaN</td>\n      <td>NaN</td>\n      <td>NaN</td>\n      <td>NaN</td>\n    </tr>\n    <tr>\n      <th>2</th>\n      <td>1</td>\n      <td>3</td>\n      <td>4</td>\n      <td>628.0</td>\n      <td>620</td>\n      <td>804.0</td>\n      <td>750</td>\n      <td>WN</td>\n      <td>448</td>\n      <td>N428WN</td>\n      <td>...</td>\n      <td>BWI</td>\n      <td>515</td>\n      <td>3.0</td>\n      <td>17.0</td>\n      <td>NaN</td>\n      <td>NaN</td>\n      <td>NaN</td>\n      <td>NaN</td>\n      <td>NaN</td>\n      <td>NaN</td>\n    </tr>\n    <tr>\n      <th>3</th>\n      <td>1</td>\n      <td>3</td>\n      <td>4</td>\n      <td>926.0</td>\n      <td>930</td>\n      <td>1054.0</td>\n      <td>1100</td>\n      <td>WN</td>\n      <td>1746</td>\n      <td>N612SW</td>\n      <td>...</td>\n      <td>BWI</td>\n      <td>515</td>\n      <td>3.0</td>\n      <td>7.0</td>\n      <td>NaN</td>\n      <td>NaN</td>\n      <td>NaN</td>\n      <td>NaN</td>\n      <td>NaN</td>\n      <td>NaN</td>\n    </tr>\n    <tr>\n      <th>4</th>\n      <td>1</td>\n      <td>3</td>\n      <td>4</td>\n      <td>1829.0</td>\n      <td>1755</td>\n      <td>1959.0</td>\n      <td>1925</td>\n      <td>WN</td>\n      <td>3920</td>\n      <td>N464WN</td>\n      <td>...</td>\n      <td>BWI</td>\n      <td>515</td>\n      <td>3.0</td>\n      <td>10.0</td>\n      <td>NaN</td>\n      <td>2.0</td>\n      <td>0.0</td>\n      <td>0.0</td>\n      <td>0.0</td>\n      <td>32.0</td>\n    </tr>\n    <tr>\n      <th>5</th>\n      <td>1</td>\n      <td>3</td>\n      <td>4</td>\n      <td>1940.0</td>\n      <td>1915</td>\n      <td>2121.0</td>\n      <td>2110</td>\n      <td>WN</td>\n      <td>378</td>\n      <td>N726SW</td>\n      <td>...</td>\n      <td>JAX</td>\n      <td>688</td>\n      <td>4.0</td>\n      <td>10.0</td>\n      <td>NaN</td>\n      <td>NaN</td>\n      <td>NaN</td>\n      <td>NaN</td>\n      <td>NaN</td>\n      <td>NaN</td>\n    </tr>\n    <tr>\n      <th>...</th>\n      <td>...</td>\n      <td>...</td>\n      <td>...</td>\n      <td>...</td>\n      <td>...</td>\n      <td>...</td>\n      <td>...</td>\n      <td>...</td>\n      <td>...</td>\n      <td>...</td>\n      <td>...</td>\n      <td>...</td>\n      <td>...</td>\n      <td>...</td>\n      <td>...</td>\n      <td>...</td>\n      <td>...</td>\n      <td>...</td>\n      <td>...</td>\n      <td>...</td>\n      <td>...</td>\n    </tr>\n    <tr>\n      <th>7009723</th>\n      <td>12</td>\n      <td>13</td>\n      <td>6</td>\n      <td>1002.0</td>\n      <td>959</td>\n      <td>1204.0</td>\n      <td>1150</td>\n      <td>DL</td>\n      <td>1636</td>\n      <td>N646DL</td>\n      <td>...</td>\n      <td>IAD</td>\n      <td>533</td>\n      <td>6.0</td>\n      <td>45.0</td>\n      <td>NaN</td>\n      <td>NaN</td>\n      <td>NaN</td>\n      <td>NaN</td>\n      <td>NaN</td>\n      <td>NaN</td>\n    </tr>\n    <tr>\n      <th>7009724</th>\n      <td>12</td>\n      <td>13</td>\n      <td>6</td>\n      <td>834.0</td>\n      <td>835</td>\n      <td>1021.0</td>\n      <td>1023</td>\n      <td>DL</td>\n      <td>1637</td>\n      <td>N908DL</td>\n      <td>...</td>\n      <td>SAT</td>\n      <td>874</td>\n      <td>5.0</td>\n      <td>23.0</td>\n      <td>NaN</td>\n      <td>NaN</td>\n      <td>NaN</td>\n      <td>NaN</td>\n      <td>NaN</td>\n      <td>NaN</td>\n    </tr>\n    <tr>\n      <th>7009725</th>\n      <td>12</td>\n      <td>13</td>\n      <td>6</td>\n      <td>655.0</td>\n      <td>700</td>\n      <td>856.0</td>\n      <td>856</td>\n      <td>DL</td>\n      <td>1638</td>\n      <td>N671DN</td>\n      <td>...</td>\n      <td>ATL</td>\n      <td>545</td>\n      <td>24.0</td>\n      <td>12.0</td>\n      <td>NaN</td>\n      <td>NaN</td>\n      <td>NaN</td>\n      <td>NaN</td>\n      <td>NaN</td>\n      <td>NaN</td>\n    </tr>\n    <tr>\n      <th>7009726</th>\n      <td>12</td>\n      <td>13</td>\n      <td>6</td>\n      <td>1251.0</td>\n      <td>1240</td>\n      <td>1446.0</td>\n      <td>1437</td>\n      <td>DL</td>\n      <td>1639</td>\n      <td>N646DL</td>\n      <td>...</td>\n      <td>ATL</td>\n      <td>533</td>\n      <td>13.0</td>\n      <td>13.0</td>\n      <td>NaN</td>\n      <td>NaN</td>\n      <td>NaN</td>\n      <td>NaN</td>\n      <td>NaN</td>\n      <td>NaN</td>\n    </tr>\n    <tr>\n      <th>7009727</th>\n      <td>12</td>\n      <td>13</td>\n      <td>6</td>\n      <td>1110.0</td>\n      <td>1103</td>\n      <td>1413.0</td>\n      <td>1418</td>\n      <td>DL</td>\n      <td>1641</td>\n      <td>N908DL</td>\n      <td>...</td>\n      <td>ATL</td>\n      <td>874</td>\n      <td>8.0</td>\n      <td>11.0</td>\n      <td>NaN</td>\n      <td>NaN</td>\n      <td>NaN</td>\n      <td>NaN</td>\n      <td>NaN</td>\n      <td>NaN</td>\n    </tr>\n  </tbody>\n</table>\n<p>7009727 rows × 26 columns</p>\n</div>"
     },
     "metadata": {},
     "execution_count": 9
    }
   ],
   "source": [
    "df.drop(0) # Elimina la fila numero 0"
   ]
  },
  {
   "source": [
    "### Eliminar muchas filas"
   ],
   "cell_type": "markdown",
   "metadata": {}
  },
  {
   "cell_type": "code",
   "execution_count": 10,
   "metadata": {},
   "outputs": [
    {
     "output_type": "execute_result",
     "data": {
      "text/plain": [
       "         Month  DayofMonth  DayOfWeek  DepTime  CRSDepTime  ArrTime  \\\n",
       "100000       1          30          3   1936.0        1935   2258.0   \n",
       "100001       1           3          4    607.0         600    858.0   \n",
       "100002       1           4          5    552.0         600    849.0   \n",
       "100003       1           5          6    552.0         600    940.0   \n",
       "100004       1           7          1    637.0         600    935.0   \n",
       "...        ...         ...        ...      ...         ...      ...   \n",
       "7009723     12          13          6   1002.0         959   1204.0   \n",
       "7009724     12          13          6    834.0         835   1021.0   \n",
       "7009725     12          13          6    655.0         700    856.0   \n",
       "7009726     12          13          6   1251.0        1240   1446.0   \n",
       "7009727     12          13          6   1110.0        1103   1413.0   \n",
       "\n",
       "         CRSArrTime UniqueCarrier  FlightNum TailNum  ...  Dest  Distance  \\\n",
       "100000         2257            XE       7676  N11176  ...   OKC       866   \n",
       "100001          852            XE       7677  N14177  ...   SLC       619   \n",
       "100002          852            XE       7677  N33182  ...   SLC       619   \n",
       "100003          852            XE       7677  N17169  ...   SLC       619   \n",
       "100004          852            XE       7677  N11181  ...   SLC       619   \n",
       "...             ...           ...        ...     ...  ...   ...       ...   \n",
       "7009723        1150            DL       1636  N646DL  ...   IAD       533   \n",
       "7009724        1023            DL       1637  N908DL  ...   SAT       874   \n",
       "7009725         856            DL       1638  N671DN  ...   ATL       545   \n",
       "7009726        1437            DL       1639  N646DL  ...   ATL       533   \n",
       "7009727        1418            DL       1641  N908DL  ...   ATL       874   \n",
       "\n",
       "         TaxiIn  TaxiOut  CancellationCode CarrierDelay WeatherDelay  \\\n",
       "100000      7.0     28.0               NaN          NaN          NaN   \n",
       "100001      7.0     16.0               NaN          NaN          NaN   \n",
       "100002      6.0     19.0               NaN          NaN          NaN   \n",
       "100003      9.0     15.0               NaN          0.0          0.0   \n",
       "100004      4.0     36.0               NaN         37.0          0.0   \n",
       "...         ...      ...               ...          ...          ...   \n",
       "7009723     6.0     45.0               NaN          NaN          NaN   \n",
       "7009724     5.0     23.0               NaN          NaN          NaN   \n",
       "7009725    24.0     12.0               NaN          NaN          NaN   \n",
       "7009726    13.0     13.0               NaN          NaN          NaN   \n",
       "7009727     8.0     11.0               NaN          NaN          NaN   \n",
       "\n",
       "         NASDelay  SecurityDelay  LateAircraftDelay  \n",
       "100000        NaN            NaN                NaN  \n",
       "100001        NaN            NaN                NaN  \n",
       "100002        NaN            NaN                NaN  \n",
       "100003       48.0            0.0                0.0  \n",
       "100004        6.0            0.0                0.0  \n",
       "...           ...            ...                ...  \n",
       "7009723       NaN            NaN                NaN  \n",
       "7009724       NaN            NaN                NaN  \n",
       "7009725       NaN            NaN                NaN  \n",
       "7009726       NaN            NaN                NaN  \n",
       "7009727       NaN            NaN                NaN  \n",
       "\n",
       "[6909728 rows x 26 columns]"
      ],
      "text/html": "<div>\n<style scoped>\n    .dataframe tbody tr th:only-of-type {\n        vertical-align: middle;\n    }\n\n    .dataframe tbody tr th {\n        vertical-align: top;\n    }\n\n    .dataframe thead th {\n        text-align: right;\n    }\n</style>\n<table border=\"1\" class=\"dataframe\">\n  <thead>\n    <tr style=\"text-align: right;\">\n      <th></th>\n      <th>Month</th>\n      <th>DayofMonth</th>\n      <th>DayOfWeek</th>\n      <th>DepTime</th>\n      <th>CRSDepTime</th>\n      <th>ArrTime</th>\n      <th>CRSArrTime</th>\n      <th>UniqueCarrier</th>\n      <th>FlightNum</th>\n      <th>TailNum</th>\n      <th>...</th>\n      <th>Dest</th>\n      <th>Distance</th>\n      <th>TaxiIn</th>\n      <th>TaxiOut</th>\n      <th>CancellationCode</th>\n      <th>CarrierDelay</th>\n      <th>WeatherDelay</th>\n      <th>NASDelay</th>\n      <th>SecurityDelay</th>\n      <th>LateAircraftDelay</th>\n    </tr>\n  </thead>\n  <tbody>\n    <tr>\n      <th>100000</th>\n      <td>1</td>\n      <td>30</td>\n      <td>3</td>\n      <td>1936.0</td>\n      <td>1935</td>\n      <td>2258.0</td>\n      <td>2257</td>\n      <td>XE</td>\n      <td>7676</td>\n      <td>N11176</td>\n      <td>...</td>\n      <td>OKC</td>\n      <td>866</td>\n      <td>7.0</td>\n      <td>28.0</td>\n      <td>NaN</td>\n      <td>NaN</td>\n      <td>NaN</td>\n      <td>NaN</td>\n      <td>NaN</td>\n      <td>NaN</td>\n    </tr>\n    <tr>\n      <th>100001</th>\n      <td>1</td>\n      <td>3</td>\n      <td>4</td>\n      <td>607.0</td>\n      <td>600</td>\n      <td>858.0</td>\n      <td>852</td>\n      <td>XE</td>\n      <td>7677</td>\n      <td>N14177</td>\n      <td>...</td>\n      <td>SLC</td>\n      <td>619</td>\n      <td>7.0</td>\n      <td>16.0</td>\n      <td>NaN</td>\n      <td>NaN</td>\n      <td>NaN</td>\n      <td>NaN</td>\n      <td>NaN</td>\n      <td>NaN</td>\n    </tr>\n    <tr>\n      <th>100002</th>\n      <td>1</td>\n      <td>4</td>\n      <td>5</td>\n      <td>552.0</td>\n      <td>600</td>\n      <td>849.0</td>\n      <td>852</td>\n      <td>XE</td>\n      <td>7677</td>\n      <td>N33182</td>\n      <td>...</td>\n      <td>SLC</td>\n      <td>619</td>\n      <td>6.0</td>\n      <td>19.0</td>\n      <td>NaN</td>\n      <td>NaN</td>\n      <td>NaN</td>\n      <td>NaN</td>\n      <td>NaN</td>\n      <td>NaN</td>\n    </tr>\n    <tr>\n      <th>100003</th>\n      <td>1</td>\n      <td>5</td>\n      <td>6</td>\n      <td>552.0</td>\n      <td>600</td>\n      <td>940.0</td>\n      <td>852</td>\n      <td>XE</td>\n      <td>7677</td>\n      <td>N17169</td>\n      <td>...</td>\n      <td>SLC</td>\n      <td>619</td>\n      <td>9.0</td>\n      <td>15.0</td>\n      <td>NaN</td>\n      <td>0.0</td>\n      <td>0.0</td>\n      <td>48.0</td>\n      <td>0.0</td>\n      <td>0.0</td>\n    </tr>\n    <tr>\n      <th>100004</th>\n      <td>1</td>\n      <td>7</td>\n      <td>1</td>\n      <td>637.0</td>\n      <td>600</td>\n      <td>935.0</td>\n      <td>852</td>\n      <td>XE</td>\n      <td>7677</td>\n      <td>N11181</td>\n      <td>...</td>\n      <td>SLC</td>\n      <td>619</td>\n      <td>4.0</td>\n      <td>36.0</td>\n      <td>NaN</td>\n      <td>37.0</td>\n      <td>0.0</td>\n      <td>6.0</td>\n      <td>0.0</td>\n      <td>0.0</td>\n    </tr>\n    <tr>\n      <th>...</th>\n      <td>...</td>\n      <td>...</td>\n      <td>...</td>\n      <td>...</td>\n      <td>...</td>\n      <td>...</td>\n      <td>...</td>\n      <td>...</td>\n      <td>...</td>\n      <td>...</td>\n      <td>...</td>\n      <td>...</td>\n      <td>...</td>\n      <td>...</td>\n      <td>...</td>\n      <td>...</td>\n      <td>...</td>\n      <td>...</td>\n      <td>...</td>\n      <td>...</td>\n      <td>...</td>\n    </tr>\n    <tr>\n      <th>7009723</th>\n      <td>12</td>\n      <td>13</td>\n      <td>6</td>\n      <td>1002.0</td>\n      <td>959</td>\n      <td>1204.0</td>\n      <td>1150</td>\n      <td>DL</td>\n      <td>1636</td>\n      <td>N646DL</td>\n      <td>...</td>\n      <td>IAD</td>\n      <td>533</td>\n      <td>6.0</td>\n      <td>45.0</td>\n      <td>NaN</td>\n      <td>NaN</td>\n      <td>NaN</td>\n      <td>NaN</td>\n      <td>NaN</td>\n      <td>NaN</td>\n    </tr>\n    <tr>\n      <th>7009724</th>\n      <td>12</td>\n      <td>13</td>\n      <td>6</td>\n      <td>834.0</td>\n      <td>835</td>\n      <td>1021.0</td>\n      <td>1023</td>\n      <td>DL</td>\n      <td>1637</td>\n      <td>N908DL</td>\n      <td>...</td>\n      <td>SAT</td>\n      <td>874</td>\n      <td>5.0</td>\n      <td>23.0</td>\n      <td>NaN</td>\n      <td>NaN</td>\n      <td>NaN</td>\n      <td>NaN</td>\n      <td>NaN</td>\n      <td>NaN</td>\n    </tr>\n    <tr>\n      <th>7009725</th>\n      <td>12</td>\n      <td>13</td>\n      <td>6</td>\n      <td>655.0</td>\n      <td>700</td>\n      <td>856.0</td>\n      <td>856</td>\n      <td>DL</td>\n      <td>1638</td>\n      <td>N671DN</td>\n      <td>...</td>\n      <td>ATL</td>\n      <td>545</td>\n      <td>24.0</td>\n      <td>12.0</td>\n      <td>NaN</td>\n      <td>NaN</td>\n      <td>NaN</td>\n      <td>NaN</td>\n      <td>NaN</td>\n      <td>NaN</td>\n    </tr>\n    <tr>\n      <th>7009726</th>\n      <td>12</td>\n      <td>13</td>\n      <td>6</td>\n      <td>1251.0</td>\n      <td>1240</td>\n      <td>1446.0</td>\n      <td>1437</td>\n      <td>DL</td>\n      <td>1639</td>\n      <td>N646DL</td>\n      <td>...</td>\n      <td>ATL</td>\n      <td>533</td>\n      <td>13.0</td>\n      <td>13.0</td>\n      <td>NaN</td>\n      <td>NaN</td>\n      <td>NaN</td>\n      <td>NaN</td>\n      <td>NaN</td>\n      <td>NaN</td>\n    </tr>\n    <tr>\n      <th>7009727</th>\n      <td>12</td>\n      <td>13</td>\n      <td>6</td>\n      <td>1110.0</td>\n      <td>1103</td>\n      <td>1413.0</td>\n      <td>1418</td>\n      <td>DL</td>\n      <td>1641</td>\n      <td>N908DL</td>\n      <td>...</td>\n      <td>ATL</td>\n      <td>874</td>\n      <td>8.0</td>\n      <td>11.0</td>\n      <td>NaN</td>\n      <td>NaN</td>\n      <td>NaN</td>\n      <td>NaN</td>\n      <td>NaN</td>\n      <td>NaN</td>\n    </tr>\n  </tbody>\n</table>\n<p>6909728 rows × 26 columns</p>\n</div>"
     },
     "metadata": {},
     "execution_count": 10
    }
   ],
   "source": [
    "df.drop(range(0,100000)) # Para guardar colocar inplace o asignar a df"
   ]
  },
  {
   "source": [
    "### Añadir nuevas filas a las base de datos"
   ],
   "cell_type": "markdown",
   "metadata": {}
  },
  {
   "cell_type": "code",
   "execution_count": 10,
   "metadata": {},
   "outputs": [],
   "source": [
    "# DataFrame con las filas con origen especificado\n",
    "\n",
    "dfATL = df[df.Origin == \"ATL\"]\n",
    "dfHOU = df[df.Origin == \"HOU\"]"
   ]
  },
  {
   "source": [
    "### Sumar dos DataFrame"
   ],
   "cell_type": "markdown",
   "metadata": {}
  },
  {
   "cell_type": "code",
   "execution_count": 11,
   "metadata": {},
   "outputs": [],
   "source": [
    "newdf = dfATL.append(dfHOU) # Posible porque ambos DataFrame tienen la misma estructura de columnas"
   ]
  },
  {
   "cell_type": "code",
   "execution_count": 15,
   "metadata": {},
   "outputs": [
    {
     "output_type": "execute_result",
     "data": {
      "text/plain": [
       "103149     ATL\n",
       "103572     ATL\n",
       "104019     ATL\n",
       "104124     ATL\n",
       "104485     ATL\n",
       "          ... \n",
       "7003419    HOU\n",
       "7004690    HOU\n",
       "7005947    HOU\n",
       "7007233    HOU\n",
       "7008545    HOU\n",
       "Name: Origin, Length: 470446, dtype: object"
      ]
     },
     "metadata": {},
     "execution_count": 15
    }
   ],
   "source": [
    "newdf.Origin"
   ]
  }
 ]
}