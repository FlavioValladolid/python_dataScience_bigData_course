{
 "metadata": {
  "language_info": {
   "codemirror_mode": {
    "name": "ipython",
    "version": 3
   },
   "file_extension": ".py",
   "mimetype": "text/x-python",
   "name": "python",
   "nbconvert_exporter": "python",
   "pygments_lexer": "ipython3",
   "version": "3.8.5-final"
  },
  "orig_nbformat": 2,
  "kernelspec": {
   "name": "python3",
   "display_name": "Python 3.8.5 64-bit (conda)",
   "metadata": {
    "interpreter": {
     "hash": "ed225720166559e7176d3793db16a2fd8d295f725007103b21ac3099d2a89ee8"
    }
   }
  }
 },
 "nbformat": 4,
 "nbformat_minor": 2,
 "cells": [
  {
   "cell_type": "code",
   "execution_count": 2,
   "metadata": {},
   "outputs": [],
   "source": [
    "import pandas as pd"
   ]
  },
  {
   "source": [
    "### Cargar una base de datos\n",
    "**nrows:** Permite fijar el número de filas que queremos cargar.\n",
    "\n",
    "df será el parámetro que contendrá el DataFrame"
   ],
   "cell_type": "markdown",
   "metadata": {}
  },
  {
   "cell_type": "code",
   "execution_count": 3,
   "metadata": {},
   "outputs": [],
   "source": [
    "df = pd.read_csv(r\"C:\\Users\\Flavio Isay\\Documents\\MEGAsync\\Cursos\\Python para data science y big data esencial\\base_datos_2008.csv\", nrows = 10000)"
   ]
  },
  {
   "source": [
    "**head()** nos muestra las primeras 5 filas del DataFrame."
   ],
   "cell_type": "markdown",
   "metadata": {}
  },
  {
   "cell_type": "code",
   "execution_count": 4,
   "metadata": {},
   "outputs": [
    {
     "output_type": "execute_result",
     "data": {
      "text/plain": [
       "   Year  Month  DayofMonth  DayOfWeek  DepTime  CRSDepTime  ArrTime  \\\n",
       "0  2008      1           3          4   2003.0        1955   2211.0   \n",
       "1  2008      1           3          4    754.0         735   1002.0   \n",
       "2  2008      1           3          4    628.0         620    804.0   \n",
       "3  2008      1           3          4    926.0         930   1054.0   \n",
       "4  2008      1           3          4   1829.0        1755   1959.0   \n",
       "5  2008      1           3          4   1940.0        1915   2121.0   \n",
       "6  2008      1           3          4   1937.0        1830   2037.0   \n",
       "7  2008      1           3          4   1039.0        1040   1132.0   \n",
       "8  2008      1           3          4    617.0         615    652.0   \n",
       "9  2008      1           3          4   1620.0        1620   1639.0   \n",
       "\n",
       "   CRSArrTime UniqueCarrier  FlightNum  ... TaxiIn  TaxiOut  Cancelled  \\\n",
       "0        2225            WN        335  ...    4.0      8.0          0   \n",
       "1        1000            WN       3231  ...    5.0     10.0          0   \n",
       "2         750            WN        448  ...    3.0     17.0          0   \n",
       "3        1100            WN       1746  ...    3.0      7.0          0   \n",
       "4        1925            WN       3920  ...    3.0     10.0          0   \n",
       "5        2110            WN        378  ...    4.0     10.0          0   \n",
       "6        1940            WN        509  ...    3.0      7.0          0   \n",
       "7        1150            WN        535  ...    7.0      7.0          0   \n",
       "8         650            WN         11  ...    6.0     19.0          0   \n",
       "9        1655            WN        810  ...    3.0      6.0          0   \n",
       "\n",
       "   CancellationCode  Diverted  CarrierDelay WeatherDelay NASDelay  \\\n",
       "0               NaN         0           NaN          NaN      NaN   \n",
       "1               NaN         0           NaN          NaN      NaN   \n",
       "2               NaN         0           NaN          NaN      NaN   \n",
       "3               NaN         0           NaN          NaN      NaN   \n",
       "4               NaN         0           2.0          0.0      0.0   \n",
       "5               NaN         0           NaN          NaN      NaN   \n",
       "6               NaN         0          10.0          0.0      0.0   \n",
       "7               NaN         0           NaN          NaN      NaN   \n",
       "8               NaN         0           NaN          NaN      NaN   \n",
       "9               NaN         0           NaN          NaN      NaN   \n",
       "\n",
       "   SecurityDelay  LateAircraftDelay  \n",
       "0            NaN                NaN  \n",
       "1            NaN                NaN  \n",
       "2            NaN                NaN  \n",
       "3            NaN                NaN  \n",
       "4            0.0               32.0  \n",
       "5            NaN                NaN  \n",
       "6            0.0               47.0  \n",
       "7            NaN                NaN  \n",
       "8            NaN                NaN  \n",
       "9            NaN                NaN  \n",
       "\n",
       "[10 rows x 29 columns]"
      ],
      "text/html": "<div>\n<style scoped>\n    .dataframe tbody tr th:only-of-type {\n        vertical-align: middle;\n    }\n\n    .dataframe tbody tr th {\n        vertical-align: top;\n    }\n\n    .dataframe thead th {\n        text-align: right;\n    }\n</style>\n<table border=\"1\" class=\"dataframe\">\n  <thead>\n    <tr style=\"text-align: right;\">\n      <th></th>\n      <th>Year</th>\n      <th>Month</th>\n      <th>DayofMonth</th>\n      <th>DayOfWeek</th>\n      <th>DepTime</th>\n      <th>CRSDepTime</th>\n      <th>ArrTime</th>\n      <th>CRSArrTime</th>\n      <th>UniqueCarrier</th>\n      <th>FlightNum</th>\n      <th>...</th>\n      <th>TaxiIn</th>\n      <th>TaxiOut</th>\n      <th>Cancelled</th>\n      <th>CancellationCode</th>\n      <th>Diverted</th>\n      <th>CarrierDelay</th>\n      <th>WeatherDelay</th>\n      <th>NASDelay</th>\n      <th>SecurityDelay</th>\n      <th>LateAircraftDelay</th>\n    </tr>\n  </thead>\n  <tbody>\n    <tr>\n      <th>0</th>\n      <td>2008</td>\n      <td>1</td>\n      <td>3</td>\n      <td>4</td>\n      <td>2003.0</td>\n      <td>1955</td>\n      <td>2211.0</td>\n      <td>2225</td>\n      <td>WN</td>\n      <td>335</td>\n      <td>...</td>\n      <td>4.0</td>\n      <td>8.0</td>\n      <td>0</td>\n      <td>NaN</td>\n      <td>0</td>\n      <td>NaN</td>\n      <td>NaN</td>\n      <td>NaN</td>\n      <td>NaN</td>\n      <td>NaN</td>\n    </tr>\n    <tr>\n      <th>1</th>\n      <td>2008</td>\n      <td>1</td>\n      <td>3</td>\n      <td>4</td>\n      <td>754.0</td>\n      <td>735</td>\n      <td>1002.0</td>\n      <td>1000</td>\n      <td>WN</td>\n      <td>3231</td>\n      <td>...</td>\n      <td>5.0</td>\n      <td>10.0</td>\n      <td>0</td>\n      <td>NaN</td>\n      <td>0</td>\n      <td>NaN</td>\n      <td>NaN</td>\n      <td>NaN</td>\n      <td>NaN</td>\n      <td>NaN</td>\n    </tr>\n    <tr>\n      <th>2</th>\n      <td>2008</td>\n      <td>1</td>\n      <td>3</td>\n      <td>4</td>\n      <td>628.0</td>\n      <td>620</td>\n      <td>804.0</td>\n      <td>750</td>\n      <td>WN</td>\n      <td>448</td>\n      <td>...</td>\n      <td>3.0</td>\n      <td>17.0</td>\n      <td>0</td>\n      <td>NaN</td>\n      <td>0</td>\n      <td>NaN</td>\n      <td>NaN</td>\n      <td>NaN</td>\n      <td>NaN</td>\n      <td>NaN</td>\n    </tr>\n    <tr>\n      <th>3</th>\n      <td>2008</td>\n      <td>1</td>\n      <td>3</td>\n      <td>4</td>\n      <td>926.0</td>\n      <td>930</td>\n      <td>1054.0</td>\n      <td>1100</td>\n      <td>WN</td>\n      <td>1746</td>\n      <td>...</td>\n      <td>3.0</td>\n      <td>7.0</td>\n      <td>0</td>\n      <td>NaN</td>\n      <td>0</td>\n      <td>NaN</td>\n      <td>NaN</td>\n      <td>NaN</td>\n      <td>NaN</td>\n      <td>NaN</td>\n    </tr>\n    <tr>\n      <th>4</th>\n      <td>2008</td>\n      <td>1</td>\n      <td>3</td>\n      <td>4</td>\n      <td>1829.0</td>\n      <td>1755</td>\n      <td>1959.0</td>\n      <td>1925</td>\n      <td>WN</td>\n      <td>3920</td>\n      <td>...</td>\n      <td>3.0</td>\n      <td>10.0</td>\n      <td>0</td>\n      <td>NaN</td>\n      <td>0</td>\n      <td>2.0</td>\n      <td>0.0</td>\n      <td>0.0</td>\n      <td>0.0</td>\n      <td>32.0</td>\n    </tr>\n    <tr>\n      <th>5</th>\n      <td>2008</td>\n      <td>1</td>\n      <td>3</td>\n      <td>4</td>\n      <td>1940.0</td>\n      <td>1915</td>\n      <td>2121.0</td>\n      <td>2110</td>\n      <td>WN</td>\n      <td>378</td>\n      <td>...</td>\n      <td>4.0</td>\n      <td>10.0</td>\n      <td>0</td>\n      <td>NaN</td>\n      <td>0</td>\n      <td>NaN</td>\n      <td>NaN</td>\n      <td>NaN</td>\n      <td>NaN</td>\n      <td>NaN</td>\n    </tr>\n    <tr>\n      <th>6</th>\n      <td>2008</td>\n      <td>1</td>\n      <td>3</td>\n      <td>4</td>\n      <td>1937.0</td>\n      <td>1830</td>\n      <td>2037.0</td>\n      <td>1940</td>\n      <td>WN</td>\n      <td>509</td>\n      <td>...</td>\n      <td>3.0</td>\n      <td>7.0</td>\n      <td>0</td>\n      <td>NaN</td>\n      <td>0</td>\n      <td>10.0</td>\n      <td>0.0</td>\n      <td>0.0</td>\n      <td>0.0</td>\n      <td>47.0</td>\n    </tr>\n    <tr>\n      <th>7</th>\n      <td>2008</td>\n      <td>1</td>\n      <td>3</td>\n      <td>4</td>\n      <td>1039.0</td>\n      <td>1040</td>\n      <td>1132.0</td>\n      <td>1150</td>\n      <td>WN</td>\n      <td>535</td>\n      <td>...</td>\n      <td>7.0</td>\n      <td>7.0</td>\n      <td>0</td>\n      <td>NaN</td>\n      <td>0</td>\n      <td>NaN</td>\n      <td>NaN</td>\n      <td>NaN</td>\n      <td>NaN</td>\n      <td>NaN</td>\n    </tr>\n    <tr>\n      <th>8</th>\n      <td>2008</td>\n      <td>1</td>\n      <td>3</td>\n      <td>4</td>\n      <td>617.0</td>\n      <td>615</td>\n      <td>652.0</td>\n      <td>650</td>\n      <td>WN</td>\n      <td>11</td>\n      <td>...</td>\n      <td>6.0</td>\n      <td>19.0</td>\n      <td>0</td>\n      <td>NaN</td>\n      <td>0</td>\n      <td>NaN</td>\n      <td>NaN</td>\n      <td>NaN</td>\n      <td>NaN</td>\n      <td>NaN</td>\n    </tr>\n    <tr>\n      <th>9</th>\n      <td>2008</td>\n      <td>1</td>\n      <td>3</td>\n      <td>4</td>\n      <td>1620.0</td>\n      <td>1620</td>\n      <td>1639.0</td>\n      <td>1655</td>\n      <td>WN</td>\n      <td>810</td>\n      <td>...</td>\n      <td>3.0</td>\n      <td>6.0</td>\n      <td>0</td>\n      <td>NaN</td>\n      <td>0</td>\n      <td>NaN</td>\n      <td>NaN</td>\n      <td>NaN</td>\n      <td>NaN</td>\n      <td>NaN</td>\n    </tr>\n  </tbody>\n</table>\n<p>10 rows × 29 columns</p>\n</div>"
     },
     "metadata": {},
     "execution_count": 4
    }
   ],
   "source": [
    "df.head(10)"
   ]
  },
  {
   "source": [
    "** tail()** nos da las últimas filas de la base de datos "
   ],
   "cell_type": "markdown",
   "metadata": {}
  },
  {
   "cell_type": "code",
   "execution_count": 5,
   "metadata": {},
   "outputs": [
    {
     "output_type": "execute_result",
     "data": {
      "text/plain": [
       "      Year  Month  DayofMonth  DayOfWeek  DepTime  CRSDepTime  ArrTime  \\\n",
       "9995  2008      1           6          7   2000.0        1955   2121.0   \n",
       "9996  2008      1           6          7   1624.0        1620   1742.0   \n",
       "9997  2008      1           6          7   1946.0        1805   2059.0   \n",
       "9998  2008      1           6          7   1549.0        1430   1706.0   \n",
       "9999  2008      1           6          7   1050.0        1050   1211.0   \n",
       "\n",
       "      CRSArrTime UniqueCarrier  FlightNum  ... TaxiIn  TaxiOut  Cancelled  \\\n",
       "9995        2115            WN        593  ...    5.0     13.0          0   \n",
       "9996        1740            WN        618  ...    4.0      8.0          0   \n",
       "9997        1930            WN        646  ...    4.0      8.0          0   \n",
       "9998        1550            WN        656  ...    3.0      6.0          0   \n",
       "9999        1210            WN        680  ...    6.0     10.0          0   \n",
       "\n",
       "      CancellationCode  Diverted  CarrierDelay WeatherDelay NASDelay  \\\n",
       "9995               NaN         0           NaN          NaN      NaN   \n",
       "9996               NaN         0           NaN          NaN      NaN   \n",
       "9997               NaN         0           0.0          0.0      6.0   \n",
       "9998               NaN         0           0.0         48.0      0.0   \n",
       "9999               NaN         0           NaN          NaN      NaN   \n",
       "\n",
       "      SecurityDelay  LateAircraftDelay  \n",
       "9995            NaN                NaN  \n",
       "9996            NaN                NaN  \n",
       "9997            0.0               83.0  \n",
       "9998            0.0               28.0  \n",
       "9999            NaN                NaN  \n",
       "\n",
       "[5 rows x 29 columns]"
      ],
      "text/html": "<div>\n<style scoped>\n    .dataframe tbody tr th:only-of-type {\n        vertical-align: middle;\n    }\n\n    .dataframe tbody tr th {\n        vertical-align: top;\n    }\n\n    .dataframe thead th {\n        text-align: right;\n    }\n</style>\n<table border=\"1\" class=\"dataframe\">\n  <thead>\n    <tr style=\"text-align: right;\">\n      <th></th>\n      <th>Year</th>\n      <th>Month</th>\n      <th>DayofMonth</th>\n      <th>DayOfWeek</th>\n      <th>DepTime</th>\n      <th>CRSDepTime</th>\n      <th>ArrTime</th>\n      <th>CRSArrTime</th>\n      <th>UniqueCarrier</th>\n      <th>FlightNum</th>\n      <th>...</th>\n      <th>TaxiIn</th>\n      <th>TaxiOut</th>\n      <th>Cancelled</th>\n      <th>CancellationCode</th>\n      <th>Diverted</th>\n      <th>CarrierDelay</th>\n      <th>WeatherDelay</th>\n      <th>NASDelay</th>\n      <th>SecurityDelay</th>\n      <th>LateAircraftDelay</th>\n    </tr>\n  </thead>\n  <tbody>\n    <tr>\n      <th>9995</th>\n      <td>2008</td>\n      <td>1</td>\n      <td>6</td>\n      <td>7</td>\n      <td>2000.0</td>\n      <td>1955</td>\n      <td>2121.0</td>\n      <td>2115</td>\n      <td>WN</td>\n      <td>593</td>\n      <td>...</td>\n      <td>5.0</td>\n      <td>13.0</td>\n      <td>0</td>\n      <td>NaN</td>\n      <td>0</td>\n      <td>NaN</td>\n      <td>NaN</td>\n      <td>NaN</td>\n      <td>NaN</td>\n      <td>NaN</td>\n    </tr>\n    <tr>\n      <th>9996</th>\n      <td>2008</td>\n      <td>1</td>\n      <td>6</td>\n      <td>7</td>\n      <td>1624.0</td>\n      <td>1620</td>\n      <td>1742.0</td>\n      <td>1740</td>\n      <td>WN</td>\n      <td>618</td>\n      <td>...</td>\n      <td>4.0</td>\n      <td>8.0</td>\n      <td>0</td>\n      <td>NaN</td>\n      <td>0</td>\n      <td>NaN</td>\n      <td>NaN</td>\n      <td>NaN</td>\n      <td>NaN</td>\n      <td>NaN</td>\n    </tr>\n    <tr>\n      <th>9997</th>\n      <td>2008</td>\n      <td>1</td>\n      <td>6</td>\n      <td>7</td>\n      <td>1946.0</td>\n      <td>1805</td>\n      <td>2059.0</td>\n      <td>1930</td>\n      <td>WN</td>\n      <td>646</td>\n      <td>...</td>\n      <td>4.0</td>\n      <td>8.0</td>\n      <td>0</td>\n      <td>NaN</td>\n      <td>0</td>\n      <td>0.0</td>\n      <td>0.0</td>\n      <td>6.0</td>\n      <td>0.0</td>\n      <td>83.0</td>\n    </tr>\n    <tr>\n      <th>9998</th>\n      <td>2008</td>\n      <td>1</td>\n      <td>6</td>\n      <td>7</td>\n      <td>1549.0</td>\n      <td>1430</td>\n      <td>1706.0</td>\n      <td>1550</td>\n      <td>WN</td>\n      <td>656</td>\n      <td>...</td>\n      <td>3.0</td>\n      <td>6.0</td>\n      <td>0</td>\n      <td>NaN</td>\n      <td>0</td>\n      <td>0.0</td>\n      <td>48.0</td>\n      <td>0.0</td>\n      <td>0.0</td>\n      <td>28.0</td>\n    </tr>\n    <tr>\n      <th>9999</th>\n      <td>2008</td>\n      <td>1</td>\n      <td>6</td>\n      <td>7</td>\n      <td>1050.0</td>\n      <td>1050</td>\n      <td>1211.0</td>\n      <td>1210</td>\n      <td>WN</td>\n      <td>680</td>\n      <td>...</td>\n      <td>6.0</td>\n      <td>10.0</td>\n      <td>0</td>\n      <td>NaN</td>\n      <td>0</td>\n      <td>NaN</td>\n      <td>NaN</td>\n      <td>NaN</td>\n      <td>NaN</td>\n      <td>NaN</td>\n    </tr>\n  </tbody>\n</table>\n<p>5 rows × 29 columns</p>\n</div>"
     },
     "metadata": {},
     "execution_count": 5
    }
   ],
   "source": [
    "df.tail()"
   ]
  },
  {
   "source": [
    "### Ordenar nuestra base de datos"
   ],
   "cell_type": "markdown",
   "metadata": {}
  },
  {
   "cell_type": "code",
   "execution_count": 6,
   "metadata": {},
   "outputs": [],
   "source": [
    "df = df.sample(frac = 1) # Nos muestra el DataFrame desordenado\n",
    "                         # frac = 1, significa que debe mantener las columnas que tenemos"
   ]
  },
  {
   "source": [
    "Si se desea explorar las columnas.\n",
    "Se coloca paréntesis cuando no se manda a llamar a uno de los atributos del DataFrame, es decir cuando se aplica una función."
   ],
   "cell_type": "markdown",
   "metadata": {}
  },
  {
   "cell_type": "code",
   "execution_count": 7,
   "metadata": {},
   "outputs": [
    {
     "output_type": "execute_result",
     "data": {
      "text/plain": [
       "Index(['Year', 'Month', 'DayofMonth', 'DayOfWeek', 'DepTime', 'CRSDepTime',\n",
       "       'ArrTime', 'CRSArrTime', 'UniqueCarrier', 'FlightNum', 'TailNum',\n",
       "       'ActualElapsedTime', 'CRSElapsedTime', 'AirTime', 'ArrDelay',\n",
       "       'DepDelay', 'Origin', 'Dest', 'Distance', 'TaxiIn', 'TaxiOut',\n",
       "       'Cancelled', 'CancellationCode', 'Diverted', 'CarrierDelay',\n",
       "       'WeatherDelay', 'NASDelay', 'SecurityDelay', 'LateAircraftDelay'],\n",
       "      dtype='object')"
      ]
     },
     "metadata": {},
     "execution_count": 7
    }
   ],
   "source": [
    "df.columns # Muestra en una lista todos los nombres de las columnas que se tienen."
   ]
  },
  {
   "cell_type": "code",
   "execution_count": 8,
   "metadata": {},
   "outputs": [
    {
     "output_type": "execute_result",
     "data": {
      "text/plain": [
       "6315     724.0\n",
       "6487    1043.0\n",
       "7490    2038.0\n",
       "9751    2354.0\n",
       "9245    1437.0\n",
       "         ...  \n",
       "7791    2205.0\n",
       "360     1030.0\n",
       "1480     657.0\n",
       "2366    1511.0\n",
       "111     1229.0\n",
       "Name: DepTime, Length: 10000, dtype: float64"
      ]
     },
     "metadata": {},
     "execution_count": 8
    }
   ],
   "source": [
    "df.DepTime # Nos muestra la columna DepTime"
   ]
  },
  {
   "cell_type": "code",
   "execution_count": 10,
   "metadata": {},
   "outputs": [
    {
     "output_type": "execute_result",
     "data": {
      "text/plain": [
       "Year                   int64\n",
       "Month                  int64\n",
       "DayofMonth             int64\n",
       "DayOfWeek              int64\n",
       "DepTime              float64\n",
       "CRSDepTime             int64\n",
       "ArrTime              float64\n",
       "CRSArrTime             int64\n",
       "UniqueCarrier         object\n",
       "FlightNum              int64\n",
       "TailNum               object\n",
       "ActualElapsedTime    float64\n",
       "CRSElapsedTime         int64\n",
       "AirTime              float64\n",
       "ArrDelay             float64\n",
       "DepDelay             float64\n",
       "Origin                object\n",
       "Dest                  object\n",
       "Distance               int64\n",
       "TaxiIn               float64\n",
       "TaxiOut              float64\n",
       "Cancelled              int64\n",
       "CancellationCode      object\n",
       "Diverted               int64\n",
       "CarrierDelay         float64\n",
       "WeatherDelay         float64\n",
       "NASDelay             float64\n",
       "SecurityDelay        float64\n",
       "LateAircraftDelay    float64\n",
       "dtype: object"
      ]
     },
     "metadata": {},
     "execution_count": 10
    }
   ],
   "source": [
    "df.dtypes # Muestra los distintos tipos de variables"
   ]
  },
  {
   "cell_type": "code",
   "execution_count": 11,
   "metadata": {},
   "outputs": [
    {
     "output_type": "execute_result",
     "data": {
      "text/plain": [
       "array([[2008, 1, 5, ..., nan, nan, nan],\n",
       "       [2008, 1, 5, ..., 53.0, 0.0, 0.0],\n",
       "       [2008, 1, 5, ..., 0.0, 0.0, 44.0],\n",
       "       ...,\n",
       "       [2008, 1, 3, ..., nan, nan, nan],\n",
       "       [2008, 1, 3, ..., nan, nan, nan],\n",
       "       [2008, 1, 3, ..., 8.0, 0.0, 0.0]], dtype=object)"
      ]
     },
     "metadata": {},
     "execution_count": 11
    }
   ],
   "source": [
    "df.values # Devuelve los datos en array"
   ]
  },
  {
   "cell_type": "code",
   "execution_count": 12,
   "metadata": {},
   "outputs": [],
   "source": [
    "### Guardar bases de datos en otra estructura"
   ]
  },
  {
   "cell_type": "code",
   "execution_count": 13,
   "metadata": {},
   "outputs": [
    {
     "output_type": "execute_result",
     "data": {
      "text/plain": [
       "      Year  Month  DayofMonth  DayOfWeek  DepTime  CRSDepTime  ArrTime  \\\n",
       "6315  2008      1           5          6    724.0         725    832.0   \n",
       "6487  2008      1           5          6   1043.0        1040   1223.0   \n",
       "7490  2008      1           5          6   2038.0        1935   2258.0   \n",
       "9751  2008      1           6          7   2354.0        2120     57.0   \n",
       "9245  2008      1           6          7   1437.0        1430   1535.0   \n",
       "7802  2008      1           5          6   2022.0        2010   2056.0   \n",
       "2639  2008      1           4          5   2133.0        2040   2126.0   \n",
       "4852  2008      1           4          5   1829.0        1735   1912.0   \n",
       "3629  2008      1           4          5   1333.0        1315   1800.0   \n",
       "1230  2008      1           3          4    816.0         815    905.0   \n",
       "\n",
       "      CRSArrTime UniqueCarrier  FlightNum  ... TaxiIn  TaxiOut  Cancelled  \\\n",
       "6315         835            WN        583  ...    5.0     10.0          0   \n",
       "6487        1130            WN       3748  ...    5.0     13.0          0   \n",
       "7490        2200            WN       2612  ...    4.0     12.0          0   \n",
       "9751        2225            WN       2896  ...    5.0     10.0          0   \n",
       "9245        1530            WN        438  ...    4.0      9.0          0   \n",
       "7802        2035            WN       2871  ...    3.0     14.0          0   \n",
       "2639        2040            WN        239  ...    4.0      8.0          0   \n",
       "4852        1755            WN       2359  ...   11.0     18.0          0   \n",
       "3629        1755            WN        479  ...    3.0     10.0          0   \n",
       "1230         915            WN        491  ...    3.0      6.0          0   \n",
       "\n",
       "      CancellationCode  Diverted  CarrierDelay WeatherDelay NASDelay  \\\n",
       "6315               NaN         0           NaN          NaN      NaN   \n",
       "6487               NaN         0           0.0          0.0     53.0   \n",
       "7490               NaN         0          14.0          0.0      0.0   \n",
       "9751               NaN         0           0.0          0.0      2.0   \n",
       "9245               NaN         0           NaN          NaN      NaN   \n",
       "7802               NaN         0          12.0          0.0      9.0   \n",
       "2639               NaN         0           0.0          0.0      0.0   \n",
       "4852               NaN         0           0.0         54.0     23.0   \n",
       "3629               NaN         0           NaN          NaN      NaN   \n",
       "1230               NaN         0           NaN          NaN      NaN   \n",
       "\n",
       "      SecurityDelay  LateAircraftDelay  \n",
       "6315            NaN                NaN  \n",
       "6487            0.0                0.0  \n",
       "7490            0.0               44.0  \n",
       "9751            0.0              150.0  \n",
       "9245            NaN                NaN  \n",
       "7802            0.0                0.0  \n",
       "2639            0.0               46.0  \n",
       "4852            0.0                0.0  \n",
       "3629            NaN                NaN  \n",
       "1230            NaN                NaN  \n",
       "\n",
       "[10 rows x 29 columns]"
      ],
      "text/html": "<div>\n<style scoped>\n    .dataframe tbody tr th:only-of-type {\n        vertical-align: middle;\n    }\n\n    .dataframe tbody tr th {\n        vertical-align: top;\n    }\n\n    .dataframe thead th {\n        text-align: right;\n    }\n</style>\n<table border=\"1\" class=\"dataframe\">\n  <thead>\n    <tr style=\"text-align: right;\">\n      <th></th>\n      <th>Year</th>\n      <th>Month</th>\n      <th>DayofMonth</th>\n      <th>DayOfWeek</th>\n      <th>DepTime</th>\n      <th>CRSDepTime</th>\n      <th>ArrTime</th>\n      <th>CRSArrTime</th>\n      <th>UniqueCarrier</th>\n      <th>FlightNum</th>\n      <th>...</th>\n      <th>TaxiIn</th>\n      <th>TaxiOut</th>\n      <th>Cancelled</th>\n      <th>CancellationCode</th>\n      <th>Diverted</th>\n      <th>CarrierDelay</th>\n      <th>WeatherDelay</th>\n      <th>NASDelay</th>\n      <th>SecurityDelay</th>\n      <th>LateAircraftDelay</th>\n    </tr>\n  </thead>\n  <tbody>\n    <tr>\n      <th>6315</th>\n      <td>2008</td>\n      <td>1</td>\n      <td>5</td>\n      <td>6</td>\n      <td>724.0</td>\n      <td>725</td>\n      <td>832.0</td>\n      <td>835</td>\n      <td>WN</td>\n      <td>583</td>\n      <td>...</td>\n      <td>5.0</td>\n      <td>10.0</td>\n      <td>0</td>\n      <td>NaN</td>\n      <td>0</td>\n      <td>NaN</td>\n      <td>NaN</td>\n      <td>NaN</td>\n      <td>NaN</td>\n      <td>NaN</td>\n    </tr>\n    <tr>\n      <th>6487</th>\n      <td>2008</td>\n      <td>1</td>\n      <td>5</td>\n      <td>6</td>\n      <td>1043.0</td>\n      <td>1040</td>\n      <td>1223.0</td>\n      <td>1130</td>\n      <td>WN</td>\n      <td>3748</td>\n      <td>...</td>\n      <td>5.0</td>\n      <td>13.0</td>\n      <td>0</td>\n      <td>NaN</td>\n      <td>0</td>\n      <td>0.0</td>\n      <td>0.0</td>\n      <td>53.0</td>\n      <td>0.0</td>\n      <td>0.0</td>\n    </tr>\n    <tr>\n      <th>7490</th>\n      <td>2008</td>\n      <td>1</td>\n      <td>5</td>\n      <td>6</td>\n      <td>2038.0</td>\n      <td>1935</td>\n      <td>2258.0</td>\n      <td>2200</td>\n      <td>WN</td>\n      <td>2612</td>\n      <td>...</td>\n      <td>4.0</td>\n      <td>12.0</td>\n      <td>0</td>\n      <td>NaN</td>\n      <td>0</td>\n      <td>14.0</td>\n      <td>0.0</td>\n      <td>0.0</td>\n      <td>0.0</td>\n      <td>44.0</td>\n    </tr>\n    <tr>\n      <th>9751</th>\n      <td>2008</td>\n      <td>1</td>\n      <td>6</td>\n      <td>7</td>\n      <td>2354.0</td>\n      <td>2120</td>\n      <td>57.0</td>\n      <td>2225</td>\n      <td>WN</td>\n      <td>2896</td>\n      <td>...</td>\n      <td>5.0</td>\n      <td>10.0</td>\n      <td>0</td>\n      <td>NaN</td>\n      <td>0</td>\n      <td>0.0</td>\n      <td>0.0</td>\n      <td>2.0</td>\n      <td>0.0</td>\n      <td>150.0</td>\n    </tr>\n    <tr>\n      <th>9245</th>\n      <td>2008</td>\n      <td>1</td>\n      <td>6</td>\n      <td>7</td>\n      <td>1437.0</td>\n      <td>1430</td>\n      <td>1535.0</td>\n      <td>1530</td>\n      <td>WN</td>\n      <td>438</td>\n      <td>...</td>\n      <td>4.0</td>\n      <td>9.0</td>\n      <td>0</td>\n      <td>NaN</td>\n      <td>0</td>\n      <td>NaN</td>\n      <td>NaN</td>\n      <td>NaN</td>\n      <td>NaN</td>\n      <td>NaN</td>\n    </tr>\n    <tr>\n      <th>7802</th>\n      <td>2008</td>\n      <td>1</td>\n      <td>5</td>\n      <td>6</td>\n      <td>2022.0</td>\n      <td>2010</td>\n      <td>2056.0</td>\n      <td>2035</td>\n      <td>WN</td>\n      <td>2871</td>\n      <td>...</td>\n      <td>3.0</td>\n      <td>14.0</td>\n      <td>0</td>\n      <td>NaN</td>\n      <td>0</td>\n      <td>12.0</td>\n      <td>0.0</td>\n      <td>9.0</td>\n      <td>0.0</td>\n      <td>0.0</td>\n    </tr>\n    <tr>\n      <th>2639</th>\n      <td>2008</td>\n      <td>1</td>\n      <td>4</td>\n      <td>5</td>\n      <td>2133.0</td>\n      <td>2040</td>\n      <td>2126.0</td>\n      <td>2040</td>\n      <td>WN</td>\n      <td>239</td>\n      <td>...</td>\n      <td>4.0</td>\n      <td>8.0</td>\n      <td>0</td>\n      <td>NaN</td>\n      <td>0</td>\n      <td>0.0</td>\n      <td>0.0</td>\n      <td>0.0</td>\n      <td>0.0</td>\n      <td>46.0</td>\n    </tr>\n    <tr>\n      <th>4852</th>\n      <td>2008</td>\n      <td>1</td>\n      <td>4</td>\n      <td>5</td>\n      <td>1829.0</td>\n      <td>1735</td>\n      <td>1912.0</td>\n      <td>1755</td>\n      <td>WN</td>\n      <td>2359</td>\n      <td>...</td>\n      <td>11.0</td>\n      <td>18.0</td>\n      <td>0</td>\n      <td>NaN</td>\n      <td>0</td>\n      <td>0.0</td>\n      <td>54.0</td>\n      <td>23.0</td>\n      <td>0.0</td>\n      <td>0.0</td>\n    </tr>\n    <tr>\n      <th>3629</th>\n      <td>2008</td>\n      <td>1</td>\n      <td>4</td>\n      <td>5</td>\n      <td>1333.0</td>\n      <td>1315</td>\n      <td>1800.0</td>\n      <td>1755</td>\n      <td>WN</td>\n      <td>479</td>\n      <td>...</td>\n      <td>3.0</td>\n      <td>10.0</td>\n      <td>0</td>\n      <td>NaN</td>\n      <td>0</td>\n      <td>NaN</td>\n      <td>NaN</td>\n      <td>NaN</td>\n      <td>NaN</td>\n      <td>NaN</td>\n    </tr>\n    <tr>\n      <th>1230</th>\n      <td>2008</td>\n      <td>1</td>\n      <td>3</td>\n      <td>4</td>\n      <td>816.0</td>\n      <td>815</td>\n      <td>905.0</td>\n      <td>915</td>\n      <td>WN</td>\n      <td>491</td>\n      <td>...</td>\n      <td>3.0</td>\n      <td>6.0</td>\n      <td>0</td>\n      <td>NaN</td>\n      <td>0</td>\n      <td>NaN</td>\n      <td>NaN</td>\n      <td>NaN</td>\n      <td>NaN</td>\n      <td>NaN</td>\n    </tr>\n  </tbody>\n</table>\n<p>10 rows × 29 columns</p>\n</div>"
     },
     "metadata": {},
     "execution_count": 13
    }
   ],
   "source": [
    "df2 = df.head(10) # Primeras diez filas de df"
   ]
  }
 ]
}