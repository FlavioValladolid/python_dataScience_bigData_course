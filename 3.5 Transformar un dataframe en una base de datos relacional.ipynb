{
 "metadata": {
  "language_info": {
   "codemirror_mode": {
    "name": "ipython",
    "version": 3
   },
   "file_extension": ".py",
   "mimetype": "text/x-python",
   "name": "python",
   "nbconvert_exporter": "python",
   "pygments_lexer": "ipython3",
   "version": "3.8.5-final"
  },
  "orig_nbformat": 2,
  "kernelspec": {
   "name": "python3",
   "display_name": "Python 3.8.5 64-bit (conda)",
   "metadata": {
    "interpreter": {
     "hash": "ed225720166559e7176d3793db16a2fd8d295f725007103b21ac3099d2a89ee8"
    }
   }
  }
 },
 "nbformat": 4,
 "nbformat_minor": 2,
 "cells": [
  {
   "source": [
    "# Transformar un dataframe en una base de datos relacional"
   ],
   "cell_type": "markdown",
   "metadata": {}
  },
  {
   "cell_type": "code",
   "execution_count": 30,
   "metadata": {},
   "outputs": [],
   "source": [
    "import pandas as pd \n",
    "data = [(1,'Joan','Gasull', 25, 1, 'Libreta',   1.2,   .4, 0.8,   3, '03-02-2018'),\n",
    "        (1,'Joan','Gasull', 25, 2, 'Bolígrafo', 0.4, 0.15, 0.25,  1, '03-02-2018'),\n",
    "        (1,'Joan','Gasull', 25, 1, 'Libreta',   1.2,   .4,  0.8,  3, '15-02-2018'),\n",
    "        (2,'Joan','López',  33, 2, 'Bolígrafo', 0.4, 0.15, 0.25,  4, '01-02-2018'),\n",
    "        (2,'Joan','López',  33, 1, 'Libréta',   1.2,   .4,  0.8, 10, '05-03-2018'),\n",
    "        (3,'Maria','García',40, 1, 'Libréta',   1.2,   .4,  0.8, 10, '09-02-2018')]\n",
    "\n",
    "labels = ['Comprador_id','Nombre','Apellido','Edad','Producto_id','Producto','Precio','Coste','Margen','Cantidad','Fecha']"
   ]
  },
  {
   "source": [
    "### Transformar a un DataFrame"
   ],
   "cell_type": "markdown",
   "metadata": {}
  },
  {
   "cell_type": "code",
   "execution_count": 31,
   "metadata": {},
   "outputs": [],
   "source": [
    "df = pd.DataFrame.from_records(data, columns = labels)"
   ]
  },
  {
   "cell_type": "code",
   "execution_count": 32,
   "metadata": {},
   "outputs": [
    {
     "output_type": "execute_result",
     "data": {
      "text/plain": [
       "   Comprador_id Nombre Apellido  Edad  Producto_id   Producto  Precio  Coste  \\\n",
       "0             1   Joan   Gasull    25            1    Libreta     1.2   0.40   \n",
       "1             1   Joan   Gasull    25            2  Bolígrafo     0.4   0.15   \n",
       "2             1   Joan   Gasull    25            1    Libreta     1.2   0.40   \n",
       "3             2   Joan    López    33            2  Bolígrafo     0.4   0.15   \n",
       "4             2   Joan    López    33            1    Libréta     1.2   0.40   \n",
       "5             3  Maria   García    40            1    Libréta     1.2   0.40   \n",
       "\n",
       "   Margen  Cantidad       Fecha  \n",
       "0    0.80         3  03-02-2018  \n",
       "1    0.25         1  03-02-2018  \n",
       "2    0.80         3  15-02-2018  \n",
       "3    0.25         4  01-02-2018  \n",
       "4    0.80        10  05-03-2018  \n",
       "5    0.80        10  09-02-2018  "
      ],
      "text/html": "<div>\n<style scoped>\n    .dataframe tbody tr th:only-of-type {\n        vertical-align: middle;\n    }\n\n    .dataframe tbody tr th {\n        vertical-align: top;\n    }\n\n    .dataframe thead th {\n        text-align: right;\n    }\n</style>\n<table border=\"1\" class=\"dataframe\">\n  <thead>\n    <tr style=\"text-align: right;\">\n      <th></th>\n      <th>Comprador_id</th>\n      <th>Nombre</th>\n      <th>Apellido</th>\n      <th>Edad</th>\n      <th>Producto_id</th>\n      <th>Producto</th>\n      <th>Precio</th>\n      <th>Coste</th>\n      <th>Margen</th>\n      <th>Cantidad</th>\n      <th>Fecha</th>\n    </tr>\n  </thead>\n  <tbody>\n    <tr>\n      <th>0</th>\n      <td>1</td>\n      <td>Joan</td>\n      <td>Gasull</td>\n      <td>25</td>\n      <td>1</td>\n      <td>Libreta</td>\n      <td>1.2</td>\n      <td>0.40</td>\n      <td>0.80</td>\n      <td>3</td>\n      <td>03-02-2018</td>\n    </tr>\n    <tr>\n      <th>1</th>\n      <td>1</td>\n      <td>Joan</td>\n      <td>Gasull</td>\n      <td>25</td>\n      <td>2</td>\n      <td>Bolígrafo</td>\n      <td>0.4</td>\n      <td>0.15</td>\n      <td>0.25</td>\n      <td>1</td>\n      <td>03-02-2018</td>\n    </tr>\n    <tr>\n      <th>2</th>\n      <td>1</td>\n      <td>Joan</td>\n      <td>Gasull</td>\n      <td>25</td>\n      <td>1</td>\n      <td>Libreta</td>\n      <td>1.2</td>\n      <td>0.40</td>\n      <td>0.80</td>\n      <td>3</td>\n      <td>15-02-2018</td>\n    </tr>\n    <tr>\n      <th>3</th>\n      <td>2</td>\n      <td>Joan</td>\n      <td>López</td>\n      <td>33</td>\n      <td>2</td>\n      <td>Bolígrafo</td>\n      <td>0.4</td>\n      <td>0.15</td>\n      <td>0.25</td>\n      <td>4</td>\n      <td>01-02-2018</td>\n    </tr>\n    <tr>\n      <th>4</th>\n      <td>2</td>\n      <td>Joan</td>\n      <td>López</td>\n      <td>33</td>\n      <td>1</td>\n      <td>Libréta</td>\n      <td>1.2</td>\n      <td>0.40</td>\n      <td>0.80</td>\n      <td>10</td>\n      <td>05-03-2018</td>\n    </tr>\n    <tr>\n      <th>5</th>\n      <td>3</td>\n      <td>Maria</td>\n      <td>García</td>\n      <td>40</td>\n      <td>1</td>\n      <td>Libréta</td>\n      <td>1.2</td>\n      <td>0.40</td>\n      <td>0.80</td>\n      <td>10</td>\n      <td>09-02-2018</td>\n    </tr>\n  </tbody>\n</table>\n</div>"
     },
     "metadata": {},
     "execution_count": 32
    }
   ],
   "source": [
    "df # Se muestra que hay variables  repetidas como nombre y apellido, tampoco la edad, coste, margenes"
   ]
  },
  {
   "source": [
    "### Partir tabla en tres subtablas más pequeñas que contengan sólo información necesaria"
   ],
   "cell_type": "markdown",
   "metadata": {}
  },
  {
   "cell_type": "code",
   "execution_count": 33,
   "metadata": {},
   "outputs": [
    {
     "output_type": "execute_result",
     "data": {
      "text/plain": [
       "   Comprador_id Nombre Apellido  Edad  Producto_id   Producto  Precio  Coste  \\\n",
       "0             1   Joan   Gasull    25            1    Libreta     1.2   0.40   \n",
       "3             2   Joan    López    33            2  Bolígrafo     0.4   0.15   \n",
       "5             3  Maria   García    40            1    Libréta     1.2   0.40   \n",
       "\n",
       "   Margen  Cantidad       Fecha  \n",
       "0    0.80         3  03-02-2018  \n",
       "3    0.25         4  01-02-2018  \n",
       "5    0.80        10  09-02-2018  "
      ],
      "text/html": "<div>\n<style scoped>\n    .dataframe tbody tr th:only-of-type {\n        vertical-align: middle;\n    }\n\n    .dataframe tbody tr th {\n        vertical-align: top;\n    }\n\n    .dataframe thead th {\n        text-align: right;\n    }\n</style>\n<table border=\"1\" class=\"dataframe\">\n  <thead>\n    <tr style=\"text-align: right;\">\n      <th></th>\n      <th>Comprador_id</th>\n      <th>Nombre</th>\n      <th>Apellido</th>\n      <th>Edad</th>\n      <th>Producto_id</th>\n      <th>Producto</th>\n      <th>Precio</th>\n      <th>Coste</th>\n      <th>Margen</th>\n      <th>Cantidad</th>\n      <th>Fecha</th>\n    </tr>\n  </thead>\n  <tbody>\n    <tr>\n      <th>0</th>\n      <td>1</td>\n      <td>Joan</td>\n      <td>Gasull</td>\n      <td>25</td>\n      <td>1</td>\n      <td>Libreta</td>\n      <td>1.2</td>\n      <td>0.40</td>\n      <td>0.80</td>\n      <td>3</td>\n      <td>03-02-2018</td>\n    </tr>\n    <tr>\n      <th>3</th>\n      <td>2</td>\n      <td>Joan</td>\n      <td>López</td>\n      <td>33</td>\n      <td>2</td>\n      <td>Bolígrafo</td>\n      <td>0.4</td>\n      <td>0.15</td>\n      <td>0.25</td>\n      <td>4</td>\n      <td>01-02-2018</td>\n    </tr>\n    <tr>\n      <th>5</th>\n      <td>3</td>\n      <td>Maria</td>\n      <td>García</td>\n      <td>40</td>\n      <td>1</td>\n      <td>Libréta</td>\n      <td>1.2</td>\n      <td>0.40</td>\n      <td>0.80</td>\n      <td>10</td>\n      <td>09-02-2018</td>\n    </tr>\n  </tbody>\n</table>\n</div>"
     },
     "metadata": {},
     "execution_count": 33
    }
   ],
   "source": [
    "# DataFrame con una sola fila para cada comprador\n",
    "\n",
    "compradores = df.drop_duplicates(subset = 'Comprador_id', keep = 'first')\n",
    "compradores"
   ]
  },
  {
   "source": [
    "### Crear tabla de clientes"
   ],
   "cell_type": "markdown",
   "metadata": {}
  },
  {
   "cell_type": "code",
   "execution_count": 34,
   "metadata": {},
   "outputs": [
    {
     "output_type": "execute_result",
     "data": {
      "text/plain": [
       "   Comprador_id Nombre Apellido  Edad\n",
       "0             1   Joan   Gasull    25\n",
       "3             2   Joan    López    33\n",
       "5             3  Maria   García    40"
      ],
      "text/html": "<div>\n<style scoped>\n    .dataframe tbody tr th:only-of-type {\n        vertical-align: middle;\n    }\n\n    .dataframe tbody tr th {\n        vertical-align: top;\n    }\n\n    .dataframe thead th {\n        text-align: right;\n    }\n</style>\n<table border=\"1\" class=\"dataframe\">\n  <thead>\n    <tr style=\"text-align: right;\">\n      <th></th>\n      <th>Comprador_id</th>\n      <th>Nombre</th>\n      <th>Apellido</th>\n      <th>Edad</th>\n    </tr>\n  </thead>\n  <tbody>\n    <tr>\n      <th>0</th>\n      <td>1</td>\n      <td>Joan</td>\n      <td>Gasull</td>\n      <td>25</td>\n    </tr>\n    <tr>\n      <th>3</th>\n      <td>2</td>\n      <td>Joan</td>\n      <td>López</td>\n      <td>33</td>\n    </tr>\n    <tr>\n      <th>5</th>\n      <td>3</td>\n      <td>Maria</td>\n      <td>García</td>\n      <td>40</td>\n    </tr>\n  </tbody>\n</table>\n</div>"
     },
     "metadata": {},
     "execution_count": 34
    }
   ],
   "source": [
    "# Eliminar las columnas que no necesitemos en la tabla de compradores\n",
    "compradores = compradores[['Comprador_id','Nombre','Apellido','Edad']]#,\"Apellido\",\"Edad\"]] # Se seleccionan las columnas que se desean guardar\n",
    "compradores"
   ]
  },
  {
   "source": [
    "### Crear tabla de productos"
   ],
   "cell_type": "markdown",
   "metadata": {}
  },
  {
   "cell_type": "code",
   "execution_count": 35,
   "metadata": {},
   "outputs": [
    {
     "output_type": "execute_result",
     "data": {
      "text/plain": [
       "   Comprador_id Nombre Apellido  Edad  Producto_id   Producto  Precio  Coste  \\\n",
       "0             1   Joan   Gasull    25            1    Libreta     1.2   0.40   \n",
       "1             1   Joan   Gasull    25            2  Bolígrafo     0.4   0.15   \n",
       "\n",
       "   Margen  Cantidad       Fecha  \n",
       "0    0.80         3  03-02-2018  \n",
       "1    0.25         1  03-02-2018  "
      ],
      "text/html": "<div>\n<style scoped>\n    .dataframe tbody tr th:only-of-type {\n        vertical-align: middle;\n    }\n\n    .dataframe tbody tr th {\n        vertical-align: top;\n    }\n\n    .dataframe thead th {\n        text-align: right;\n    }\n</style>\n<table border=\"1\" class=\"dataframe\">\n  <thead>\n    <tr style=\"text-align: right;\">\n      <th></th>\n      <th>Comprador_id</th>\n      <th>Nombre</th>\n      <th>Apellido</th>\n      <th>Edad</th>\n      <th>Producto_id</th>\n      <th>Producto</th>\n      <th>Precio</th>\n      <th>Coste</th>\n      <th>Margen</th>\n      <th>Cantidad</th>\n      <th>Fecha</th>\n    </tr>\n  </thead>\n  <tbody>\n    <tr>\n      <th>0</th>\n      <td>1</td>\n      <td>Joan</td>\n      <td>Gasull</td>\n      <td>25</td>\n      <td>1</td>\n      <td>Libreta</td>\n      <td>1.2</td>\n      <td>0.40</td>\n      <td>0.80</td>\n      <td>3</td>\n      <td>03-02-2018</td>\n    </tr>\n    <tr>\n      <th>1</th>\n      <td>1</td>\n      <td>Joan</td>\n      <td>Gasull</td>\n      <td>25</td>\n      <td>2</td>\n      <td>Bolígrafo</td>\n      <td>0.4</td>\n      <td>0.15</td>\n      <td>0.25</td>\n      <td>1</td>\n      <td>03-02-2018</td>\n    </tr>\n  </tbody>\n</table>\n</div>"
     },
     "metadata": {},
     "execution_count": 35
    }
   ],
   "source": [
    "productos = df.drop_duplicates(subset=\"Producto_id\",keep=\"first\")\n",
    "productos"
   ]
  },
  {
   "cell_type": "code",
   "execution_count": 37,
   "metadata": {},
   "outputs": [
    {
     "output_type": "execute_result",
     "data": {
      "text/plain": [
       "   Producto_id   Producto  Precio  Coste  Margen\n",
       "0            1    Libreta     1.2   0.40    0.80\n",
       "1            2  Bolígrafo     0.4   0.15    0.25"
      ],
      "text/html": "<div>\n<style scoped>\n    .dataframe tbody tr th:only-of-type {\n        vertical-align: middle;\n    }\n\n    .dataframe tbody tr th {\n        vertical-align: top;\n    }\n\n    .dataframe thead th {\n        text-align: right;\n    }\n</style>\n<table border=\"1\" class=\"dataframe\">\n  <thead>\n    <tr style=\"text-align: right;\">\n      <th></th>\n      <th>Producto_id</th>\n      <th>Producto</th>\n      <th>Precio</th>\n      <th>Coste</th>\n      <th>Margen</th>\n    </tr>\n  </thead>\n  <tbody>\n    <tr>\n      <th>0</th>\n      <td>1</td>\n      <td>Libreta</td>\n      <td>1.2</td>\n      <td>0.40</td>\n      <td>0.80</td>\n    </tr>\n    <tr>\n      <th>1</th>\n      <td>2</td>\n      <td>Bolígrafo</td>\n      <td>0.4</td>\n      <td>0.15</td>\n      <td>0.25</td>\n    </tr>\n  </tbody>\n</table>\n</div>"
     },
     "metadata": {},
     "execution_count": 37
    }
   ],
   "source": [
    "# Quedarse con las columnas necesarias\n",
    "productos = productos[['Producto_id','Producto','Precio','Coste','Margen']]\n",
    "productos"
   ]
  },
  {
   "source": [
    "### Crear tabla de compras"
   ],
   "cell_type": "markdown",
   "metadata": {}
  },
  {
   "cell_type": "code",
   "execution_count": 38,
   "metadata": {},
   "outputs": [
    {
     "output_type": "execute_result",
     "data": {
      "text/plain": [
       "   Comprador_id  Producto_id       Fecha  Cantidad\n",
       "0             1            1  03-02-2018         3\n",
       "1             1            2  03-02-2018         1\n",
       "2             1            1  15-02-2018         3\n",
       "3             2            2  01-02-2018         4\n",
       "4             2            1  05-03-2018        10\n",
       "5             3            1  09-02-2018        10"
      ],
      "text/html": "<div>\n<style scoped>\n    .dataframe tbody tr th:only-of-type {\n        vertical-align: middle;\n    }\n\n    .dataframe tbody tr th {\n        vertical-align: top;\n    }\n\n    .dataframe thead th {\n        text-align: right;\n    }\n</style>\n<table border=\"1\" class=\"dataframe\">\n  <thead>\n    <tr style=\"text-align: right;\">\n      <th></th>\n      <th>Comprador_id</th>\n      <th>Producto_id</th>\n      <th>Fecha</th>\n      <th>Cantidad</th>\n    </tr>\n  </thead>\n  <tbody>\n    <tr>\n      <th>0</th>\n      <td>1</td>\n      <td>1</td>\n      <td>03-02-2018</td>\n      <td>3</td>\n    </tr>\n    <tr>\n      <th>1</th>\n      <td>1</td>\n      <td>2</td>\n      <td>03-02-2018</td>\n      <td>1</td>\n    </tr>\n    <tr>\n      <th>2</th>\n      <td>1</td>\n      <td>1</td>\n      <td>15-02-2018</td>\n      <td>3</td>\n    </tr>\n    <tr>\n      <th>3</th>\n      <td>2</td>\n      <td>2</td>\n      <td>01-02-2018</td>\n      <td>4</td>\n    </tr>\n    <tr>\n      <th>4</th>\n      <td>2</td>\n      <td>1</td>\n      <td>05-03-2018</td>\n      <td>10</td>\n    </tr>\n    <tr>\n      <th>5</th>\n      <td>3</td>\n      <td>1</td>\n      <td>09-02-2018</td>\n      <td>10</td>\n    </tr>\n  </tbody>\n</table>\n</div>"
     },
     "metadata": {},
     "execution_count": 38
    }
   ],
   "source": [
    "# Debido a que el DataFrame original respondia a las compras realizadas se realiza lo siguiente\n",
    "compras = df[['Comprador_id','Producto_id','Fecha','Cantidad']]\n",
    "compras # Informacion que une la tabla de compradores con la tabla de productos"
   ]
  }
 ]
}