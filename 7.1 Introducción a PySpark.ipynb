{
 "cells": [
  {
   "cell_type": "markdown",
   "id": "fourth-understanding",
   "metadata": {},
   "source": [
    "# Introducción al PySpark\n",
    "\n",
    "No todo lo que se ejecuta se realiza al instante, sino que las transformaciones por ejemplo, no se ejecutan hasta que no especifiquemos ninguna acción."
   ]
  },
  {
   "cell_type": "code",
   "execution_count": 1,
   "id": "alternate-drive",
   "metadata": {},
   "outputs": [],
   "source": [
    "from pyspark import SparkConf, SparkContext\n",
    "# Generar una variable de configuración, especificar un master local (como no estamos gestionando nada desde un cluster estamos actuando en local), se le da un nombre (puede ser cualquiera)\n",
    "conf = SparkConf().setMaster('local').setAppName('Mi programa')\n",
    "# Generar un contexto que va a depender de la configuración que acabamos de generar\n",
    "# Sólo se puede generar un context, así que si se ejecuta varias veces el siguiente notebook generará un error si no reincia el kernel\n",
    "sc = SparkContext(conf = conf)\n"
   ]
  },
  {
   "cell_type": "code",
   "execution_count": 2,
   "id": "governmental-friend",
   "metadata": {},
   "outputs": [
    {
     "data": {
      "text/html": [
       "\n",
       "        <div>\n",
       "            <p><b>SparkContext</b></p>\n",
       "\n",
       "            <p><a href=\"http://192.168.0.110:4040\">Spark UI</a></p>\n",
       "\n",
       "            <dl>\n",
       "              <dt>Version</dt>\n",
       "                <dd><code>v3.1.1</code></dd>\n",
       "              <dt>Master</dt>\n",
       "                <dd><code>local</code></dd>\n",
       "              <dt>AppName</dt>\n",
       "                <dd><code>Mi programa</code></dd>\n",
       "            </dl>\n",
       "        </div>\n",
       "        "
      ],
      "text/plain": [
       "<SparkContext master=local appName=Mi programa>"
      ]
     },
     "execution_count": 2,
     "metadata": {},
     "output_type": "execute_result"
    }
   ],
   "source": [
    "sc # Podemos gestionar diversas variables y procesos a través de este link"
   ]
  },
  {
   "cell_type": "code",
   "execution_count": 7,
   "id": "behavioral-celebration",
   "metadata": {},
   "outputs": [
    {
     "data": {
      "text/plain": [
       "ejemplo.txt MapPartitionsRDD[8] at textFile at NativeMethodAccessorImpl.java:0"
      ]
     },
     "execution_count": 7,
     "metadata": {},
     "output_type": "execute_result"
    }
   ],
   "source": [
    "# Cargar un ejemplo\n",
    "lines = sc.textFile('ejemplo.txt')\n",
    "lines\n",
    "# Spark no es tan atractivo a la vista en tanto la gestión del output\n",
    "# Se observa que se ha generado un RDD"
   ]
  },
  {
   "cell_type": "code",
   "execution_count": 9,
   "id": "southern-differential",
   "metadata": {},
   "outputs": [
    {
     "data": {
      "text/plain": [
       "6"
      ]
     },
     "execution_count": 9,
     "metadata": {},
     "output_type": "execute_result"
    }
   ],
   "source": [
    "lines.count() # Número de lineas"
   ]
  },
  {
   "cell_type": "code",
   "execution_count": 11,
   "id": "enclosed-spank",
   "metadata": {},
   "outputs": [
    {
     "data": {
      "text/plain": [
       "'Apache Spark'"
      ]
     },
     "execution_count": 11,
     "metadata": {},
     "output_type": "execute_result"
    }
   ],
   "source": [
    "lines.first() # Muestra la primera línea\n"
   ]
  },
  {
   "cell_type": "code",
   "execution_count": 12,
   "id": "visible-shame",
   "metadata": {},
   "outputs": [],
   "source": [
    "# Transformaciones\n",
    "# Remuestreo del 10 (fraction = 0.1) del 10 porciento de los casos del original\n",
    "# Sin reemplazo\n",
    "lines2 = lines.sample(fraction = 0.1, withReplacement = False)\n",
    "# Esto es instantaneo porque no ha ejecutado nada, ha quedado pendiente de que ejecutemos alguna accion"
   ]
  },
  {
   "cell_type": "code",
   "execution_count": 13,
   "id": "intensive-connectivity",
   "metadata": {},
   "outputs": [
    {
     "data": {
      "text/plain": [
       "''"
      ]
     },
     "execution_count": 13,
     "metadata": {},
     "output_type": "execute_result"
    }
   ],
   "source": [
    "lines2.first() # Muestra otra fila del archivo de texto"
   ]
  }
 ],
 "metadata": {
  "kernelspec": {
   "display_name": "Python 3",
   "language": "python",
   "name": "python3"
  },
  "language_info": {
   "codemirror_mode": {
    "name": "ipython",
    "version": 3
   },
   "file_extension": ".py",
   "mimetype": "text/x-python",
   "name": "python",
   "nbconvert_exporter": "python",
   "pygments_lexer": "ipython3",
   "version": "3.8.6"
  }
 },
 "nbformat": 4,
 "nbformat_minor": 5
}
