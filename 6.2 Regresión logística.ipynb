{
 "cells": [
  {
   "cell_type": "markdown",
   "id": "palestinian-neighborhood",
   "metadata": {},
   "source": [
    "# Regresión logística"
   ]
  },
  {
   "cell_type": "markdown",
   "id": "spread-scotland",
   "metadata": {},
   "source": [
    "Existe una versión que permite predecir variables que toman categorías en vez de valores numéricos continuos.\n",
    "\n",
    "Esta versión modela la probabilidad de que obtengamos cada una de las categorías.\n",
    "\n",
    "Típicamente, se explica como un modelo binario.\n",
    "- Por ejemplo, para predecir si un cliente va a comprar un cierto producto o no.\n",
    "\n",
    "Pero el modelo está totalmente adaptado a un número ilimitado de categorías. A este modelo se le llama **regresión logística**\n",
    "\n",
    "Así, en vez de usar la expresión clásica del modelo lineal que obtiene valores para la variable respuesta entre menos infinito e infinito, vamos a obtener la probabilidad de una cierta categoría con la siguiente expresión, que va a devolver valores entre el cero y el uno. Como puede observarse en esta función, si el exponencial toma un valor igual a 0, estamos obteniendo probabilidad igual a 1.\n",
    "\n",
    "![](https://i.imgur.com/wIlT974.png)\n",
    "\n",
    "En cambio, si el valor del exponente de la exponencial crece muchísimo, esta función va a tender a un valor muy grande y esto va a tener una probabilidad muy, muy, muy baja, así que en el límite esta probabilidad va a ser 0.\n"
   ]
  },
  {
   "cell_type": "code",
   "execution_count": 2,
   "id": "graphic-december",
   "metadata": {},
   "outputs": [],
   "source": [
    "import pandas as pd\n",
    "import numpy as np\n",
    "from sklearn.linear_model import LogisticRegression\n",
    "from sklearn.metrics import confusion_matrix\n",
    "import matplotlib.pyplot as plt\n",
    "\n",
    "df = pd.read_csv(r\"/home/flavioisay/MEGAsync/Python para data science y big data esencial/base_datos_2008.csv\")"
   ]
  },
  {
   "cell_type": "code",
   "execution_count": 3,
   "id": "modern-laugh",
   "metadata": {},
   "outputs": [],
   "source": [
    "df = df.dropna(subset = ['ArrDelay']) # Eliminar los datos faltantes de nuestra variable respuesta\n",
    "df = df.sample(frac = 1).head(100000) # Seleccionar 100,000 datos de una fraccion aleatoria del dataframe\n",
    "# Generar la variable de respuesta, todos los vuelos que se hayan retrasado menor a 30 minutos\n",
    "Y = df['ArrDelay'] < 30 # True = 1 / False = 0 // Interpretación: Vuelos sin retraso notable\n",
    "# Ajustar el vuelo con una sola variable, el retraso en la salida\n",
    "X = df[['DepDelay']]"
   ]
  },
  {
   "cell_type": "code",
   "execution_count": 4,
   "id": "average-package",
   "metadata": {},
   "outputs": [],
   "source": [
    "# Crear el modelo con LogisticRegression\n",
    "logreg = LogisticRegression()\n",
    "# Se ajusta con fit, x puede ser un data frame con varias columnas\n",
    "# Fijarse si son datos categoricos, ya que si es asi se tendran que convertir en dummies\n",
    "logreg.fit(X,Y)\n",
    "# Obtener predicciones\n",
    "Y_pred = logreg.predict(X)\n",
    "# La regresion logistica devuelve probabilidades\n",
    "# Selecciona aquella categoria con probabilidad superior"
   ]
  },
  {
   "cell_type": "code",
   "execution_count": 5,
   "id": "altered-trace",
   "metadata": {},
   "outputs": [
    {
     "data": {
      "text/plain": [
       "array([[0.014, 0.986],\n",
       "       [0.06 , 0.94 ],\n",
       "       [0.01 , 0.99 ],\n",
       "       ...,\n",
       "       [0.037, 0.963],\n",
       "       [0.013, 0.987],\n",
       "       [0.011, 0.989]])"
      ]
     },
     "execution_count": 5,
     "metadata": {},
     "output_type": "execute_result"
    }
   ],
   "source": [
    "np.round(logreg.predict_proba(X),3)\n",
    "# El primer valor tiene unb 1.4% de pertenecer al grupo 0 y una probabilidad de 98.6% de permanecer al grupo 1\n",
    "# Es decir, el primer caso es muy probable que no tenga un retraso notable\n",
    "# Permite saber que tan seguros estamos de que sea si o que sea no"
   ]
  },
  {
   "cell_type": "code",
   "execution_count": 6,
   "id": "collected-barcelona",
   "metadata": {},
   "outputs": [
    {
     "data": {
      "text/plain": [
       "0.95603"
      ]
     },
     "execution_count": 6,
     "metadata": {},
     "output_type": "execute_result"
    }
   ],
   "source": [
    "# Evaluar eficiencia del modelo\n",
    "# Ver en que caso las predicciones concuerdan con el valor real\n",
    "# Genera un array con 1 si hay coincidencia y 0 si no lo hay\n",
    "np.mean(Y_pred == Y) # 95.6% de las predicciones son correctas\n",
    "# Si es bajo no debe abrumar ya que puede depender de que tan balanceadas estan las categorias\n",
    "# Es decir, que existan mas casos del valor real en una categoria que en la otra"
   ]
  },
  {
   "cell_type": "code",
   "execution_count": 7,
   "id": "consistent-tournament",
   "metadata": {},
   "outputs": [
    {
     "data": {
      "text/plain": [
       "0.86469"
      ]
     },
     "execution_count": 7,
     "metadata": {},
     "output_type": "execute_result"
    }
   ],
   "source": [
    "# Comprobar\n",
    "np.mean(Y) # La mayoria de los casos toman un valor igual a uno\n",
    "# Esto quiere decir, que el modelo es bueno pero no tanto como pudiese parecer\n",
    "# Con este modelo se puede predecir el 86.4% de los casos.\n",
    "# Hay un balance de categorias bastante asimetrico\n",
    "# Se debe vigilar este tipo de modelos, ya que, si las categorias no estan compensadas, podemos sobreestimar la precision de nuestro modelo."
   ]
  },
  {
   "cell_type": "code",
   "execution_count": 8,
   "id": "developed-serve",
   "metadata": {},
   "outputs": [
    {
     "name": "stdout",
     "output_type": "stream",
     "text": [
      "[[10209  3322]\n",
      " [ 1075 85394]]\n"
     ]
    }
   ],
   "source": [
    "# Como funciona la matriz de confusion\n",
    "# Este depende de dos valores, los reales y los predichos\n",
    "confusion_matrix = confusion_matrix(Y, Y_pred)\n",
    "print(confusion_matrix)\n",
    "# Filas: Son los valores reales\n",
    "# Columnas: Valores predichos por el modelo\n",
    "# # 0   1\n",
    "# 0\n",
    "# 1\n",
    "# Los 10209 son los casos que realmente eran un cero o false y que nuestro modelo ha predicho que como un cero\n",
    "# Los 1075 son los que eran un 1 pero nuestro modelo los tomo como un 0\n",
    "# La categoria mayoritaria es 85394, que son aquellos casos que no se han retrasado y nuestro modelo ha clasificado como no retrasado\n",
    "# Esta matriz es util para saber que tan bien predice nuestro modelo, ver que tipo de sesgo hay  en una direccion o se sobresitma una categoria"
   ]
  }
 ],
 "metadata": {
  "kernelspec": {
   "display_name": "Python 3",
   "language": "python",
   "name": "python3"
  },
  "language_info": {
   "codemirror_mode": {
    "name": "ipython",
    "version": 3
   },
   "file_extension": ".py",
   "mimetype": "text/x-python",
   "name": "python",
   "nbconvert_exporter": "python",
   "pygments_lexer": "ipython3",
   "version": "3.8.6"
  }
 },
 "nbformat": 4,
 "nbformat_minor": 5
}
