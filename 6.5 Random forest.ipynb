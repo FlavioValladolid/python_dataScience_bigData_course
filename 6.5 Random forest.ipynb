{
 "cells": [
  {
   "cell_type": "markdown",
   "id": "sound-letter",
   "metadata": {},
   "source": [
    "# Random forest\n",
    "- Es un conjunto de cientos o miles de árboles.\n",
    "- Selecciona de manera aleatoria observaciones de nuestra base de datos, dejando deliberadamente fuera otras. \n",
    "- Selecciona aleatoriamente las variables\n",
    "\n",
    "Crea nuevos árboles de regresión o clasificación con datos diferentes en cada caso\n",
    "\n",
    "### Virtudes del Random forest\n",
    "- Evita sobreajustar los resultados del modelo.\n",
    "- Asigna un peso variable a las distintas observaciones.\n",
    "- Asigna un peso aleatorio a las distintas variables.\n",
    "\n",
    "### Resultados finales del modelo\n",
    "- Media de los resultados obtenidos en variables numéricas.\n",
    "- Categoría mayoritaria en las respuestas categóricas."
   ]
  },
  {
   "cell_type": "code",
   "execution_count": 2,
   "id": "worse-borough",
   "metadata": {},
   "outputs": [],
   "source": [
    "from sklearn import tree\n",
    "import numpy as np\n",
    "import pandas as pd\n",
    "from sklearn.ensemble import RandomForestClassifier\n",
    "\n",
    "df = pd.read_csv(r'./base_datos_2008.csv') # Importar base de datos\n",
    "df = df.dropna(subset = ['ArrDelay'])      # Eliminar casos faltantes\n",
    "df = df.sample(frac = 1)                   # Mezclar base de datos\n",
    "dftest = df.tail(500000)                   # Partir un DataFrame para el test\n",
    "df = df.head(500000)                       # y un DataFrame para el training"
   ]
  },
  {
   "cell_type": "code",
   "execution_count": 3,
   "id": "compact-noise",
   "metadata": {},
   "outputs": [],
   "source": [
    "clf = tree.DecisionTreeClassifier()  # Ajustar un árbol de clasificación\n",
    "\n",
    "# Seleccionar las variables que funcionarán como regresoras del modelo, son todas cuantitativas\n",
    "X = df[['Distance','AirTime','DepTime','TaxiIn','TaxiOut','DepDelay']]\n",
    "\n",
    "# Seleccionar las mismas para el training que para el test\n",
    "X_test = dftest[['Distance','AirTime','DepTime','TaxiIn','TaxiOut','DepDelay']]\n",
    "\n",
    "# Crear una variable el respuesta, si el veulo se ha retrasado más de 10 minutos o no\n",
    "Y = df['ArrDelay'] > 10\n",
    "Y_test = dftest['ArrDelay'] > 10\n",
    "\n",
    "# Entrenar el modelo\n",
    "clf = clf.fit(X,Y)\n",
    "Y_pred_test = clf.predict(X_test)"
   ]
  },
  {
   "cell_type": "code",
   "execution_count": 4,
   "id": "substantial-anger",
   "metadata": {},
   "outputs": [
    {
     "data": {
      "text/plain": [
       "0.89363"
      ]
     },
     "execution_count": 4,
     "metadata": {},
     "output_type": "execute_result"
    }
   ],
   "source": [
    "np.mean(Y_test == Y_pred_test) # Este número se compara con el generado por el random forest"
   ]
  },
  {
   "cell_type": "code",
   "execution_count": 5,
   "id": "behavioral-belarus",
   "metadata": {},
   "outputs": [
    {
     "data": {
      "text/plain": [
       "array([0.09108723, 0.08104752, 0.08197134, 0.04982811, 0.13322565,\n",
       "       0.56284014])"
      ]
     },
     "execution_count": 5,
     "metadata": {},
     "output_type": "execute_result"
    }
   ],
   "source": [
    "# Se indica que se generen 100 árboles con n_estimators\n",
    "# A veces no es tan bueno generar muchos árboles, si esto sucede es perder el tiempo\n",
    "# con n_jobs = -1 se indica que use todos los núcleos disponibles de la computadora\n",
    "clf = RandomForestClassifier(n_estimators = 100, n_jobs = -1)\n",
    "\n",
    "# Entrenar el objeto con nuestro conjunto training\n",
    "clf.fit(X,Y)\n",
    "\n",
    "# Hacer las predicciones para nuestro conjunto test\n",
    "Y_pred_test = clf.predict(X_test)\n",
    "\n",
    "# RandomForest nos permite clasificar la importancia de cada una de las variables que hemos usado\n",
    "\n",
    "clf.feature_importances_ # Este parámetro es muy útil a la hora de predecir una cierta categoría\n",
    "# Se pueden modificar unos parámetros para random forest classifier\n",
    "# n_estimators / max_features / bootstrap / n_jobs\n",
    "# max_features sirve para fijar un número máximo de variables que queremos que entren en el modelo\n",
    "# bootstrap es un método que permite realizar un mustreo con reemplazo de nuestros datos, esta genera muestras aleatorias en nuestras filas y va a ajustar los árboles con ellas, se selecciona con \"bootstrap = True\"\n",
    "\n",
    "\n",
    "\n",
    "\n",
    "# El output nos indica en porcentaje qué variable es la más relevante en la media de todos los árboles\n",
    "# Se observa que la última con un 56% es la más importante\n",
    "# Por lo tanto, la variable más explicativa es la variable de salida\n",
    "# Está muy correlacionada con el retraso de llegada"
   ]
  },
  {
   "cell_type": "code",
   "execution_count": 6,
   "id": "humanitarian-visit",
   "metadata": {},
   "outputs": [
    {
     "data": {
      "text/plain": [
       "0.92355"
      ]
     },
     "execution_count": 6,
     "metadata": {},
     "output_type": "execute_result"
    }
   ],
   "source": [
    "# Mostrar qué tan bien predice este modelo\n",
    "np.mean(Y_test == Y_pred_test) \n",
    "# Incrementa en un 3% el potencial predictivo que tenía un árbol de clasificación\n",
    "# Cuanto más alto sea el potencial predictivo de un modelo más difícil será incrementarlo"
   ]
  },
  {
   "cell_type": "code",
   "execution_count": null,
   "id": "elder-tribe",
   "metadata": {},
   "outputs": [],
   "source": [
    "# Función necesaria si la variable respuesta fuera numérica, se justa de igual forma que la anterior\n",
    "# RandomForestRegressor()\n",
    "# Se necesita buscar otro tipo de métrica como el r2"
   ]
  }
 ],
 "metadata": {
  "kernelspec": {
   "display_name": "Python 3",
   "language": "python",
   "name": "python3"
  },
  "language_info": {
   "codemirror_mode": {
    "name": "ipython",
    "version": 3
   },
   "file_extension": ".py",
   "mimetype": "text/x-python",
   "name": "python",
   "nbconvert_exporter": "python",
   "pygments_lexer": "ipython3",
   "version": "3.8.6"
  }
 },
 "nbformat": 4,
 "nbformat_minor": 5
}
