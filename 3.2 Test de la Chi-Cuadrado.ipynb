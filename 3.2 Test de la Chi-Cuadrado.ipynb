{
 "metadata": {
  "language_info": {
   "codemirror_mode": {
    "name": "ipython",
    "version": 3
   },
   "file_extension": ".py",
   "mimetype": "text/x-python",
   "name": "python",
   "nbconvert_exporter": "python",
   "pygments_lexer": "ipython3",
   "version": "3.8.5-final"
  },
  "orig_nbformat": 2,
  "kernelspec": {
   "name": "python3",
   "display_name": "Python 3.8.5 64-bit (conda)",
   "metadata": {
    "interpreter": {
     "hash": "ed225720166559e7176d3793db16a2fd8d295f725007103b21ac3099d2a89ee8"
    }
   }
  }
 },
 "nbformat": 4,
 "nbformat_minor": 2,
 "cells": [
  {
   "source": [
    "# Test de la Chi-Cuadrado\n",
    "Permite un criterio sólido para encontrar relaciones entre variables cualitativas utilizando tablas de contingencia\n",
    "\n",
    "El fundamento de este test es comparar la suma de diferencias al cuadrado entre lo que estamos observando, es decir, nuestros datos reales, y aquello que cabría esperar en una situación donde no existe ninguna relación entre variables.\n",
    "\n",
    "Este permite cuantificar la magnitud de estas distancias, compararlas con una distribución que es la de 'x' cuadrado, y decidir si podemos afirmar que estas variables están relacionadas significativamente.\n",
    "\n",
    "Una de las debilidades de este test es que no permite cuantificar cada una de las relaciones entre categorías, pero permite afirmaciones globales del tipo \"fumar está relacionado significativamente con el cáncer de pulmón\"\n",
    "- Aun así, una exploración visual de las tablas permite determinar en qué dirección se da esta relación.\n"
   ],
   "cell_type": "markdown",
   "metadata": {}
  },
  {
   "cell_type": "code",
   "execution_count": 1,
   "metadata": {},
   "outputs": [],
   "source": [
    "import pandas as pd\n",
    "import numpy as np\n",
    "df = pd.read_csv('base_datos_2008.csv')"
   ]
  },
  {
   "source": [
    "### Fijar una semilla"
   ],
   "cell_type": "markdown",
   "metadata": {}
  },
  {
   "cell_type": "code",
   "execution_count": 2,
   "metadata": {},
   "outputs": [],
   "source": [
    "np.random.seed(0) # Al fijar una semilla se hace que cuando quiera replicar el código, se va a obtener los mismos resultados aun cuando se apliquen distintas funciones aleatorias\n",
    "\n",
    "# Crear un subset de los datos, seleccionar solamente aquellos casos, aquellos vuelos, que tengan un origen en uno de los tres aeropuertos seleccionado.\n",
    "df = df[df['Origin'].isin(['HOU','ATL','IND'])] # Filtrar\n",
    "# Reordenar la base de datos\n",
    "df = df.sample(frac = 1)\n",
    "# Seleccionar las primeras 10000 filas\n",
    "df = df[0:10000] # Un test con millones de filas no tiene demasiado sentido, ya que siempre vamos a encontrar algun tipo de relacion"
   ]
  },
  {
   "source": [
    "### Generar una nueva variable"
   ],
   "cell_type": "markdown",
   "metadata": {}
  },
  {
   "cell_type": "code",
   "execution_count": 5,
   "metadata": {},
   "outputs": [
    {
     "output_type": "execute_result",
     "data": {
      "text/plain": [
       "Origin     ATL   HOU  IND    All\n",
       "BigDelay                        \n",
       "False     6927   883  765   8575\n",
       "True      1197   129   99   1425\n",
       "All       8124  1012  864  10000"
      ],
      "text/html": "<div>\n<style scoped>\n    .dataframe tbody tr th:only-of-type {\n        vertical-align: middle;\n    }\n\n    .dataframe tbody tr th {\n        vertical-align: top;\n    }\n\n    .dataframe thead th {\n        text-align: right;\n    }\n</style>\n<table border=\"1\" class=\"dataframe\">\n  <thead>\n    <tr style=\"text-align: right;\">\n      <th>Origin</th>\n      <th>ATL</th>\n      <th>HOU</th>\n      <th>IND</th>\n      <th>All</th>\n    </tr>\n    <tr>\n      <th>BigDelay</th>\n      <th></th>\n      <th></th>\n      <th></th>\n      <th></th>\n    </tr>\n  </thead>\n  <tbody>\n    <tr>\n      <th>False</th>\n      <td>6927</td>\n      <td>883</td>\n      <td>765</td>\n      <td>8575</td>\n    </tr>\n    <tr>\n      <th>True</th>\n      <td>1197</td>\n      <td>129</td>\n      <td>99</td>\n      <td>1425</td>\n    </tr>\n    <tr>\n      <th>All</th>\n      <td>8124</td>\n      <td>1012</td>\n      <td>864</td>\n      <td>10000</td>\n    </tr>\n  </tbody>\n</table>\n</div>"
     },
     "metadata": {},
     "execution_count": 5
    }
   ],
   "source": [
    "# Esta nueva variable va a distinguir entre dos casos: Va a tener un valor 'true' cuando el 'ArrDelay' sea mas grande que 30, que implicara que tenemos un gran retraso de este vuelo, por otro lado va a tener un valor 'false' cuando sea mas pequeño o igual a 30\n",
    "df['BigDelay'] = df['ArrDelay'] > 30\n",
    "# Crear una tabla de contingencia, para ver que estamos haciendo concretamente. \n",
    "# Se selecciona las dos columans que se quiere estudiar, el parametro que depende es columns, por lo que se puede crear una tabla de contingencia de multiples dimensiones.\n",
    "# Con margins = True, se le indica que queremos que guarde tambien los margenes de la tabla\n",
    "observados = pd.crosstab(index=df['BigDelay'],columns=df['Origin'],margins=True)\n",
    "\n",
    "observados"
   ]
  },
  {
   "source": [
    "El 6900 es el numero de vuelos que se han retrasado poco y que han salido de Atlanta.\n",
    "Los márgenes son los elementos hasta la derecha y la fila inferior, el margen inferior es la suma por cada una de las columnas y el margen derecho es la suma para cada una de las filas.\n",
    "La izquina inferior derecha es la suma de todas las observaciones."
   ],
   "cell_type": "markdown",
   "metadata": {}
  },
  {
   "source": [
    "### Importar paquete que va a realizar el test"
   ],
   "cell_type": "markdown",
   "metadata": {}
  },
  {
   "cell_type": "code",
   "execution_count": 7,
   "metadata": {},
   "outputs": [],
   "source": [
    "from scipy.stats import chi2_contingency"
   ]
  },
  {
   "cell_type": "code",
   "execution_count": 9,
   "metadata": {},
   "outputs": [
    {
     "output_type": "execute_result",
     "data": {
      "text/plain": [
       "(8.939538453043031,\n",
       " 0.17700704816414425,\n",
       " 6,\n",
       " array([[ 6966.33,   867.79,   740.88,  8575.  ],\n",
       "        [ 1157.67,   144.21,   123.12,  1425.  ],\n",
       "        [ 8124.  ,  1012.  ,   864.  , 10000.  ]]))"
      ]
     },
     "metadata": {},
     "execution_count": 9
    }
   ],
   "source": [
    "# Pedir que cree un objeto a partir de la tabla\n",
    "test = chi2_contingency(observados)\n",
    "test "
   ]
  },
  {
   "cell_type": "code",
   "execution_count": null,
   "metadata": {},
   "outputs": [],
   "source": [
    " Esto nos devuelve varia información. El primero de todos es el estadístico, es decir, la suma de las diferencias al cuadrado. El segundo de ellos es el p-valor\n",
    " **El p-valor** es una medida que permite tomar decisiones basadas en algun criterio.\n",
    "\n",
    " La tabla es la tabla de valores esperados, que se comparara con los valores observados\n"
   ]
  },
  {
   "source": [
    "### Convertir tabla en un DataFrame"
   ],
   "cell_type": "markdown",
   "metadata": {}
  },
  {
   "cell_type": "code",
   "execution_count": 10,
   "metadata": {},
   "outputs": [
    {
     "output_type": "execute_result",
     "data": {
      "text/plain": [
       "         0        1       2        3\n",
       "0  6966.33   867.79  740.88   8575.0\n",
       "1  1157.67   144.21  123.12   1425.0\n",
       "2  8124.00  1012.00  864.00  10000.0"
      ],
      "text/html": "<div>\n<style scoped>\n    .dataframe tbody tr th:only-of-type {\n        vertical-align: middle;\n    }\n\n    .dataframe tbody tr th {\n        vertical-align: top;\n    }\n\n    .dataframe thead th {\n        text-align: right;\n    }\n</style>\n<table border=\"1\" class=\"dataframe\">\n  <thead>\n    <tr style=\"text-align: right;\">\n      <th></th>\n      <th>0</th>\n      <th>1</th>\n      <th>2</th>\n      <th>3</th>\n    </tr>\n  </thead>\n  <tbody>\n    <tr>\n      <th>0</th>\n      <td>6966.33</td>\n      <td>867.79</td>\n      <td>740.88</td>\n      <td>8575.0</td>\n    </tr>\n    <tr>\n      <th>1</th>\n      <td>1157.67</td>\n      <td>144.21</td>\n      <td>123.12</td>\n      <td>1425.0</td>\n    </tr>\n    <tr>\n      <th>2</th>\n      <td>8124.00</td>\n      <td>1012.00</td>\n      <td>864.00</td>\n      <td>10000.0</td>\n    </tr>\n  </tbody>\n</table>\n</div>"
     },
     "metadata": {},
     "execution_count": 10
    }
   ],
   "source": [
    "esperados = pd.DataFrame(test[3])\n",
    "esperados # Son los valores teoricos esperados si no hubiese ningun tipo de relacion\n",
    "# Estos valores no son posibles ya que son decimales, es una aproximacion teorica"
   ]
  },
  {
   "cell_type": "code",
   "execution_count": 11,
   "metadata": {},
   "outputs": [],
   "source": [
    "# Valores esperados relativos\n",
    "esperados_rel = round(esperados.apply(lambda r: r/len(df) * 100, axis = 1), 2) # Redondeo para que sea mas facil de interpretar\n",
    "# Se aplica una funcion lambda, es decir, una funcion sin nombre, que sera cada valor dividido entre el total de valores por 100\n",
    "# Asi se genera tablas con valores relativos y no valores absolutos, que son mas dificiles de comparar"
   ]
  },
  {
   "cell_type": "code",
   "execution_count": 12,
   "metadata": {},
   "outputs": [],
   "source": [
    "# Valores observados relativos\n",
    "observados_rel = round(observados.apply(lambda r: r/len(df) * 100, axis = 1), 2)"
   ]
  },
  {
   "cell_type": "code",
   "execution_count": 15,
   "metadata": {},
   "outputs": [
    {
     "output_type": "execute_result",
     "data": {
      "text/plain": [
       "Origin      ATL    HOU   IND     All\n",
       "BigDelay                            \n",
       "False     69.27   8.83  7.65   85.75\n",
       "True      11.97   1.29  0.99   14.25\n",
       "All       81.24  10.12  8.64  100.00"
      ],
      "text/html": "<div>\n<style scoped>\n    .dataframe tbody tr th:only-of-type {\n        vertical-align: middle;\n    }\n\n    .dataframe tbody tr th {\n        vertical-align: top;\n    }\n\n    .dataframe thead th {\n        text-align: right;\n    }\n</style>\n<table border=\"1\" class=\"dataframe\">\n  <thead>\n    <tr style=\"text-align: right;\">\n      <th>Origin</th>\n      <th>ATL</th>\n      <th>HOU</th>\n      <th>IND</th>\n      <th>All</th>\n    </tr>\n    <tr>\n      <th>BigDelay</th>\n      <th></th>\n      <th></th>\n      <th></th>\n      <th></th>\n    </tr>\n  </thead>\n  <tbody>\n    <tr>\n      <th>False</th>\n      <td>69.27</td>\n      <td>8.83</td>\n      <td>7.65</td>\n      <td>85.75</td>\n    </tr>\n    <tr>\n      <th>True</th>\n      <td>11.97</td>\n      <td>1.29</td>\n      <td>0.99</td>\n      <td>14.25</td>\n    </tr>\n    <tr>\n      <th>All</th>\n      <td>81.24</td>\n      <td>10.12</td>\n      <td>8.64</td>\n      <td>100.00</td>\n    </tr>\n  </tbody>\n</table>\n</div>"
     },
     "metadata": {},
     "execution_count": 15
    }
   ],
   "source": [
    "observados_rel"
   ]
  },
  {
   "cell_type": "code",
   "execution_count": 16,
   "metadata": {},
   "outputs": [
    {
     "output_type": "execute_result",
     "data": {
      "text/plain": [
       "       0      1     2       3\n",
       "0  69.66   8.68  7.41   85.75\n",
       "1  11.58   1.44  1.23   14.25\n",
       "2  81.24  10.12  8.64  100.00"
      ],
      "text/html": "<div>\n<style scoped>\n    .dataframe tbody tr th:only-of-type {\n        vertical-align: middle;\n    }\n\n    .dataframe tbody tr th {\n        vertical-align: top;\n    }\n\n    .dataframe thead th {\n        text-align: right;\n    }\n</style>\n<table border=\"1\" class=\"dataframe\">\n  <thead>\n    <tr style=\"text-align: right;\">\n      <th></th>\n      <th>0</th>\n      <th>1</th>\n      <th>2</th>\n      <th>3</th>\n    </tr>\n  </thead>\n  <tbody>\n    <tr>\n      <th>0</th>\n      <td>69.66</td>\n      <td>8.68</td>\n      <td>7.41</td>\n      <td>85.75</td>\n    </tr>\n    <tr>\n      <th>1</th>\n      <td>11.58</td>\n      <td>1.44</td>\n      <td>1.23</td>\n      <td>14.25</td>\n    </tr>\n    <tr>\n      <th>2</th>\n      <td>81.24</td>\n      <td>10.12</td>\n      <td>8.64</td>\n      <td>100.00</td>\n    </tr>\n  </tbody>\n</table>\n</div>"
     },
     "metadata": {},
     "execution_count": 16
    }
   ],
   "source": [
    "esperados_rel"
   ]
  },
  {
   "source": [
    "Los margenes se deben mantener, sino significa que algo se hizo mal.\n",
    "\n",
    "Lo que hace el test es comparar si una cantidad es suficientemente mayor al valor de la tabla observada.\n",
    "\n",
    "El test de xi cuadrado ofrece una herramienta estadistica precisa de decision, si cierta diferencia es muy grande o muy pequeña\n",
    "\n",
    "De hecho, lo que va a hacer el test es comparar este elemento con este, este elemento con este, este con este, etc., sumarlos, elevarlos al cuadrado, dividirlos y luego va a generar un estadístico que va a comparar con una distribución. Aquí, al final de todo, vemos un criterio de decisión. \n",
    "\n",
    "El **p-valor**  puede resumirse como la probabilidad de que las relaciones sean mucho más extremas de lo que hemos visto en nuestros datos si comparamos con la situación donde no hay ninguna relación. Dicho de otra forma, es un indicador de cómo de extraño sería ver nuestros datos si no hubiese relación entre variables. Un valor muy bajo, como vemos aquí, implica que hay relación significativa. Y un valor muy alto, que no podemos afirmar que la haya. Vamos a ver cuál es el resultado concreto en nuestro test y en qué situación nos encontramos."
   ],
   "cell_type": "markdown",
   "metadata": {}
  },
  {
   "source": [
    "### Resumen\n",
    "- Si el p-valor < 0.05, hay diferencias significativas: Hay relacion entre variables\n",
    "- Si el p-valor > 0.05, no hay diferencias significativas: No hay relacion entre variables\n"
   ],
   "cell_type": "markdown",
   "metadata": {}
  },
  {
   "cell_type": "code",
   "execution_count": 17,
   "metadata": {},
   "outputs": [
    {
     "output_type": "execute_result",
     "data": {
      "text/plain": [
       "0.17700704816414425"
      ]
     },
     "metadata": {},
     "execution_count": 17
    }
   ],
   "source": [
    "test[1] # El resultado es bastante mayor que el limite que nos fijamos por lo que no podemos determianr que hay relacion entre variables"
   ]
  }
 ]
}