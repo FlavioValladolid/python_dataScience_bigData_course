{
 "metadata": {
  "language_info": {
   "codemirror_mode": {
    "name": "ipython",
    "version": 3
   },
   "file_extension": ".py",
   "mimetype": "text/x-python",
   "name": "python",
   "nbconvert_exporter": "python",
   "pygments_lexer": "ipython3",
   "version": "3.8.5-final"
  },
  "orig_nbformat": 2,
  "kernelspec": {
   "name": "python3",
   "display_name": "Python 3.8.5 64-bit (conda)",
   "metadata": {
    "interpreter": {
     "hash": "ed225720166559e7176d3793db16a2fd8d295f725007103b21ac3099d2a89ee8"
    }
   }
  }
 },
 "nbformat": 4,
 "nbformat_minor": 2,
 "cells": [
  {
   "source": [
    "# Introducción a la librería Numpy\n",
    "\n",
    "Numpy es un paquete orientado al análisis matemático y científico de datos, que es uno de los más populares que hay disponibles para Python.\n"
   ],
   "cell_type": "markdown",
   "metadata": {}
  },
  {
   "cell_type": "code",
   "execution_count": 1,
   "metadata": {},
   "outputs": [],
   "source": [
    "import numpy as np"
   ]
  },
  {
   "source": [
    "### Creación de Arrays"
   ],
   "cell_type": "markdown",
   "metadata": {}
  },
  {
   "cell_type": "code",
   "execution_count": 2,
   "metadata": {},
   "outputs": [
    {
     "output_type": "execute_result",
     "data": {
      "text/plain": [
       "array([[8, 7, 8, 5],\n",
       "       [2, 6, 8, 1],\n",
       "       [8, 8, 9, 5]])"
      ]
     },
     "metadata": {},
     "execution_count": 2
    }
   ],
   "source": [
    "valoraciones = np.array([[8,7,8,5],[2,6,8,1],[8,8,9,5]])\n",
    "valoraciones # Crea dos matrices de 3x4"
   ]
  },
  {
   "source": [
    "### Acceder a elementos de una Array"
   ],
   "cell_type": "markdown",
   "metadata": {}
  },
  {
   "cell_type": "code",
   "execution_count": 3,
   "metadata": {},
   "outputs": [
    {
     "output_type": "execute_result",
     "data": {
      "text/plain": [
       "7"
      ]
     },
     "metadata": {},
     "execution_count": 3
    }
   ],
   "source": [
    "valoraciones[0][1] # Acceder al primer elemento de la primer dimensión y al segundo elemento de la segunda dimensión\n",
    "# Fila 1 y Columna 2"
   ]
  },
  {
   "cell_type": "code",
   "execution_count": 4,
   "metadata": {},
   "outputs": [
    {
     "output_type": "execute_result",
     "data": {
      "text/plain": [
       "7"
      ]
     },
     "metadata": {},
     "execution_count": 4
    }
   ],
   "source": [
    "# Notación alternativa\n",
    "\n",
    "valoraciones[0,1]"
   ]
  },
  {
   "cell_type": "code",
   "execution_count": 10,
   "metadata": {},
   "outputs": [
    {
     "output_type": "execute_result",
     "data": {
      "text/plain": [
       "array([[[8, 7, 8, 5],\n",
       "        [2, 6, 4, 1]],\n",
       "\n",
       "       [[8, 8, 9, 5],\n",
       "        [8, 7, 8, 5]],\n",
       "\n",
       "       [[2, 6, 8, 1],\n",
       "        [8, 8, 9, 5]]])"
      ]
     },
     "metadata": {},
     "execution_count": 10
    }
   ],
   "source": [
    "# Crear un array con mas dimensiones\n",
    "valoraciones2 = np.array([[[8,7,8,5],[2,6,4,1]],[[8,8,9,5],[8,7,8,5]],[[2,6,8,1],[8,8,9,5]]])\n",
    "valoraciones2\n",
    "\n",
    "#   Aquí vamos a tener lo mismo, tres clientes, cuatro productos, uno para cada columna, pero cada cliente habrá valorado estos productos hace un año y este año. Así, con este tipo de estructura, podemos ir incrementando la dimensionalidad de nuestros datos y podemos mantener el tipo de análisis que queremos."
   ]
  },
  {
   "cell_type": "code",
   "execution_count": 11,
   "metadata": {},
   "outputs": [
    {
     "output_type": "execute_result",
     "data": {
      "text/plain": [
       "4"
      ]
     },
     "metadata": {},
     "execution_count": 11
    }
   ],
   "source": [
    "# Acceder a los elementos\n",
    "\n",
    "valoraciones2[0,1,2]"
   ]
  },
  {
   "source": [
    "### Crear arrays vacios"
   ],
   "cell_type": "markdown",
   "metadata": {}
  },
  {
   "cell_type": "code",
   "execution_count": 13,
   "metadata": {},
   "outputs": [
    {
     "output_type": "execute_result",
     "data": {
      "text/plain": [
       "array([[[0., 0., 0., 0.],\n",
       "        [0., 0., 0., 0.]],\n",
       "\n",
       "       [[0., 0., 0., 0.],\n",
       "        [0., 0., 0., 0.]],\n",
       "\n",
       "       [[0., 0., 0., 0.],\n",
       "        [0., 0., 0., 0.]]])"
      ]
     },
     "metadata": {},
     "execution_count": 13
    }
   ],
   "source": [
    "# Es escalable a cualquier tipo de dimensiones\n",
    "np.zeros((3,2,4))"
   ]
  },
  {
   "source": [
    "### Operaciones entre arrays del mismo tamaño"
   ],
   "cell_type": "markdown",
   "metadata": {}
  },
  {
   "cell_type": "code",
   "execution_count": 14,
   "metadata": {},
   "outputs": [
    {
     "output_type": "execute_result",
     "data": {
      "text/plain": [
       "array([[[ 9.,  8.,  9.,  6.],\n",
       "        [ 3.,  7.,  5.,  2.]],\n",
       "\n",
       "       [[ 9.,  9., 10.,  6.],\n",
       "        [ 9.,  8.,  9.,  6.]],\n",
       "\n",
       "       [[ 3.,  7.,  9.,  2.],\n",
       "        [ 9.,  9., 10.,  6.]]])"
      ]
     },
     "metadata": {},
     "execution_count": 14
    }
   ],
   "source": [
    "valoraciones2 + np.ones((3,2,4)) # Se le suma un arrays de uno"
   ]
  },
  {
   "source": [
    "### Aplicar la media a todo el Array"
   ],
   "cell_type": "markdown",
   "metadata": {}
  },
  {
   "cell_type": "code",
   "execution_count": 15,
   "metadata": {},
   "outputs": [
    {
     "output_type": "execute_result",
     "data": {
      "text/plain": [
       "6.083333333333333"
      ]
     },
     "metadata": {},
     "execution_count": 15
    }
   ],
   "source": [
    "np.mean(valoraciones2)"
   ]
  },
  {
   "source": [
    "### Aplicar la media en un eje especifico de un Array"
   ],
   "cell_type": "markdown",
   "metadata": {}
  },
  {
   "cell_type": "code",
   "execution_count": 16,
   "metadata": {},
   "outputs": [
    {
     "output_type": "execute_result",
     "data": {
      "text/plain": [
       "array([[6.        , 7.        , 8.33333333, 3.66666667],\n",
       "       [6.        , 7.        , 7.        , 3.66666667]])"
      ]
     },
     "metadata": {},
     "execution_count": 16
    }
   ],
   "source": [
    "np.mean(valoraciones2, axis= 0) # Ejecuta para el primer eje\n",
    "# Con axis = 1, se ejecuta el segundo eje"
   ]
  },
  {
   "source": [
    "### Convertir una lista a un array con las dimensiones que queramos"
   ],
   "cell_type": "markdown",
   "metadata": {}
  },
  {
   "cell_type": "code",
   "execution_count": 17,
   "metadata": {},
   "outputs": [
    {
     "output_type": "execute_result",
     "data": {
      "text/plain": [
       "array([[[ 1,  2],\n",
       "        [ 3,  4]],\n",
       "\n",
       "       [[ 5,  6],\n",
       "        [ 7,  8]],\n",
       "\n",
       "       [[ 9, 10],\n",
       "        [11, 12]]])"
      ]
     },
     "metadata": {},
     "execution_count": 17
    }
   ],
   "source": [
    "np.reshape([1,2,3,4,5,6,7,8,9,10,11,12],(3,2,2))"
   ]
  },
  {
   "source": [
    "### Usar la funcion de la mediana sobre columnas de DataFrames"
   ],
   "cell_type": "markdown",
   "metadata": {}
  },
  {
   "cell_type": "code",
   "execution_count": null,
   "metadata": {},
   "outputs": [],
   "source": [
    "np.median(df[\"Columna1\"])"
   ]
  },
  {
   "source": [
    "### Crear objetos aleatorios"
   ],
   "cell_type": "markdown",
   "metadata": {}
  },
  {
   "cell_type": "code",
   "execution_count": 18,
   "metadata": {},
   "outputs": [
    {
     "output_type": "execute_result",
     "data": {
      "text/plain": [
       "array([[0.3818433 , 0.05009345],\n",
       "       [0.25551881, 0.00960857]])"
      ]
     },
     "metadata": {},
     "execution_count": 18
    }
   ],
   "source": [
    "np.random.rand(2,2) # Generar un objeto con dos dimensiones, dos filas con dos columnas y con numeros aleatorios entre el 0 y el 1"
   ]
  }
 ]
}