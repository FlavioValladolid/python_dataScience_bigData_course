{
 "metadata": {
  "language_info": {
   "codemirror_mode": {
    "name": "ipython",
    "version": 3
   },
   "file_extension": ".py",
   "mimetype": "text/x-python",
   "name": "python",
   "nbconvert_exporter": "python",
   "pygments_lexer": "ipython3",
   "version": "3.8.5-final"
  },
  "orig_nbformat": 2,
  "kernelspec": {
   "name": "python3",
   "display_name": "Python 3.8.5 64-bit (conda)",
   "metadata": {
    "interpreter": {
     "hash": "ed225720166559e7176d3793db16a2fd8d295f725007103b21ac3099d2a89ee8"
    }
   }
  }
 },
 "nbformat": 4,
 "nbformat_minor": 2,
 "cells": [
  {
   "source": [
    "# Tratar datos duplicados y perdidos"
   ],
   "cell_type": "markdown",
   "metadata": {}
  },
  {
   "cell_type": "code",
   "execution_count": 4,
   "metadata": {},
   "outputs": [],
   "source": [
    "import pandas as pd\n",
    "df = pd.read_csv('base_datos_2008.csv', nrows= 1e6) # 1e6 = un millon de datos"
   ]
  },
  {
   "source": [
    "Vamos a empezar hablando de los casos de duplicados, que, a no ser que se trate de casos muy específicos, donde nos interese contabilizar cuántas veces se repiten los casos concretos, el procedimiento habitual es eliminarlos."
   ],
   "cell_type": "markdown",
   "metadata": {}
  },
  {
   "cell_type": "code",
   "execution_count": 5,
   "metadata": {},
   "outputs": [],
   "source": [
    "# Crear un DataFrame con datos duplicados\n",
    "df_duplicate = df.append(df)"
   ]
  },
  {
   "cell_type": "code",
   "execution_count": 7,
   "metadata": {},
   "outputs": [],
   "source": [
    "# Reordenar\n",
    "df_duplicate = df_duplicate.sample(frac = 1)"
   ]
  },
  {
   "cell_type": "code",
   "execution_count": 8,
   "metadata": {},
   "outputs": [],
   "source": [
    "# Aplicar la funcion que elimina los casos faltantes\n",
    "df_clean = df_duplicate.drop_duplicates()"
   ]
  },
  {
   "cell_type": "code",
   "execution_count": 9,
   "metadata": {},
   "outputs": [
    {
     "output_type": "execute_result",
     "data": {
      "text/plain": [
       "False"
      ]
     },
     "metadata": {},
     "execution_count": 9
    }
   ],
   "source": [
    "# Es necesario comprobar si el numero de filas de dataframe nuevo es igual la cantidad de filas original\n",
    "len(df_clean) == len(df) # Si es false quiere decir que habia filas repetidas"
   ]
  },
  {
   "cell_type": "code",
   "execution_count": 10,
   "metadata": {},
   "outputs": [
    {
     "output_type": "execute_result",
     "data": {
      "text/plain": [
       "999996"
      ]
     },
     "metadata": {},
     "execution_count": 10
    }
   ],
   "source": [
    "# El dataframe limpio tenia filas repetidas por lo que se eliminaron (cuatro)\n",
    "len(df_clean)"
   ]
  },
  {
   "source": [
    "### Eliminación de datos específica"
   ],
   "cell_type": "markdown",
   "metadata": {}
  },
  {
   "cell_type": "code",
   "execution_count": 12,
   "metadata": {},
   "outputs": [
    {
     "output_type": "execute_result",
     "data": {
      "text/plain": [
       "        Year  Month  DayofMonth  DayOfWeek  DepTime  CRSDepTime  ArrTime  \\\n",
       "830468  2008      2          24          7   1857.0        1856   2044.0   \n",
       "635397  2008      2          11          1    957.0         950   1243.0   \n",
       "925691  2008      2           7          4    845.0         845    845.0   \n",
       "700797  2008      2           6          3    650.0         700    724.0   \n",
       "851501  2008      2           4          1    945.0         950   1152.0   \n",
       "702002  2008      2           8          5   2011.0        2000   2149.0   \n",
       "747200  2008      2          29          5   1745.0        1745   1825.0   \n",
       "845606  2008      2          27          3   1043.0        1041   1153.0   \n",
       "991029  2008      2          12          2      NaN        1745      NaN   \n",
       "476433  2008      1           1          2      NaN        1925      NaN   \n",
       "153286  2008      1           5          6   1545.0        1545   1829.0   \n",
       "745251  2008      2          26          2   1706.0        1320   1757.0   \n",
       "301271  2008      1           2          3   2213.0        2130   2315.0   \n",
       "500838  2008      1          14          1    756.0         800    941.0   \n",
       "499982  2008      1          18          5   1340.0        1330   1910.0   \n",
       "809343  2008      2          28          4   1655.0        1643   1825.0   \n",
       "598377  2008      1           9          3   1912.0        1855   2225.0   \n",
       "164072  2008      1          23          3   1055.0        1055   1216.0   \n",
       "874642  2008      2          22          5   1328.0        1325   1524.0   \n",
       "582647  2008      1          17          4   1437.0        1330   1543.0   \n",
       "192196  2008      1          15          2   1215.0        1059   1310.0   \n",
       "450398  2008      1           3          4   1208.0        1209   1250.0   \n",
       "872529  2008      2          20          3   1326.0        1330   1519.0   \n",
       "320635  2008      1          30          3    611.0         620   1327.0   \n",
       "272268  2008      1          13          7   1756.0        1755   2041.0   \n",
       "464314  2008      1          25          5   1918.0        1915   2012.0   \n",
       "717189  2008      2          10          7   1254.0        1300   1429.0   \n",
       "462104  2008      1          31          4   1155.0        1200   1312.0   \n",
       "521390  2008      1          19          6      NaN         630      NaN   \n",
       "276046  2008      1          16          3   1106.0        1115   1219.0   \n",
       "998023  2008      2          21          4   1700.0        1705   1857.0   \n",
       "\n",
       "        CRSArrTime UniqueCarrier  FlightNum  ... TaxiIn  TaxiOut  Cancelled  \\\n",
       "830468        2049            UA        664  ...    4.0     16.0          0   \n",
       "635397        1245            WN       1480  ...    4.0     12.0          0   \n",
       "925691         854            EV       4715  ...    5.0     18.0          0   \n",
       "700797         730            XE       7759  ...   13.0      8.0          0   \n",
       "851501        1210            US       1557  ...    5.0     11.0          0   \n",
       "702002        2134            XE       7811  ...   22.0     15.0          0   \n",
       "747200        1824            YV       1006  ...    6.0      9.0          0   \n",
       "845606        1154            UA       1548  ...    5.0     19.0          0   \n",
       "991029        1835            MQ       4246  ...    NaN      NaN          1   \n",
       "476433        2155            9E       5951  ...    NaN      NaN          1   \n",
       "153286        1821            OH       5298  ...    2.0     15.0          0   \n",
       "745251        1424            YV       7394  ...    5.0     13.0          0   \n",
       "301271        2240            WN        625  ...    6.0      8.0          0   \n",
       "500838         955            AA       1173  ...   11.0     12.0          0   \n",
       "499982        1905            AA       1144  ...    9.0     22.0          0   \n",
       "809343        1825            OO       6639  ...    9.0      9.0          0   \n",
       "598377        2243            DL       1085  ...    5.0     28.0          0   \n",
       "164072        1223            OH       5387  ...    5.0     16.0          0   \n",
       "874642        1527            US       1505  ...    8.0     13.0          0   \n",
       "582647        1438            CO       1128  ...    5.0     21.0          0   \n",
       "192196        1153            OO       5531  ...    8.0     14.0          0   \n",
       "450398        1248            NW       1626  ...    7.0     15.0          0   \n",
       "872529        1528            US       1868  ...    4.0     11.0          0   \n",
       "320635        1354            DL         46  ...    6.0     17.0          0   \n",
       "272268        2129            US        703  ...   15.0     19.0          0   \n",
       "464314        2022            9E       4772  ...    6.0      7.0          0   \n",
       "717189        1445            XE       2454  ...    7.0     10.0          0   \n",
       "462104        1321            9E       3782  ...   11.0     15.0          0   \n",
       "521390         925            AA       1970  ...    NaN      NaN          1   \n",
       "276046        1237            US       1604  ...    8.0     11.0          0   \n",
       "998023        1850            MQ       4574  ...    3.0     28.0          0   \n",
       "\n",
       "        CancellationCode  Diverted  CarrierDelay WeatherDelay NASDelay  \\\n",
       "830468               NaN         0           NaN          NaN      NaN   \n",
       "635397               NaN         0           NaN          NaN      NaN   \n",
       "925691               NaN         0           NaN          NaN      NaN   \n",
       "700797               NaN         0           NaN          NaN      NaN   \n",
       "851501               NaN         0           NaN          NaN      NaN   \n",
       "702002               NaN         0           0.0          0.0      4.0   \n",
       "747200               NaN         0           NaN          NaN      NaN   \n",
       "845606               NaN         0           NaN          NaN      NaN   \n",
       "991029                 C         0           NaN          NaN      NaN   \n",
       "476433                 A         0           NaN          NaN      NaN   \n",
       "153286               NaN         0           NaN          NaN      NaN   \n",
       "745251               NaN         0           0.0          0.0      0.0   \n",
       "301271               NaN         0           1.0          0.0      0.0   \n",
       "500838               NaN         0           NaN          NaN      NaN   \n",
       "499982               NaN         0           NaN          NaN      NaN   \n",
       "809343               NaN         0           NaN          NaN      NaN   \n",
       "598377               NaN         0           NaN          NaN      NaN   \n",
       "164072               NaN         0           NaN          NaN      NaN   \n",
       "874642               NaN         0           NaN          NaN      NaN   \n",
       "582647               NaN         0          65.0          0.0      0.0   \n",
       "192196               NaN         0          77.0          0.0      0.0   \n",
       "450398               NaN         0           NaN          NaN      NaN   \n",
       "872529               NaN         0           NaN          NaN      NaN   \n",
       "320635               NaN         0           NaN          NaN      NaN   \n",
       "272268               NaN         0           NaN          NaN      NaN   \n",
       "464314               NaN         0           NaN          NaN      NaN   \n",
       "717189               NaN         0           NaN          NaN      NaN   \n",
       "462104               NaN         0           NaN          NaN      NaN   \n",
       "521390                 A         0           NaN          NaN      NaN   \n",
       "276046               NaN         0           NaN          NaN      NaN   \n",
       "998023               NaN         0           NaN          NaN      NaN   \n",
       "\n",
       "        SecurityDelay  LateAircraftDelay  \n",
       "830468            NaN                NaN  \n",
       "635397            NaN                NaN  \n",
       "925691            NaN                NaN  \n",
       "700797            NaN                NaN  \n",
       "851501            NaN                NaN  \n",
       "702002            0.0               11.0  \n",
       "747200            NaN                NaN  \n",
       "845606            NaN                NaN  \n",
       "991029            NaN                NaN  \n",
       "476433            NaN                NaN  \n",
       "153286            NaN                NaN  \n",
       "745251            0.0              213.0  \n",
       "301271            0.0               34.0  \n",
       "500838            NaN                NaN  \n",
       "499982            NaN                NaN  \n",
       "809343            NaN                NaN  \n",
       "598377            NaN                NaN  \n",
       "164072            NaN                NaN  \n",
       "874642            NaN                NaN  \n",
       "582647            0.0                0.0  \n",
       "192196            0.0                0.0  \n",
       "450398            NaN                NaN  \n",
       "872529            NaN                NaN  \n",
       "320635            NaN                NaN  \n",
       "272268            NaN                NaN  \n",
       "464314            NaN                NaN  \n",
       "717189            NaN                NaN  \n",
       "462104            NaN                NaN  \n",
       "521390            NaN                NaN  \n",
       "276046            NaN                NaN  \n",
       "998023            NaN                NaN  \n",
       "\n",
       "[31 rows x 29 columns]"
      ],
      "text/html": "<div>\n<style scoped>\n    .dataframe tbody tr th:only-of-type {\n        vertical-align: middle;\n    }\n\n    .dataframe tbody tr th {\n        vertical-align: top;\n    }\n\n    .dataframe thead th {\n        text-align: right;\n    }\n</style>\n<table border=\"1\" class=\"dataframe\">\n  <thead>\n    <tr style=\"text-align: right;\">\n      <th></th>\n      <th>Year</th>\n      <th>Month</th>\n      <th>DayofMonth</th>\n      <th>DayOfWeek</th>\n      <th>DepTime</th>\n      <th>CRSDepTime</th>\n      <th>ArrTime</th>\n      <th>CRSArrTime</th>\n      <th>UniqueCarrier</th>\n      <th>FlightNum</th>\n      <th>...</th>\n      <th>TaxiIn</th>\n      <th>TaxiOut</th>\n      <th>Cancelled</th>\n      <th>CancellationCode</th>\n      <th>Diverted</th>\n      <th>CarrierDelay</th>\n      <th>WeatherDelay</th>\n      <th>NASDelay</th>\n      <th>SecurityDelay</th>\n      <th>LateAircraftDelay</th>\n    </tr>\n  </thead>\n  <tbody>\n    <tr>\n      <th>830468</th>\n      <td>2008</td>\n      <td>2</td>\n      <td>24</td>\n      <td>7</td>\n      <td>1857.0</td>\n      <td>1856</td>\n      <td>2044.0</td>\n      <td>2049</td>\n      <td>UA</td>\n      <td>664</td>\n      <td>...</td>\n      <td>4.0</td>\n      <td>16.0</td>\n      <td>0</td>\n      <td>NaN</td>\n      <td>0</td>\n      <td>NaN</td>\n      <td>NaN</td>\n      <td>NaN</td>\n      <td>NaN</td>\n      <td>NaN</td>\n    </tr>\n    <tr>\n      <th>635397</th>\n      <td>2008</td>\n      <td>2</td>\n      <td>11</td>\n      <td>1</td>\n      <td>957.0</td>\n      <td>950</td>\n      <td>1243.0</td>\n      <td>1245</td>\n      <td>WN</td>\n      <td>1480</td>\n      <td>...</td>\n      <td>4.0</td>\n      <td>12.0</td>\n      <td>0</td>\n      <td>NaN</td>\n      <td>0</td>\n      <td>NaN</td>\n      <td>NaN</td>\n      <td>NaN</td>\n      <td>NaN</td>\n      <td>NaN</td>\n    </tr>\n    <tr>\n      <th>925691</th>\n      <td>2008</td>\n      <td>2</td>\n      <td>7</td>\n      <td>4</td>\n      <td>845.0</td>\n      <td>845</td>\n      <td>845.0</td>\n      <td>854</td>\n      <td>EV</td>\n      <td>4715</td>\n      <td>...</td>\n      <td>5.0</td>\n      <td>18.0</td>\n      <td>0</td>\n      <td>NaN</td>\n      <td>0</td>\n      <td>NaN</td>\n      <td>NaN</td>\n      <td>NaN</td>\n      <td>NaN</td>\n      <td>NaN</td>\n    </tr>\n    <tr>\n      <th>700797</th>\n      <td>2008</td>\n      <td>2</td>\n      <td>6</td>\n      <td>3</td>\n      <td>650.0</td>\n      <td>700</td>\n      <td>724.0</td>\n      <td>730</td>\n      <td>XE</td>\n      <td>7759</td>\n      <td>...</td>\n      <td>13.0</td>\n      <td>8.0</td>\n      <td>0</td>\n      <td>NaN</td>\n      <td>0</td>\n      <td>NaN</td>\n      <td>NaN</td>\n      <td>NaN</td>\n      <td>NaN</td>\n      <td>NaN</td>\n    </tr>\n    <tr>\n      <th>851501</th>\n      <td>2008</td>\n      <td>2</td>\n      <td>4</td>\n      <td>1</td>\n      <td>945.0</td>\n      <td>950</td>\n      <td>1152.0</td>\n      <td>1210</td>\n      <td>US</td>\n      <td>1557</td>\n      <td>...</td>\n      <td>5.0</td>\n      <td>11.0</td>\n      <td>0</td>\n      <td>NaN</td>\n      <td>0</td>\n      <td>NaN</td>\n      <td>NaN</td>\n      <td>NaN</td>\n      <td>NaN</td>\n      <td>NaN</td>\n    </tr>\n    <tr>\n      <th>702002</th>\n      <td>2008</td>\n      <td>2</td>\n      <td>8</td>\n      <td>5</td>\n      <td>2011.0</td>\n      <td>2000</td>\n      <td>2149.0</td>\n      <td>2134</td>\n      <td>XE</td>\n      <td>7811</td>\n      <td>...</td>\n      <td>22.0</td>\n      <td>15.0</td>\n      <td>0</td>\n      <td>NaN</td>\n      <td>0</td>\n      <td>0.0</td>\n      <td>0.0</td>\n      <td>4.0</td>\n      <td>0.0</td>\n      <td>11.0</td>\n    </tr>\n    <tr>\n      <th>747200</th>\n      <td>2008</td>\n      <td>2</td>\n      <td>29</td>\n      <td>5</td>\n      <td>1745.0</td>\n      <td>1745</td>\n      <td>1825.0</td>\n      <td>1824</td>\n      <td>YV</td>\n      <td>1006</td>\n      <td>...</td>\n      <td>6.0</td>\n      <td>9.0</td>\n      <td>0</td>\n      <td>NaN</td>\n      <td>0</td>\n      <td>NaN</td>\n      <td>NaN</td>\n      <td>NaN</td>\n      <td>NaN</td>\n      <td>NaN</td>\n    </tr>\n    <tr>\n      <th>845606</th>\n      <td>2008</td>\n      <td>2</td>\n      <td>27</td>\n      <td>3</td>\n      <td>1043.0</td>\n      <td>1041</td>\n      <td>1153.0</td>\n      <td>1154</td>\n      <td>UA</td>\n      <td>1548</td>\n      <td>...</td>\n      <td>5.0</td>\n      <td>19.0</td>\n      <td>0</td>\n      <td>NaN</td>\n      <td>0</td>\n      <td>NaN</td>\n      <td>NaN</td>\n      <td>NaN</td>\n      <td>NaN</td>\n      <td>NaN</td>\n    </tr>\n    <tr>\n      <th>991029</th>\n      <td>2008</td>\n      <td>2</td>\n      <td>12</td>\n      <td>2</td>\n      <td>NaN</td>\n      <td>1745</td>\n      <td>NaN</td>\n      <td>1835</td>\n      <td>MQ</td>\n      <td>4246</td>\n      <td>...</td>\n      <td>NaN</td>\n      <td>NaN</td>\n      <td>1</td>\n      <td>C</td>\n      <td>0</td>\n      <td>NaN</td>\n      <td>NaN</td>\n      <td>NaN</td>\n      <td>NaN</td>\n      <td>NaN</td>\n    </tr>\n    <tr>\n      <th>476433</th>\n      <td>2008</td>\n      <td>1</td>\n      <td>1</td>\n      <td>2</td>\n      <td>NaN</td>\n      <td>1925</td>\n      <td>NaN</td>\n      <td>2155</td>\n      <td>9E</td>\n      <td>5951</td>\n      <td>...</td>\n      <td>NaN</td>\n      <td>NaN</td>\n      <td>1</td>\n      <td>A</td>\n      <td>0</td>\n      <td>NaN</td>\n      <td>NaN</td>\n      <td>NaN</td>\n      <td>NaN</td>\n      <td>NaN</td>\n    </tr>\n    <tr>\n      <th>153286</th>\n      <td>2008</td>\n      <td>1</td>\n      <td>5</td>\n      <td>6</td>\n      <td>1545.0</td>\n      <td>1545</td>\n      <td>1829.0</td>\n      <td>1821</td>\n      <td>OH</td>\n      <td>5298</td>\n      <td>...</td>\n      <td>2.0</td>\n      <td>15.0</td>\n      <td>0</td>\n      <td>NaN</td>\n      <td>0</td>\n      <td>NaN</td>\n      <td>NaN</td>\n      <td>NaN</td>\n      <td>NaN</td>\n      <td>NaN</td>\n    </tr>\n    <tr>\n      <th>745251</th>\n      <td>2008</td>\n      <td>2</td>\n      <td>26</td>\n      <td>2</td>\n      <td>1706.0</td>\n      <td>1320</td>\n      <td>1757.0</td>\n      <td>1424</td>\n      <td>YV</td>\n      <td>7394</td>\n      <td>...</td>\n      <td>5.0</td>\n      <td>13.0</td>\n      <td>0</td>\n      <td>NaN</td>\n      <td>0</td>\n      <td>0.0</td>\n      <td>0.0</td>\n      <td>0.0</td>\n      <td>0.0</td>\n      <td>213.0</td>\n    </tr>\n    <tr>\n      <th>301271</th>\n      <td>2008</td>\n      <td>1</td>\n      <td>2</td>\n      <td>3</td>\n      <td>2213.0</td>\n      <td>2130</td>\n      <td>2315.0</td>\n      <td>2240</td>\n      <td>WN</td>\n      <td>625</td>\n      <td>...</td>\n      <td>6.0</td>\n      <td>8.0</td>\n      <td>0</td>\n      <td>NaN</td>\n      <td>0</td>\n      <td>1.0</td>\n      <td>0.0</td>\n      <td>0.0</td>\n      <td>0.0</td>\n      <td>34.0</td>\n    </tr>\n    <tr>\n      <th>500838</th>\n      <td>2008</td>\n      <td>1</td>\n      <td>14</td>\n      <td>1</td>\n      <td>756.0</td>\n      <td>800</td>\n      <td>941.0</td>\n      <td>955</td>\n      <td>AA</td>\n      <td>1173</td>\n      <td>...</td>\n      <td>11.0</td>\n      <td>12.0</td>\n      <td>0</td>\n      <td>NaN</td>\n      <td>0</td>\n      <td>NaN</td>\n      <td>NaN</td>\n      <td>NaN</td>\n      <td>NaN</td>\n      <td>NaN</td>\n    </tr>\n    <tr>\n      <th>499982</th>\n      <td>2008</td>\n      <td>1</td>\n      <td>18</td>\n      <td>5</td>\n      <td>1340.0</td>\n      <td>1330</td>\n      <td>1910.0</td>\n      <td>1905</td>\n      <td>AA</td>\n      <td>1144</td>\n      <td>...</td>\n      <td>9.0</td>\n      <td>22.0</td>\n      <td>0</td>\n      <td>NaN</td>\n      <td>0</td>\n      <td>NaN</td>\n      <td>NaN</td>\n      <td>NaN</td>\n      <td>NaN</td>\n      <td>NaN</td>\n    </tr>\n    <tr>\n      <th>809343</th>\n      <td>2008</td>\n      <td>2</td>\n      <td>28</td>\n      <td>4</td>\n      <td>1655.0</td>\n      <td>1643</td>\n      <td>1825.0</td>\n      <td>1825</td>\n      <td>OO</td>\n      <td>6639</td>\n      <td>...</td>\n      <td>9.0</td>\n      <td>9.0</td>\n      <td>0</td>\n      <td>NaN</td>\n      <td>0</td>\n      <td>NaN</td>\n      <td>NaN</td>\n      <td>NaN</td>\n      <td>NaN</td>\n      <td>NaN</td>\n    </tr>\n    <tr>\n      <th>598377</th>\n      <td>2008</td>\n      <td>1</td>\n      <td>9</td>\n      <td>3</td>\n      <td>1912.0</td>\n      <td>1855</td>\n      <td>2225.0</td>\n      <td>2243</td>\n      <td>DL</td>\n      <td>1085</td>\n      <td>...</td>\n      <td>5.0</td>\n      <td>28.0</td>\n      <td>0</td>\n      <td>NaN</td>\n      <td>0</td>\n      <td>NaN</td>\n      <td>NaN</td>\n      <td>NaN</td>\n      <td>NaN</td>\n      <td>NaN</td>\n    </tr>\n    <tr>\n      <th>164072</th>\n      <td>2008</td>\n      <td>1</td>\n      <td>23</td>\n      <td>3</td>\n      <td>1055.0</td>\n      <td>1055</td>\n      <td>1216.0</td>\n      <td>1223</td>\n      <td>OH</td>\n      <td>5387</td>\n      <td>...</td>\n      <td>5.0</td>\n      <td>16.0</td>\n      <td>0</td>\n      <td>NaN</td>\n      <td>0</td>\n      <td>NaN</td>\n      <td>NaN</td>\n      <td>NaN</td>\n      <td>NaN</td>\n      <td>NaN</td>\n    </tr>\n    <tr>\n      <th>874642</th>\n      <td>2008</td>\n      <td>2</td>\n      <td>22</td>\n      <td>5</td>\n      <td>1328.0</td>\n      <td>1325</td>\n      <td>1524.0</td>\n      <td>1527</td>\n      <td>US</td>\n      <td>1505</td>\n      <td>...</td>\n      <td>8.0</td>\n      <td>13.0</td>\n      <td>0</td>\n      <td>NaN</td>\n      <td>0</td>\n      <td>NaN</td>\n      <td>NaN</td>\n      <td>NaN</td>\n      <td>NaN</td>\n      <td>NaN</td>\n    </tr>\n    <tr>\n      <th>582647</th>\n      <td>2008</td>\n      <td>1</td>\n      <td>17</td>\n      <td>4</td>\n      <td>1437.0</td>\n      <td>1330</td>\n      <td>1543.0</td>\n      <td>1438</td>\n      <td>CO</td>\n      <td>1128</td>\n      <td>...</td>\n      <td>5.0</td>\n      <td>21.0</td>\n      <td>0</td>\n      <td>NaN</td>\n      <td>0</td>\n      <td>65.0</td>\n      <td>0.0</td>\n      <td>0.0</td>\n      <td>0.0</td>\n      <td>0.0</td>\n    </tr>\n    <tr>\n      <th>192196</th>\n      <td>2008</td>\n      <td>1</td>\n      <td>15</td>\n      <td>2</td>\n      <td>1215.0</td>\n      <td>1059</td>\n      <td>1310.0</td>\n      <td>1153</td>\n      <td>OO</td>\n      <td>5531</td>\n      <td>...</td>\n      <td>8.0</td>\n      <td>14.0</td>\n      <td>0</td>\n      <td>NaN</td>\n      <td>0</td>\n      <td>77.0</td>\n      <td>0.0</td>\n      <td>0.0</td>\n      <td>0.0</td>\n      <td>0.0</td>\n    </tr>\n    <tr>\n      <th>450398</th>\n      <td>2008</td>\n      <td>1</td>\n      <td>3</td>\n      <td>4</td>\n      <td>1208.0</td>\n      <td>1209</td>\n      <td>1250.0</td>\n      <td>1248</td>\n      <td>NW</td>\n      <td>1626</td>\n      <td>...</td>\n      <td>7.0</td>\n      <td>15.0</td>\n      <td>0</td>\n      <td>NaN</td>\n      <td>0</td>\n      <td>NaN</td>\n      <td>NaN</td>\n      <td>NaN</td>\n      <td>NaN</td>\n      <td>NaN</td>\n    </tr>\n    <tr>\n      <th>872529</th>\n      <td>2008</td>\n      <td>2</td>\n      <td>20</td>\n      <td>3</td>\n      <td>1326.0</td>\n      <td>1330</td>\n      <td>1519.0</td>\n      <td>1528</td>\n      <td>US</td>\n      <td>1868</td>\n      <td>...</td>\n      <td>4.0</td>\n      <td>11.0</td>\n      <td>0</td>\n      <td>NaN</td>\n      <td>0</td>\n      <td>NaN</td>\n      <td>NaN</td>\n      <td>NaN</td>\n      <td>NaN</td>\n      <td>NaN</td>\n    </tr>\n    <tr>\n      <th>320635</th>\n      <td>2008</td>\n      <td>1</td>\n      <td>30</td>\n      <td>3</td>\n      <td>611.0</td>\n      <td>620</td>\n      <td>1327.0</td>\n      <td>1354</td>\n      <td>DL</td>\n      <td>46</td>\n      <td>...</td>\n      <td>6.0</td>\n      <td>17.0</td>\n      <td>0</td>\n      <td>NaN</td>\n      <td>0</td>\n      <td>NaN</td>\n      <td>NaN</td>\n      <td>NaN</td>\n      <td>NaN</td>\n      <td>NaN</td>\n    </tr>\n    <tr>\n      <th>272268</th>\n      <td>2008</td>\n      <td>1</td>\n      <td>13</td>\n      <td>7</td>\n      <td>1756.0</td>\n      <td>1755</td>\n      <td>2041.0</td>\n      <td>2129</td>\n      <td>US</td>\n      <td>703</td>\n      <td>...</td>\n      <td>15.0</td>\n      <td>19.0</td>\n      <td>0</td>\n      <td>NaN</td>\n      <td>0</td>\n      <td>NaN</td>\n      <td>NaN</td>\n      <td>NaN</td>\n      <td>NaN</td>\n      <td>NaN</td>\n    </tr>\n    <tr>\n      <th>464314</th>\n      <td>2008</td>\n      <td>1</td>\n      <td>25</td>\n      <td>5</td>\n      <td>1918.0</td>\n      <td>1915</td>\n      <td>2012.0</td>\n      <td>2022</td>\n      <td>9E</td>\n      <td>4772</td>\n      <td>...</td>\n      <td>6.0</td>\n      <td>7.0</td>\n      <td>0</td>\n      <td>NaN</td>\n      <td>0</td>\n      <td>NaN</td>\n      <td>NaN</td>\n      <td>NaN</td>\n      <td>NaN</td>\n      <td>NaN</td>\n    </tr>\n    <tr>\n      <th>717189</th>\n      <td>2008</td>\n      <td>2</td>\n      <td>10</td>\n      <td>7</td>\n      <td>1254.0</td>\n      <td>1300</td>\n      <td>1429.0</td>\n      <td>1445</td>\n      <td>XE</td>\n      <td>2454</td>\n      <td>...</td>\n      <td>7.0</td>\n      <td>10.0</td>\n      <td>0</td>\n      <td>NaN</td>\n      <td>0</td>\n      <td>NaN</td>\n      <td>NaN</td>\n      <td>NaN</td>\n      <td>NaN</td>\n      <td>NaN</td>\n    </tr>\n    <tr>\n      <th>462104</th>\n      <td>2008</td>\n      <td>1</td>\n      <td>31</td>\n      <td>4</td>\n      <td>1155.0</td>\n      <td>1200</td>\n      <td>1312.0</td>\n      <td>1321</td>\n      <td>9E</td>\n      <td>3782</td>\n      <td>...</td>\n      <td>11.0</td>\n      <td>15.0</td>\n      <td>0</td>\n      <td>NaN</td>\n      <td>0</td>\n      <td>NaN</td>\n      <td>NaN</td>\n      <td>NaN</td>\n      <td>NaN</td>\n      <td>NaN</td>\n    </tr>\n    <tr>\n      <th>521390</th>\n      <td>2008</td>\n      <td>1</td>\n      <td>19</td>\n      <td>6</td>\n      <td>NaN</td>\n      <td>630</td>\n      <td>NaN</td>\n      <td>925</td>\n      <td>AA</td>\n      <td>1970</td>\n      <td>...</td>\n      <td>NaN</td>\n      <td>NaN</td>\n      <td>1</td>\n      <td>A</td>\n      <td>0</td>\n      <td>NaN</td>\n      <td>NaN</td>\n      <td>NaN</td>\n      <td>NaN</td>\n      <td>NaN</td>\n    </tr>\n    <tr>\n      <th>276046</th>\n      <td>2008</td>\n      <td>1</td>\n      <td>16</td>\n      <td>3</td>\n      <td>1106.0</td>\n      <td>1115</td>\n      <td>1219.0</td>\n      <td>1237</td>\n      <td>US</td>\n      <td>1604</td>\n      <td>...</td>\n      <td>8.0</td>\n      <td>11.0</td>\n      <td>0</td>\n      <td>NaN</td>\n      <td>0</td>\n      <td>NaN</td>\n      <td>NaN</td>\n      <td>NaN</td>\n      <td>NaN</td>\n      <td>NaN</td>\n    </tr>\n    <tr>\n      <th>998023</th>\n      <td>2008</td>\n      <td>2</td>\n      <td>21</td>\n      <td>4</td>\n      <td>1700.0</td>\n      <td>1705</td>\n      <td>1857.0</td>\n      <td>1850</td>\n      <td>MQ</td>\n      <td>4574</td>\n      <td>...</td>\n      <td>3.0</td>\n      <td>28.0</td>\n      <td>0</td>\n      <td>NaN</td>\n      <td>0</td>\n      <td>NaN</td>\n      <td>NaN</td>\n      <td>NaN</td>\n      <td>NaN</td>\n      <td>NaN</td>\n    </tr>\n  </tbody>\n</table>\n<p>31 rows × 29 columns</p>\n</div>"
     },
     "metadata": {},
     "execution_count": 12
    }
   ],
   "source": [
    "df_clean.drop_duplicates(subset = \"DayofMonth\") # Subset busca duplicados sobre la columna especificada\n",
    "\n",
    "# Mantiene una sola fila para cada valor distinto de DayofMonth"
   ]
  },
  {
   "source": [
    "### Gestionar datos faltantes"
   ],
   "cell_type": "markdown",
   "metadata": {}
  },
  {
   "cell_type": "code",
   "execution_count": 13,
   "metadata": {},
   "outputs": [
    {
     "output_type": "execute_result",
     "data": {
      "text/plain": [
       "Empty DataFrame\n",
       "Columns: [Year, Month, DayofMonth, DayOfWeek, DepTime, CRSDepTime, ArrTime, CRSArrTime, UniqueCarrier, FlightNum, TailNum, ActualElapsedTime, CRSElapsedTime, AirTime, ArrDelay, DepDelay, Origin, Dest, Distance, TaxiIn, TaxiOut, Cancelled, CancellationCode, Diverted, CarrierDelay, WeatherDelay, NASDelay, SecurityDelay, LateAircraftDelay]\n",
       "Index: []\n",
       "\n",
       "[0 rows x 29 columns]"
      ],
      "text/html": "<div>\n<style scoped>\n    .dataframe tbody tr th:only-of-type {\n        vertical-align: middle;\n    }\n\n    .dataframe tbody tr th {\n        vertical-align: top;\n    }\n\n    .dataframe thead th {\n        text-align: right;\n    }\n</style>\n<table border=\"1\" class=\"dataframe\">\n  <thead>\n    <tr style=\"text-align: right;\">\n      <th></th>\n      <th>Year</th>\n      <th>Month</th>\n      <th>DayofMonth</th>\n      <th>DayOfWeek</th>\n      <th>DepTime</th>\n      <th>CRSDepTime</th>\n      <th>ArrTime</th>\n      <th>CRSArrTime</th>\n      <th>UniqueCarrier</th>\n      <th>FlightNum</th>\n      <th>...</th>\n      <th>TaxiIn</th>\n      <th>TaxiOut</th>\n      <th>Cancelled</th>\n      <th>CancellationCode</th>\n      <th>Diverted</th>\n      <th>CarrierDelay</th>\n      <th>WeatherDelay</th>\n      <th>NASDelay</th>\n      <th>SecurityDelay</th>\n      <th>LateAircraftDelay</th>\n    </tr>\n  </thead>\n  <tbody>\n  </tbody>\n</table>\n<p>0 rows × 29 columns</p>\n</div>"
     },
     "metadata": {},
     "execution_count": 13
    }
   ],
   "source": [
    "df.dropna() # Si lanza un dataframe vacio indica que no hay filas que no contengan un dato faltante (na)\n",
    "# Esto es debido a que si el vuelo esta cancelado no tiene hora de llegada\n",
    "# Si tiene hora de llegada el vuelo no esta cancelado"
   ]
  },
  {
   "cell_type": "code",
   "execution_count": 14,
   "metadata": {},
   "outputs": [
    {
     "output_type": "execute_result",
     "data": {
      "text/plain": [
       "        Year  Month  DayofMonth  DayOfWeek  DepTime  CRSDepTime  ArrTime  \\\n",
       "4       2008      1           3          4   1829.0        1755   1959.0   \n",
       "6       2008      1           3          4   1937.0        1830   2037.0   \n",
       "11      2008      1           3          4   1644.0        1510   1845.0   \n",
       "16      2008      1           3          4   1452.0        1425   1640.0   \n",
       "18      2008      1           3          4   1323.0        1255   1526.0   \n",
       "...      ...    ...         ...        ...      ...         ...      ...   \n",
       "999973  2008      2          23          6   1306.0        1235   1514.0   \n",
       "999983  2008      2          28          4   1458.0        1235   1645.0   \n",
       "999988  2008      2           4          1   1754.0        1655   2056.0   \n",
       "999989  2008      2           5          2   1812.0        1655   2129.0   \n",
       "999994  2008      2          11          1   1717.0        1655   2030.0   \n",
       "\n",
       "        CRSArrTime UniqueCarrier  FlightNum  ... TaxiIn  TaxiOut  Cancelled  \\\n",
       "4             1925            WN       3920  ...    3.0     10.0          0   \n",
       "6             1940            WN        509  ...    3.0      7.0          0   \n",
       "11            1725            WN       1333  ...    6.0      8.0          0   \n",
       "16            1625            WN        675  ...    7.0      8.0          0   \n",
       "18            1510            WN          4  ...    4.0      9.0          0   \n",
       "...            ...           ...        ...  ...    ...      ...        ...   \n",
       "999973        1415            MQ       4694  ...    3.0     50.0          0   \n",
       "999983        1415            MQ       4694  ...    3.0     37.0          0   \n",
       "999988        2005            MQ       4695  ...    2.0      9.0          0   \n",
       "999989        2005            MQ       4695  ...    4.0     12.0          0   \n",
       "999994        2005            MQ       4695  ...    4.0     23.0          0   \n",
       "\n",
       "        CancellationCode  Diverted  CarrierDelay WeatherDelay NASDelay  \\\n",
       "4                    NaN         0           2.0          0.0      0.0   \n",
       "6                    NaN         0          10.0          0.0      0.0   \n",
       "11                   NaN         0           8.0          0.0      0.0   \n",
       "16                   NaN         0           3.0          0.0      0.0   \n",
       "18                   NaN         0           0.0          0.0      0.0   \n",
       "...                  ...       ...           ...          ...      ...   \n",
       "999973               NaN         0          31.0          0.0     28.0   \n",
       "999983               NaN         0           0.0          0.0      7.0   \n",
       "999988               NaN         0           0.0          0.0      0.0   \n",
       "999989               NaN         0          10.0          0.0      7.0   \n",
       "999994               NaN         0           0.0          0.0      3.0   \n",
       "\n",
       "        SecurityDelay  LateAircraftDelay  \n",
       "4                 0.0               32.0  \n",
       "6                 0.0               47.0  \n",
       "11                0.0               72.0  \n",
       "16                0.0               12.0  \n",
       "18                0.0               16.0  \n",
       "...               ...                ...  \n",
       "999973            0.0                0.0  \n",
       "999983            0.0              143.0  \n",
       "999988            0.0               51.0  \n",
       "999989            0.0               67.0  \n",
       "999994            0.0               22.0  \n",
       "\n",
       "[254596 rows x 29 columns]"
      ],
      "text/html": "<div>\n<style scoped>\n    .dataframe tbody tr th:only-of-type {\n        vertical-align: middle;\n    }\n\n    .dataframe tbody tr th {\n        vertical-align: top;\n    }\n\n    .dataframe thead th {\n        text-align: right;\n    }\n</style>\n<table border=\"1\" class=\"dataframe\">\n  <thead>\n    <tr style=\"text-align: right;\">\n      <th></th>\n      <th>Year</th>\n      <th>Month</th>\n      <th>DayofMonth</th>\n      <th>DayOfWeek</th>\n      <th>DepTime</th>\n      <th>CRSDepTime</th>\n      <th>ArrTime</th>\n      <th>CRSArrTime</th>\n      <th>UniqueCarrier</th>\n      <th>FlightNum</th>\n      <th>...</th>\n      <th>TaxiIn</th>\n      <th>TaxiOut</th>\n      <th>Cancelled</th>\n      <th>CancellationCode</th>\n      <th>Diverted</th>\n      <th>CarrierDelay</th>\n      <th>WeatherDelay</th>\n      <th>NASDelay</th>\n      <th>SecurityDelay</th>\n      <th>LateAircraftDelay</th>\n    </tr>\n  </thead>\n  <tbody>\n    <tr>\n      <th>4</th>\n      <td>2008</td>\n      <td>1</td>\n      <td>3</td>\n      <td>4</td>\n      <td>1829.0</td>\n      <td>1755</td>\n      <td>1959.0</td>\n      <td>1925</td>\n      <td>WN</td>\n      <td>3920</td>\n      <td>...</td>\n      <td>3.0</td>\n      <td>10.0</td>\n      <td>0</td>\n      <td>NaN</td>\n      <td>0</td>\n      <td>2.0</td>\n      <td>0.0</td>\n      <td>0.0</td>\n      <td>0.0</td>\n      <td>32.0</td>\n    </tr>\n    <tr>\n      <th>6</th>\n      <td>2008</td>\n      <td>1</td>\n      <td>3</td>\n      <td>4</td>\n      <td>1937.0</td>\n      <td>1830</td>\n      <td>2037.0</td>\n      <td>1940</td>\n      <td>WN</td>\n      <td>509</td>\n      <td>...</td>\n      <td>3.0</td>\n      <td>7.0</td>\n      <td>0</td>\n      <td>NaN</td>\n      <td>0</td>\n      <td>10.0</td>\n      <td>0.0</td>\n      <td>0.0</td>\n      <td>0.0</td>\n      <td>47.0</td>\n    </tr>\n    <tr>\n      <th>11</th>\n      <td>2008</td>\n      <td>1</td>\n      <td>3</td>\n      <td>4</td>\n      <td>1644.0</td>\n      <td>1510</td>\n      <td>1845.0</td>\n      <td>1725</td>\n      <td>WN</td>\n      <td>1333</td>\n      <td>...</td>\n      <td>6.0</td>\n      <td>8.0</td>\n      <td>0</td>\n      <td>NaN</td>\n      <td>0</td>\n      <td>8.0</td>\n      <td>0.0</td>\n      <td>0.0</td>\n      <td>0.0</td>\n      <td>72.0</td>\n    </tr>\n    <tr>\n      <th>16</th>\n      <td>2008</td>\n      <td>1</td>\n      <td>3</td>\n      <td>4</td>\n      <td>1452.0</td>\n      <td>1425</td>\n      <td>1640.0</td>\n      <td>1625</td>\n      <td>WN</td>\n      <td>675</td>\n      <td>...</td>\n      <td>7.0</td>\n      <td>8.0</td>\n      <td>0</td>\n      <td>NaN</td>\n      <td>0</td>\n      <td>3.0</td>\n      <td>0.0</td>\n      <td>0.0</td>\n      <td>0.0</td>\n      <td>12.0</td>\n    </tr>\n    <tr>\n      <th>18</th>\n      <td>2008</td>\n      <td>1</td>\n      <td>3</td>\n      <td>4</td>\n      <td>1323.0</td>\n      <td>1255</td>\n      <td>1526.0</td>\n      <td>1510</td>\n      <td>WN</td>\n      <td>4</td>\n      <td>...</td>\n      <td>4.0</td>\n      <td>9.0</td>\n      <td>0</td>\n      <td>NaN</td>\n      <td>0</td>\n      <td>0.0</td>\n      <td>0.0</td>\n      <td>0.0</td>\n      <td>0.0</td>\n      <td>16.0</td>\n    </tr>\n    <tr>\n      <th>...</th>\n      <td>...</td>\n      <td>...</td>\n      <td>...</td>\n      <td>...</td>\n      <td>...</td>\n      <td>...</td>\n      <td>...</td>\n      <td>...</td>\n      <td>...</td>\n      <td>...</td>\n      <td>...</td>\n      <td>...</td>\n      <td>...</td>\n      <td>...</td>\n      <td>...</td>\n      <td>...</td>\n      <td>...</td>\n      <td>...</td>\n      <td>...</td>\n      <td>...</td>\n      <td>...</td>\n    </tr>\n    <tr>\n      <th>999973</th>\n      <td>2008</td>\n      <td>2</td>\n      <td>23</td>\n      <td>6</td>\n      <td>1306.0</td>\n      <td>1235</td>\n      <td>1514.0</td>\n      <td>1415</td>\n      <td>MQ</td>\n      <td>4694</td>\n      <td>...</td>\n      <td>3.0</td>\n      <td>50.0</td>\n      <td>0</td>\n      <td>NaN</td>\n      <td>0</td>\n      <td>31.0</td>\n      <td>0.0</td>\n      <td>28.0</td>\n      <td>0.0</td>\n      <td>0.0</td>\n    </tr>\n    <tr>\n      <th>999983</th>\n      <td>2008</td>\n      <td>2</td>\n      <td>28</td>\n      <td>4</td>\n      <td>1458.0</td>\n      <td>1235</td>\n      <td>1645.0</td>\n      <td>1415</td>\n      <td>MQ</td>\n      <td>4694</td>\n      <td>...</td>\n      <td>3.0</td>\n      <td>37.0</td>\n      <td>0</td>\n      <td>NaN</td>\n      <td>0</td>\n      <td>0.0</td>\n      <td>0.0</td>\n      <td>7.0</td>\n      <td>0.0</td>\n      <td>143.0</td>\n    </tr>\n    <tr>\n      <th>999988</th>\n      <td>2008</td>\n      <td>2</td>\n      <td>4</td>\n      <td>1</td>\n      <td>1754.0</td>\n      <td>1655</td>\n      <td>2056.0</td>\n      <td>2005</td>\n      <td>MQ</td>\n      <td>4695</td>\n      <td>...</td>\n      <td>2.0</td>\n      <td>9.0</td>\n      <td>0</td>\n      <td>NaN</td>\n      <td>0</td>\n      <td>0.0</td>\n      <td>0.0</td>\n      <td>0.0</td>\n      <td>0.0</td>\n      <td>51.0</td>\n    </tr>\n    <tr>\n      <th>999989</th>\n      <td>2008</td>\n      <td>2</td>\n      <td>5</td>\n      <td>2</td>\n      <td>1812.0</td>\n      <td>1655</td>\n      <td>2129.0</td>\n      <td>2005</td>\n      <td>MQ</td>\n      <td>4695</td>\n      <td>...</td>\n      <td>4.0</td>\n      <td>12.0</td>\n      <td>0</td>\n      <td>NaN</td>\n      <td>0</td>\n      <td>10.0</td>\n      <td>0.0</td>\n      <td>7.0</td>\n      <td>0.0</td>\n      <td>67.0</td>\n    </tr>\n    <tr>\n      <th>999994</th>\n      <td>2008</td>\n      <td>2</td>\n      <td>11</td>\n      <td>1</td>\n      <td>1717.0</td>\n      <td>1655</td>\n      <td>2030.0</td>\n      <td>2005</td>\n      <td>MQ</td>\n      <td>4695</td>\n      <td>...</td>\n      <td>4.0</td>\n      <td>23.0</td>\n      <td>0</td>\n      <td>NaN</td>\n      <td>0</td>\n      <td>0.0</td>\n      <td>0.0</td>\n      <td>3.0</td>\n      <td>0.0</td>\n      <td>22.0</td>\n    </tr>\n  </tbody>\n</table>\n<p>254596 rows × 29 columns</p>\n</div>"
     },
     "metadata": {},
     "execution_count": 14
    }
   ],
   "source": [
    "# Gestionar datos faltantes de una forma no tan estricta\n",
    "df.dropna(thresh = 25) # Se especifica cuantas entradas de todas las columnas queremos que esten llenas de informacion relevante, por ejemplo  25 entradas llenas de las 29 que hay"
   ]
  },
  {
   "cell_type": "code",
   "execution_count": 15,
   "metadata": {},
   "outputs": [
    {
     "output_type": "execute_result",
     "data": {
      "text/plain": [
       "        Year  Month  DayofMonth  DayOfWeek  DepTime  CRSDepTime  ArrTime  \\\n",
       "4       2008      1           3          4   1829.0        1755   1959.0   \n",
       "6       2008      1           3          4   1937.0        1830   2037.0   \n",
       "11      2008      1           3          4   1644.0        1510   1845.0   \n",
       "16      2008      1           3          4   1452.0        1425   1640.0   \n",
       "18      2008      1           3          4   1323.0        1255   1526.0   \n",
       "...      ...    ...         ...        ...      ...         ...      ...   \n",
       "999973  2008      2          23          6   1306.0        1235   1514.0   \n",
       "999983  2008      2          28          4   1458.0        1235   1645.0   \n",
       "999988  2008      2           4          1   1754.0        1655   2056.0   \n",
       "999989  2008      2           5          2   1812.0        1655   2129.0   \n",
       "999994  2008      2          11          1   1717.0        1655   2030.0   \n",
       "\n",
       "        CRSArrTime UniqueCarrier  FlightNum  ... TaxiIn  TaxiOut  Cancelled  \\\n",
       "4             1925            WN       3920  ...    3.0     10.0          0   \n",
       "6             1940            WN        509  ...    3.0      7.0          0   \n",
       "11            1725            WN       1333  ...    6.0      8.0          0   \n",
       "16            1625            WN        675  ...    7.0      8.0          0   \n",
       "18            1510            WN          4  ...    4.0      9.0          0   \n",
       "...            ...           ...        ...  ...    ...      ...        ...   \n",
       "999973        1415            MQ       4694  ...    3.0     50.0          0   \n",
       "999983        1415            MQ       4694  ...    3.0     37.0          0   \n",
       "999988        2005            MQ       4695  ...    2.0      9.0          0   \n",
       "999989        2005            MQ       4695  ...    4.0     12.0          0   \n",
       "999994        2005            MQ       4695  ...    4.0     23.0          0   \n",
       "\n",
       "        CancellationCode  Diverted  CarrierDelay WeatherDelay NASDelay  \\\n",
       "4                    NaN         0           2.0          0.0      0.0   \n",
       "6                    NaN         0          10.0          0.0      0.0   \n",
       "11                   NaN         0           8.0          0.0      0.0   \n",
       "16                   NaN         0           3.0          0.0      0.0   \n",
       "18                   NaN         0           0.0          0.0      0.0   \n",
       "...                  ...       ...           ...          ...      ...   \n",
       "999973               NaN         0          31.0          0.0     28.0   \n",
       "999983               NaN         0           0.0          0.0      7.0   \n",
       "999988               NaN         0           0.0          0.0      0.0   \n",
       "999989               NaN         0          10.0          0.0      7.0   \n",
       "999994               NaN         0           0.0          0.0      3.0   \n",
       "\n",
       "        SecurityDelay  LateAircraftDelay  \n",
       "4                 0.0               32.0  \n",
       "6                 0.0               47.0  \n",
       "11                0.0               72.0  \n",
       "16                0.0               12.0  \n",
       "18                0.0               16.0  \n",
       "...               ...                ...  \n",
       "999973            0.0                0.0  \n",
       "999983            0.0              143.0  \n",
       "999988            0.0               51.0  \n",
       "999989            0.0               67.0  \n",
       "999994            0.0               22.0  \n",
       "\n",
       "[254596 rows x 29 columns]"
      ],
      "text/html": "<div>\n<style scoped>\n    .dataframe tbody tr th:only-of-type {\n        vertical-align: middle;\n    }\n\n    .dataframe tbody tr th {\n        vertical-align: top;\n    }\n\n    .dataframe thead th {\n        text-align: right;\n    }\n</style>\n<table border=\"1\" class=\"dataframe\">\n  <thead>\n    <tr style=\"text-align: right;\">\n      <th></th>\n      <th>Year</th>\n      <th>Month</th>\n      <th>DayofMonth</th>\n      <th>DayOfWeek</th>\n      <th>DepTime</th>\n      <th>CRSDepTime</th>\n      <th>ArrTime</th>\n      <th>CRSArrTime</th>\n      <th>UniqueCarrier</th>\n      <th>FlightNum</th>\n      <th>...</th>\n      <th>TaxiIn</th>\n      <th>TaxiOut</th>\n      <th>Cancelled</th>\n      <th>CancellationCode</th>\n      <th>Diverted</th>\n      <th>CarrierDelay</th>\n      <th>WeatherDelay</th>\n      <th>NASDelay</th>\n      <th>SecurityDelay</th>\n      <th>LateAircraftDelay</th>\n    </tr>\n  </thead>\n  <tbody>\n    <tr>\n      <th>4</th>\n      <td>2008</td>\n      <td>1</td>\n      <td>3</td>\n      <td>4</td>\n      <td>1829.0</td>\n      <td>1755</td>\n      <td>1959.0</td>\n      <td>1925</td>\n      <td>WN</td>\n      <td>3920</td>\n      <td>...</td>\n      <td>3.0</td>\n      <td>10.0</td>\n      <td>0</td>\n      <td>NaN</td>\n      <td>0</td>\n      <td>2.0</td>\n      <td>0.0</td>\n      <td>0.0</td>\n      <td>0.0</td>\n      <td>32.0</td>\n    </tr>\n    <tr>\n      <th>6</th>\n      <td>2008</td>\n      <td>1</td>\n      <td>3</td>\n      <td>4</td>\n      <td>1937.0</td>\n      <td>1830</td>\n      <td>2037.0</td>\n      <td>1940</td>\n      <td>WN</td>\n      <td>509</td>\n      <td>...</td>\n      <td>3.0</td>\n      <td>7.0</td>\n      <td>0</td>\n      <td>NaN</td>\n      <td>0</td>\n      <td>10.0</td>\n      <td>0.0</td>\n      <td>0.0</td>\n      <td>0.0</td>\n      <td>47.0</td>\n    </tr>\n    <tr>\n      <th>11</th>\n      <td>2008</td>\n      <td>1</td>\n      <td>3</td>\n      <td>4</td>\n      <td>1644.0</td>\n      <td>1510</td>\n      <td>1845.0</td>\n      <td>1725</td>\n      <td>WN</td>\n      <td>1333</td>\n      <td>...</td>\n      <td>6.0</td>\n      <td>8.0</td>\n      <td>0</td>\n      <td>NaN</td>\n      <td>0</td>\n      <td>8.0</td>\n      <td>0.0</td>\n      <td>0.0</td>\n      <td>0.0</td>\n      <td>72.0</td>\n    </tr>\n    <tr>\n      <th>16</th>\n      <td>2008</td>\n      <td>1</td>\n      <td>3</td>\n      <td>4</td>\n      <td>1452.0</td>\n      <td>1425</td>\n      <td>1640.0</td>\n      <td>1625</td>\n      <td>WN</td>\n      <td>675</td>\n      <td>...</td>\n      <td>7.0</td>\n      <td>8.0</td>\n      <td>0</td>\n      <td>NaN</td>\n      <td>0</td>\n      <td>3.0</td>\n      <td>0.0</td>\n      <td>0.0</td>\n      <td>0.0</td>\n      <td>12.0</td>\n    </tr>\n    <tr>\n      <th>18</th>\n      <td>2008</td>\n      <td>1</td>\n      <td>3</td>\n      <td>4</td>\n      <td>1323.0</td>\n      <td>1255</td>\n      <td>1526.0</td>\n      <td>1510</td>\n      <td>WN</td>\n      <td>4</td>\n      <td>...</td>\n      <td>4.0</td>\n      <td>9.0</td>\n      <td>0</td>\n      <td>NaN</td>\n      <td>0</td>\n      <td>0.0</td>\n      <td>0.0</td>\n      <td>0.0</td>\n      <td>0.0</td>\n      <td>16.0</td>\n    </tr>\n    <tr>\n      <th>...</th>\n      <td>...</td>\n      <td>...</td>\n      <td>...</td>\n      <td>...</td>\n      <td>...</td>\n      <td>...</td>\n      <td>...</td>\n      <td>...</td>\n      <td>...</td>\n      <td>...</td>\n      <td>...</td>\n      <td>...</td>\n      <td>...</td>\n      <td>...</td>\n      <td>...</td>\n      <td>...</td>\n      <td>...</td>\n      <td>...</td>\n      <td>...</td>\n      <td>...</td>\n      <td>...</td>\n    </tr>\n    <tr>\n      <th>999973</th>\n      <td>2008</td>\n      <td>2</td>\n      <td>23</td>\n      <td>6</td>\n      <td>1306.0</td>\n      <td>1235</td>\n      <td>1514.0</td>\n      <td>1415</td>\n      <td>MQ</td>\n      <td>4694</td>\n      <td>...</td>\n      <td>3.0</td>\n      <td>50.0</td>\n      <td>0</td>\n      <td>NaN</td>\n      <td>0</td>\n      <td>31.0</td>\n      <td>0.0</td>\n      <td>28.0</td>\n      <td>0.0</td>\n      <td>0.0</td>\n    </tr>\n    <tr>\n      <th>999983</th>\n      <td>2008</td>\n      <td>2</td>\n      <td>28</td>\n      <td>4</td>\n      <td>1458.0</td>\n      <td>1235</td>\n      <td>1645.0</td>\n      <td>1415</td>\n      <td>MQ</td>\n      <td>4694</td>\n      <td>...</td>\n      <td>3.0</td>\n      <td>37.0</td>\n      <td>0</td>\n      <td>NaN</td>\n      <td>0</td>\n      <td>0.0</td>\n      <td>0.0</td>\n      <td>7.0</td>\n      <td>0.0</td>\n      <td>143.0</td>\n    </tr>\n    <tr>\n      <th>999988</th>\n      <td>2008</td>\n      <td>2</td>\n      <td>4</td>\n      <td>1</td>\n      <td>1754.0</td>\n      <td>1655</td>\n      <td>2056.0</td>\n      <td>2005</td>\n      <td>MQ</td>\n      <td>4695</td>\n      <td>...</td>\n      <td>2.0</td>\n      <td>9.0</td>\n      <td>0</td>\n      <td>NaN</td>\n      <td>0</td>\n      <td>0.0</td>\n      <td>0.0</td>\n      <td>0.0</td>\n      <td>0.0</td>\n      <td>51.0</td>\n    </tr>\n    <tr>\n      <th>999989</th>\n      <td>2008</td>\n      <td>2</td>\n      <td>5</td>\n      <td>2</td>\n      <td>1812.0</td>\n      <td>1655</td>\n      <td>2129.0</td>\n      <td>2005</td>\n      <td>MQ</td>\n      <td>4695</td>\n      <td>...</td>\n      <td>4.0</td>\n      <td>12.0</td>\n      <td>0</td>\n      <td>NaN</td>\n      <td>0</td>\n      <td>10.0</td>\n      <td>0.0</td>\n      <td>7.0</td>\n      <td>0.0</td>\n      <td>67.0</td>\n    </tr>\n    <tr>\n      <th>999994</th>\n      <td>2008</td>\n      <td>2</td>\n      <td>11</td>\n      <td>1</td>\n      <td>1717.0</td>\n      <td>1655</td>\n      <td>2030.0</td>\n      <td>2005</td>\n      <td>MQ</td>\n      <td>4695</td>\n      <td>...</td>\n      <td>4.0</td>\n      <td>23.0</td>\n      <td>0</td>\n      <td>NaN</td>\n      <td>0</td>\n      <td>0.0</td>\n      <td>0.0</td>\n      <td>3.0</td>\n      <td>0.0</td>\n      <td>22.0</td>\n    </tr>\n  </tbody>\n</table>\n<p>254596 rows × 29 columns</p>\n</div>"
     },
     "metadata": {},
     "execution_count": 15
    }
   ],
   "source": [
    "# Se recomienda usar la siguiente linea\n",
    "df.dropna(thresh = len(df.columns) - 2) # Si el DataFrame aumenta en tamaño se indica que solo tenga dos valores faltantes, las columnas con datos faltantes van e n bloque"
   ]
  },
  {
   "source": [
    "### Gestionar datos faltantes en una columna en concreto"
   ],
   "cell_type": "markdown",
   "metadata": {}
  },
  {
   "cell_type": "code",
   "execution_count": 16,
   "metadata": {},
   "outputs": [
    {
     "output_type": "execute_result",
     "data": {
      "text/plain": [
       "        Year  Month  DayofMonth  DayOfWeek  DepTime  CRSDepTime  ArrTime  \\\n",
       "178     2008      1           3          4      NaN         700      NaN   \n",
       "373     2008      1           3          4      NaN        1100      NaN   \n",
       "399     2008      1           3          4      NaN         905      NaN   \n",
       "401     2008      1           3          4      NaN        1620      NaN   \n",
       "415     2008      1           3          4      NaN        1930      NaN   \n",
       "...      ...    ...         ...        ...      ...         ...      ...   \n",
       "999913  2008      2          11          1      NaN         855      NaN   \n",
       "999919  2008      2          17          7      NaN         855      NaN   \n",
       "999961  2008      2          17          7      NaN        1445      NaN   \n",
       "999971  2008      2          22          5      NaN        1235      NaN   \n",
       "999999  2008      2          17          7      NaN        1655      NaN   \n",
       "\n",
       "        CRSArrTime UniqueCarrier  FlightNum  ... TaxiIn  TaxiOut  Cancelled  \\\n",
       "178            830            WN        126  ...    NaN      NaN          1   \n",
       "373           1215            WN       1146  ...    NaN      NaN          1   \n",
       "399           1025            WN        469  ...    NaN      NaN          1   \n",
       "401           1740            WN        618  ...    NaN      NaN          1   \n",
       "415           2035            WN       2528  ...    NaN      NaN          1   \n",
       "...            ...           ...        ...  ...    ...      ...        ...   \n",
       "999913        1210            MQ       4693  ...    NaN      NaN          1   \n",
       "999919        1210            MQ       4693  ...    NaN      NaN          1   \n",
       "999961        1630            MQ       4694  ...    NaN      NaN          1   \n",
       "999971        1415            MQ       4694  ...    NaN      NaN          1   \n",
       "999999        2005            MQ       4695  ...    NaN      NaN          1   \n",
       "\n",
       "        CancellationCode  Diverted  CarrierDelay WeatherDelay NASDelay  \\\n",
       "178                    A         0           NaN          NaN      NaN   \n",
       "373                    A         0           NaN          NaN      NaN   \n",
       "399                    A         0           NaN          NaN      NaN   \n",
       "401                    C         0           NaN          NaN      NaN   \n",
       "415                    A         0           NaN          NaN      NaN   \n",
       "...                  ...       ...           ...          ...      ...   \n",
       "999913                 A         0           NaN          NaN      NaN   \n",
       "999919                 B         0           NaN          NaN      NaN   \n",
       "999961                 B         0           NaN          NaN      NaN   \n",
       "999971                 B         0           NaN          NaN      NaN   \n",
       "999999                 B         0           NaN          NaN      NaN   \n",
       "\n",
       "        SecurityDelay  LateAircraftDelay  \n",
       "178               NaN                NaN  \n",
       "373               NaN                NaN  \n",
       "399               NaN                NaN  \n",
       "401               NaN                NaN  \n",
       "415               NaN                NaN  \n",
       "...               ...                ...  \n",
       "999913            NaN                NaN  \n",
       "999919            NaN                NaN  \n",
       "999961            NaN                NaN  \n",
       "999971            NaN                NaN  \n",
       "999999            NaN                NaN  \n",
       "\n",
       "[32133 rows x 29 columns]"
      ],
      "text/html": "<div>\n<style scoped>\n    .dataframe tbody tr th:only-of-type {\n        vertical-align: middle;\n    }\n\n    .dataframe tbody tr th {\n        vertical-align: top;\n    }\n\n    .dataframe thead th {\n        text-align: right;\n    }\n</style>\n<table border=\"1\" class=\"dataframe\">\n  <thead>\n    <tr style=\"text-align: right;\">\n      <th></th>\n      <th>Year</th>\n      <th>Month</th>\n      <th>DayofMonth</th>\n      <th>DayOfWeek</th>\n      <th>DepTime</th>\n      <th>CRSDepTime</th>\n      <th>ArrTime</th>\n      <th>CRSArrTime</th>\n      <th>UniqueCarrier</th>\n      <th>FlightNum</th>\n      <th>...</th>\n      <th>TaxiIn</th>\n      <th>TaxiOut</th>\n      <th>Cancelled</th>\n      <th>CancellationCode</th>\n      <th>Diverted</th>\n      <th>CarrierDelay</th>\n      <th>WeatherDelay</th>\n      <th>NASDelay</th>\n      <th>SecurityDelay</th>\n      <th>LateAircraftDelay</th>\n    </tr>\n  </thead>\n  <tbody>\n    <tr>\n      <th>178</th>\n      <td>2008</td>\n      <td>1</td>\n      <td>3</td>\n      <td>4</td>\n      <td>NaN</td>\n      <td>700</td>\n      <td>NaN</td>\n      <td>830</td>\n      <td>WN</td>\n      <td>126</td>\n      <td>...</td>\n      <td>NaN</td>\n      <td>NaN</td>\n      <td>1</td>\n      <td>A</td>\n      <td>0</td>\n      <td>NaN</td>\n      <td>NaN</td>\n      <td>NaN</td>\n      <td>NaN</td>\n      <td>NaN</td>\n    </tr>\n    <tr>\n      <th>373</th>\n      <td>2008</td>\n      <td>1</td>\n      <td>3</td>\n      <td>4</td>\n      <td>NaN</td>\n      <td>1100</td>\n      <td>NaN</td>\n      <td>1215</td>\n      <td>WN</td>\n      <td>1146</td>\n      <td>...</td>\n      <td>NaN</td>\n      <td>NaN</td>\n      <td>1</td>\n      <td>A</td>\n      <td>0</td>\n      <td>NaN</td>\n      <td>NaN</td>\n      <td>NaN</td>\n      <td>NaN</td>\n      <td>NaN</td>\n    </tr>\n    <tr>\n      <th>399</th>\n      <td>2008</td>\n      <td>1</td>\n      <td>3</td>\n      <td>4</td>\n      <td>NaN</td>\n      <td>905</td>\n      <td>NaN</td>\n      <td>1025</td>\n      <td>WN</td>\n      <td>469</td>\n      <td>...</td>\n      <td>NaN</td>\n      <td>NaN</td>\n      <td>1</td>\n      <td>A</td>\n      <td>0</td>\n      <td>NaN</td>\n      <td>NaN</td>\n      <td>NaN</td>\n      <td>NaN</td>\n      <td>NaN</td>\n    </tr>\n    <tr>\n      <th>401</th>\n      <td>2008</td>\n      <td>1</td>\n      <td>3</td>\n      <td>4</td>\n      <td>NaN</td>\n      <td>1620</td>\n      <td>NaN</td>\n      <td>1740</td>\n      <td>WN</td>\n      <td>618</td>\n      <td>...</td>\n      <td>NaN</td>\n      <td>NaN</td>\n      <td>1</td>\n      <td>C</td>\n      <td>0</td>\n      <td>NaN</td>\n      <td>NaN</td>\n      <td>NaN</td>\n      <td>NaN</td>\n      <td>NaN</td>\n    </tr>\n    <tr>\n      <th>415</th>\n      <td>2008</td>\n      <td>1</td>\n      <td>3</td>\n      <td>4</td>\n      <td>NaN</td>\n      <td>1930</td>\n      <td>NaN</td>\n      <td>2035</td>\n      <td>WN</td>\n      <td>2528</td>\n      <td>...</td>\n      <td>NaN</td>\n      <td>NaN</td>\n      <td>1</td>\n      <td>A</td>\n      <td>0</td>\n      <td>NaN</td>\n      <td>NaN</td>\n      <td>NaN</td>\n      <td>NaN</td>\n      <td>NaN</td>\n    </tr>\n    <tr>\n      <th>...</th>\n      <td>...</td>\n      <td>...</td>\n      <td>...</td>\n      <td>...</td>\n      <td>...</td>\n      <td>...</td>\n      <td>...</td>\n      <td>...</td>\n      <td>...</td>\n      <td>...</td>\n      <td>...</td>\n      <td>...</td>\n      <td>...</td>\n      <td>...</td>\n      <td>...</td>\n      <td>...</td>\n      <td>...</td>\n      <td>...</td>\n      <td>...</td>\n      <td>...</td>\n      <td>...</td>\n    </tr>\n    <tr>\n      <th>999913</th>\n      <td>2008</td>\n      <td>2</td>\n      <td>11</td>\n      <td>1</td>\n      <td>NaN</td>\n      <td>855</td>\n      <td>NaN</td>\n      <td>1210</td>\n      <td>MQ</td>\n      <td>4693</td>\n      <td>...</td>\n      <td>NaN</td>\n      <td>NaN</td>\n      <td>1</td>\n      <td>A</td>\n      <td>0</td>\n      <td>NaN</td>\n      <td>NaN</td>\n      <td>NaN</td>\n      <td>NaN</td>\n      <td>NaN</td>\n    </tr>\n    <tr>\n      <th>999919</th>\n      <td>2008</td>\n      <td>2</td>\n      <td>17</td>\n      <td>7</td>\n      <td>NaN</td>\n      <td>855</td>\n      <td>NaN</td>\n      <td>1210</td>\n      <td>MQ</td>\n      <td>4693</td>\n      <td>...</td>\n      <td>NaN</td>\n      <td>NaN</td>\n      <td>1</td>\n      <td>B</td>\n      <td>0</td>\n      <td>NaN</td>\n      <td>NaN</td>\n      <td>NaN</td>\n      <td>NaN</td>\n      <td>NaN</td>\n    </tr>\n    <tr>\n      <th>999961</th>\n      <td>2008</td>\n      <td>2</td>\n      <td>17</td>\n      <td>7</td>\n      <td>NaN</td>\n      <td>1445</td>\n      <td>NaN</td>\n      <td>1630</td>\n      <td>MQ</td>\n      <td>4694</td>\n      <td>...</td>\n      <td>NaN</td>\n      <td>NaN</td>\n      <td>1</td>\n      <td>B</td>\n      <td>0</td>\n      <td>NaN</td>\n      <td>NaN</td>\n      <td>NaN</td>\n      <td>NaN</td>\n      <td>NaN</td>\n    </tr>\n    <tr>\n      <th>999971</th>\n      <td>2008</td>\n      <td>2</td>\n      <td>22</td>\n      <td>5</td>\n      <td>NaN</td>\n      <td>1235</td>\n      <td>NaN</td>\n      <td>1415</td>\n      <td>MQ</td>\n      <td>4694</td>\n      <td>...</td>\n      <td>NaN</td>\n      <td>NaN</td>\n      <td>1</td>\n      <td>B</td>\n      <td>0</td>\n      <td>NaN</td>\n      <td>NaN</td>\n      <td>NaN</td>\n      <td>NaN</td>\n      <td>NaN</td>\n    </tr>\n    <tr>\n      <th>999999</th>\n      <td>2008</td>\n      <td>2</td>\n      <td>17</td>\n      <td>7</td>\n      <td>NaN</td>\n      <td>1655</td>\n      <td>NaN</td>\n      <td>2005</td>\n      <td>MQ</td>\n      <td>4695</td>\n      <td>...</td>\n      <td>NaN</td>\n      <td>NaN</td>\n      <td>1</td>\n      <td>B</td>\n      <td>0</td>\n      <td>NaN</td>\n      <td>NaN</td>\n      <td>NaN</td>\n      <td>NaN</td>\n      <td>NaN</td>\n    </tr>\n  </tbody>\n</table>\n<p>32133 rows × 29 columns</p>\n</div>"
     },
     "metadata": {},
     "execution_count": 16
    }
   ],
   "source": [
    "df.dropna(subset = [\"CancellationCode\"]) # Con el comando subset se asigna una lista con el nombre de la columna que se quiere filtrar\n",
    "# Devuelve un dataframe que no tiene NA en la columna CancellationCode"
   ]
  }
 ]
}