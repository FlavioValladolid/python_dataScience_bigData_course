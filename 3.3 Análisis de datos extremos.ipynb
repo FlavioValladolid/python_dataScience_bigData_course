{
 "metadata": {
  "language_info": {
   "codemirror_mode": {
    "name": "ipython",
    "version": 3
   },
   "file_extension": ".py",
   "mimetype": "text/x-python",
   "name": "python",
   "nbconvert_exporter": "python",
   "pygments_lexer": "ipython3",
   "version": "3.8.5-final"
  },
  "orig_nbformat": 2,
  "kernelspec": {
   "name": "python3",
   "display_name": "Python 3.8.5 64-bit (conda)",
   "metadata": {
    "interpreter": {
     "hash": "ed225720166559e7176d3793db16a2fd8d295f725007103b21ac3099d2a89ee8"
    }
   }
  }
 },
 "nbformat": 4,
 "nbformat_minor": 2,
 "cells": [
  {
   "source": [
    "# Análisis de datos extremos"
   ],
   "cell_type": "markdown",
   "metadata": {}
  },
  {
   "cell_type": "code",
   "execution_count": 1,
   "metadata": {},
   "outputs": [],
   "source": [
    "import pandas as pd\n",
    "import numpy as np\n",
    "df = pd.read_csv('base_datos_2008.csv', nrows=100000)"
   ]
  },
  {
   "cell_type": "code",
   "execution_count": 2,
   "metadata": {},
   "outputs": [],
   "source": [
    "# Extraer una columna y eliminar los datos faltantes de la columna\n",
    "\n",
    "x = df['ArrDelay'].dropna()"
   ]
  },
  {
   "source": [
    "### Cuartiles"
   ],
   "cell_type": "markdown",
   "metadata": {}
  },
  {
   "cell_type": "code",
   "execution_count": 6,
   "metadata": {},
   "outputs": [],
   "source": [
    "Q1 = np.percentile(x,25) # Primer cuartil, Separar el 25 % inferior del 75% superior\\\n",
    "Q3 = np.percentile(x,75) # Tercer cuartil\n",
    "# La mediana es el segundo cuartil\n",
    "rangointer = Q3 - Q1 # Rango intercuartilico"
   ]
  },
  {
   "source": [
    "### Rango intercuartílico\n",
    "\n",
    "Es la diferencia entre el tercer cuartil y el primer cuartil.\n",
    "\n",
    "Un criterio clásico de selección de \"outliers\" es definir dos umbrales."
   ],
   "cell_type": "markdown",
   "metadata": {}
  },
  {
   "cell_type": "code",
   "execution_count": 10,
   "metadata": {},
   "outputs": [],
   "source": [
    "umbralsuperior = Q3 + 1.5*rangointer # El tercer cuartil mas 1.5 veces el rango\n",
    "umbralinferior = Q1 - 1.5*rangointer # El primer cuartil menos 1.5 veces el rango"
   ]
  },
  {
   "cell_type": "code",
   "execution_count": 12,
   "metadata": {},
   "outputs": [
    {
     "output_type": "execute_result",
     "data": {
      "text/plain": [
       "38.5"
      ]
     },
     "metadata": {},
     "execution_count": 12
    }
   ],
   "source": [
    "umbralsuperior # Indica que cualquier valor por encima de 38.5 va a ser un \"outlier\""
   ]
  },
  {
   "cell_type": "code",
   "execution_count": 11,
   "metadata": {},
   "outputs": [
    {
     "output_type": "execute_result",
     "data": {
      "text/plain": [
       "-37.5"
      ]
     },
     "metadata": {},
     "execution_count": 11
    }
   ],
   "source": [
    "umbralinferior # Indica que cualquier por debajo de -37.5 va a ser un \"outlier\""
   ]
  },
  {
   "source": [
    "### Comprobar cuantos casos hay por debajo o por encima de estos umbrales"
   ],
   "cell_type": "markdown",
   "metadata": {}
  },
  {
   "cell_type": "code",
   "execution_count": 17,
   "metadata": {},
   "outputs": [
    {
     "output_type": "execute_result",
     "data": {
      "text/plain": [
       "0.08387201361729721"
      ]
     },
     "metadata": {},
     "execution_count": 17
    }
   ],
   "source": [
    "np.mean(x > umbralsuperior) # Indica que el 8 por ciento de los casos estan por encima"
   ]
  },
  {
   "cell_type": "code",
   "execution_count": 18,
   "metadata": {},
   "outputs": [
    {
     "output_type": "execute_result",
     "data": {
      "text/plain": [
       "0.0019048005025431114"
      ]
     },
     "metadata": {},
     "execution_count": 18
    }
   ],
   "source": [
    "np.mean( x < umbralinferior) # Estas medidas no son simetricas, da un umbral pero no asegura que estan de igual manera distribuida"
   ]
  },
  {
   "source": [
    "### Estudiar varias variables a la vez"
   ],
   "cell_type": "markdown",
   "metadata": {}
  },
  {
   "cell_type": "code",
   "execution_count": 20,
   "metadata": {},
   "outputs": [],
   "source": [
    "from sklearn.covariance import EllipticEnvelope"
   ]
  },
  {
   "cell_type": "code",
   "execution_count": 21,
   "metadata": {},
   "outputs": [],
   "source": [
    "outliers = EllipticEnvelope(contamination= .01) # Definir un objeto\n",
    "# Esto crea un modelo que va a seleccionar 1% de datos que considere que estan muy alejados de nuestros datos mas centrados"
   ]
  },
  {
   "cell_type": "code",
   "execution_count": 22,
   "metadata": {},
   "outputs": [],
   "source": [
    "# Definir una lista con un grupo de variables de nuestra base de datos\n",
    "# todas ellas cuantitativas\n",
    "# Con este modelo se asume que estan distribuidas gausianamente, es decir son normales\n",
    "# No tiene que ser asi\n",
    "\n",
    "var_list = ['DepDelay','TaxiIn','TaxiOut','CarrierDelay','WeatherDelay','NASDelay','SecurityDelay','SecurityDelay','LateAircraftDelay']"
   ]
  },
  {
   "cell_type": "code",
   "execution_count": 23,
   "metadata": {},
   "outputs": [],
   "source": [
    "# Definir la vasriable x que seran los valores dei nteres\n",
    "\n",
    "x = np.array(df.loc[:,var_list].dropna())"
   ]
  },
  {
   "source": [
    "### Entrenar el modelo"
   ],
   "cell_type": "markdown",
   "metadata": {}
  },
  {
   "cell_type": "code",
   "execution_count": 25,
   "metadata": {},
   "outputs": [
    {
     "output_type": "execute_result",
     "data": {
      "text/plain": [
       "EllipticEnvelope(contamination=0.01)"
      ]
     },
     "metadata": {},
     "execution_count": 25
    }
   ],
   "source": [
    "outliers.fit(x)"
   ]
  },
  {
   "cell_type": "code",
   "execution_count": 26,
   "metadata": {},
   "outputs": [],
   "source": [
    "# Pedir que prediga con el modelo que valores forman el 1% que queremos detectar\n",
    "pred = outliers.predict(x)"
   ]
  },
  {
   "cell_type": "code",
   "execution_count": 27,
   "metadata": {},
   "outputs": [
    {
     "output_type": "execute_result",
     "data": {
      "text/plain": [
       "array([1, 1, 1, ..., 1, 1, 1])"
      ]
     },
     "metadata": {},
     "execution_count": 27
    }
   ],
   "source": [
    "pred # Es un array de 1 y -1"
   ]
  },
  {
   "cell_type": "code",
   "execution_count": 28,
   "metadata": {},
   "outputs": [],
   "source": [
    "# Detectar los -1\n",
    "elips_outliers = np.where(pred == -1)[0]"
   ]
  },
  {
   "cell_type": "code",
   "execution_count": 29,
   "metadata": {},
   "outputs": [
    {
     "output_type": "execute_result",
     "data": {
      "text/plain": [
       "array([   18,    53,    56,   133,   202,   273,   276,   285,   298,\n",
       "         308,   626,   627,   628,   664,   682,  1330,  1428,  1744,\n",
       "        1827,  1842,  1863,  1887,  2050,  2103,  2129,  2255,  2256,\n",
       "        2313,  2505,  2676,  2677,  2697,  2711,  2715,  2719,  2728,\n",
       "        2803,  3413,  3437,  3615,  3688,  3733,  3738,  3814,  3828,\n",
       "        3835,  3941,  3981,  3997,  4047,  4048,  4167,  4215,  4306,\n",
       "        4439,  4924,  5126,  5841,  5972,  5974,  5975,  5982,  5983,\n",
       "        5984,  5985,  5986,  5988,  5994,  5999,  6024,  6203,  6699,\n",
       "        6700,  6919,  6921,  6923,  6924,  6928,  6929,  6931,  6935,\n",
       "        6965,  7311,  7679,  8279,  8483,  8486,  8730,  8900,  9080,\n",
       "        9105,  9107,  9347,  9526,  9539,  9682,  9694,  9732,  9739,\n",
       "        9743,  9746,  9876,  9883,  9958, 10106, 10159, 10171, 10185,\n",
       "       10341, 10426, 10554, 10693, 10736, 10747, 11213, 11572, 11577,\n",
       "       12366, 12502, 12894, 13004, 13005, 13007, 13274, 13334, 13338,\n",
       "       13714, 13726, 13787, 13994, 14039, 14088, 14257, 14261, 14327,\n",
       "       14330, 14359, 14427, 14492, 14493, 14583, 14588, 14621, 14644,\n",
       "       14775, 14801, 14907, 14941, 15005, 15096, 15107, 15136, 15194,\n",
       "       15272, 15282, 15287, 15317, 15321, 15381, 15389, 15475, 15499,\n",
       "       15606, 15827, 15962, 16063, 16532, 16630, 16724, 17097, 17177,\n",
       "       17540, 17559, 17592, 17596, 17607, 17659, 17671, 17682, 17771,\n",
       "       17804, 18070, 18083, 18216, 18225, 18237, 18594, 18784, 18829,\n",
       "       19079, 19128, 19161, 19173, 19224, 19225, 19232, 19235],\n",
       "      dtype=int64)"
      ]
     },
     "metadata": {},
     "execution_count": 29
    }
   ],
   "source": [
    "elips_outliers # Lista de todos los index de aquellos casos que estan muy alejados de los valores centrales de todas las variables esutidadas, es decir, nuestros \"outliers\""
   ]
  },
  {
   "cell_type": "code",
   "execution_count": null,
   "metadata": {},
   "outputs": [],
   "source": [
    "Este método puede servir para detectar aquellas observaciones en nuestras bases de datos que sean demasiado extremas o que requieran especial atención"
   ]
  }
 ]
}