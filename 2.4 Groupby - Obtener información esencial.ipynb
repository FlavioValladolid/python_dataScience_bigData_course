{
 "metadata": {
  "language_info": {
   "codemirror_mode": {
    "name": "ipython",
    "version": 3
   },
   "file_extension": ".py",
   "mimetype": "text/x-python",
   "name": "python",
   "nbconvert_exporter": "python",
   "pygments_lexer": "ipython3",
   "version": "3.8.5-final"
  },
  "orig_nbformat": 2,
  "kernelspec": {
   "name": "python3",
   "display_name": "Python 3.8.5 64-bit (conda)",
   "metadata": {
    "interpreter": {
     "hash": "ed225720166559e7176d3793db16a2fd8d295f725007103b21ac3099d2a89ee8"
    }
   }
  }
 },
 "nbformat": 4,
 "nbformat_minor": 2,
 "cells": [
  {
   "source": [
    "# Groupby: obtener información esencial"
   ],
   "cell_type": "markdown",
   "metadata": {}
  },
  {
   "cell_type": "code",
   "execution_count": 1,
   "metadata": {},
   "outputs": [],
   "source": [
    "import pandas as pd\n",
    "df = pd.read_csv(r'C:\\Users\\Flavio Isay\\Documents\\MEGAsync\\Cursos\\Python para data science y big data esencial\\base_datos_2008.csv')"
   ]
  },
  {
   "source": [
    "El **Groupby** es una herramienta que nos permite realizar operaciones matemáticas sencillas agrupando por categorías\n",
    "\n",
    "## Caso práctico: Se buscará el retraso de los vuelos al llegar a su lugar de destino"
   ],
   "cell_type": "markdown",
   "metadata": {}
  },
  {
   "cell_type": "code",
   "execution_count": 2,
   "metadata": {},
   "outputs": [
    {
     "output_type": "execute_result",
     "data": {
      "text/plain": [
       "DayOfWeek\n",
       "1    1583.0\n",
       "2    1951.0\n",
       "3    1510.0\n",
       "4    2453.0\n",
       "5    1707.0\n",
       "6    1525.0\n",
       "7    2461.0\n",
       "Name: ArrDelay, dtype: float64"
      ]
     },
     "metadata": {},
     "execution_count": 2
    }
   ],
   "source": [
    "df.groupby(by = 'DayOfWeek')['ArrDelay'].max() # Se coloca primero by con el nombre de columna, el segundo otro nombre de columna y el tercero el nombre de una función.and\n",
    "\n",
    "# Nos agrupa por días de la semana y nos da un valor del retraso de los vuelos y aplica una función\n",
    "# En otras palabras es el retraso máximo que ha tenido en la semana en toda la base de datos"
   ]
  },
  {
   "cell_type": "code",
   "execution_count": 3,
   "metadata": {},
   "outputs": [
    {
     "output_type": "execute_result",
     "data": {
      "text/plain": [
       "DayOfWeek\n",
       "1     8.210850\n",
       "2     7.481208\n",
       "3     6.522017\n",
       "4     8.411599\n",
       "5    10.953440\n",
       "6     5.789666\n",
       "7     9.495886\n",
       "Name: ArrDelay, dtype: float64"
      ]
     },
     "metadata": {},
     "execution_count": 3
    }
   ],
   "source": [
    "df.groupby(by = 'DayOfWeek')['ArrDelay'].mean() # Media de retraso en los días de la semana"
   ]
  },
  {
   "cell_type": "code",
   "execution_count": 4,
   "metadata": {},
   "outputs": [
    {
     "output_type": "execute_result",
     "data": {
      "text/plain": [
       "DayOfWeek\n",
       "1   -519.0\n",
       "2    -89.0\n",
       "3    -87.0\n",
       "4   -129.0\n",
       "5    -86.0\n",
       "6    -91.0\n",
       "7    -92.0\n",
       "Name: ArrDelay, dtype: float64"
      ]
     },
     "metadata": {},
     "execution_count": 4
    }
   ],
   "source": [
    "df.groupby(by = 'DayOfWeek')['ArrDelay'].min() "
   ]
  },
  {
   "cell_type": "code",
   "execution_count": 5,
   "metadata": {},
   "outputs": [
    {
     "output_type": "execute_result",
     "data": {
      "text/plain": [
       "DayOfWeek\n",
       "1    1013410\n",
       "2    1005992\n",
       "3    1016995\n",
       "4    1011970\n",
       "5    1008872\n",
       "6     841663\n",
       "7     956127\n",
       "Name: ArrDelay, dtype: int64"
      ]
     },
     "metadata": {},
     "execution_count": 5
    }
   ],
   "source": [
    "df.groupby(by = 'DayOfWeek')['ArrDelay'].count() # El número de casos"
   ]
  },
  {
   "cell_type": "code",
   "execution_count": 6,
   "metadata": {},
   "outputs": [
    {
     "output_type": "execute_result",
     "data": {
      "text/plain": [
       "               count       mean        std    min   25%  50%   75%     max\n",
       "DayOfWeek                                                                 \n",
       "1          1013410.0   8.210850  38.013811 -519.0 -10.0 -2.0  12.0  1583.0\n",
       "2          1005992.0   7.481208  38.361073  -89.0 -11.0 -3.0  11.0  1951.0\n",
       "3          1016995.0   6.522017  36.024679  -87.0 -10.0 -3.0  10.0  1510.0\n",
       "4          1011970.0   8.411599  37.397411 -129.0 -10.0 -1.0  12.0  2453.0\n",
       "5          1008872.0  10.953440  40.252320  -86.0  -9.0  0.0  15.0  1707.0\n",
       "6           841663.0   5.789666  37.163120  -91.0 -11.0 -3.0   9.0  1525.0\n",
       "7           956127.0   9.495886  41.759296  -92.0 -10.0 -2.0  12.0  2461.0"
      ],
      "text/html": "<div>\n<style scoped>\n    .dataframe tbody tr th:only-of-type {\n        vertical-align: middle;\n    }\n\n    .dataframe tbody tr th {\n        vertical-align: top;\n    }\n\n    .dataframe thead th {\n        text-align: right;\n    }\n</style>\n<table border=\"1\" class=\"dataframe\">\n  <thead>\n    <tr style=\"text-align: right;\">\n      <th></th>\n      <th>count</th>\n      <th>mean</th>\n      <th>std</th>\n      <th>min</th>\n      <th>25%</th>\n      <th>50%</th>\n      <th>75%</th>\n      <th>max</th>\n    </tr>\n    <tr>\n      <th>DayOfWeek</th>\n      <th></th>\n      <th></th>\n      <th></th>\n      <th></th>\n      <th></th>\n      <th></th>\n      <th></th>\n      <th></th>\n    </tr>\n  </thead>\n  <tbody>\n    <tr>\n      <th>1</th>\n      <td>1013410.0</td>\n      <td>8.210850</td>\n      <td>38.013811</td>\n      <td>-519.0</td>\n      <td>-10.0</td>\n      <td>-2.0</td>\n      <td>12.0</td>\n      <td>1583.0</td>\n    </tr>\n    <tr>\n      <th>2</th>\n      <td>1005992.0</td>\n      <td>7.481208</td>\n      <td>38.361073</td>\n      <td>-89.0</td>\n      <td>-11.0</td>\n      <td>-3.0</td>\n      <td>11.0</td>\n      <td>1951.0</td>\n    </tr>\n    <tr>\n      <th>3</th>\n      <td>1016995.0</td>\n      <td>6.522017</td>\n      <td>36.024679</td>\n      <td>-87.0</td>\n      <td>-10.0</td>\n      <td>-3.0</td>\n      <td>10.0</td>\n      <td>1510.0</td>\n    </tr>\n    <tr>\n      <th>4</th>\n      <td>1011970.0</td>\n      <td>8.411599</td>\n      <td>37.397411</td>\n      <td>-129.0</td>\n      <td>-10.0</td>\n      <td>-1.0</td>\n      <td>12.0</td>\n      <td>2453.0</td>\n    </tr>\n    <tr>\n      <th>5</th>\n      <td>1008872.0</td>\n      <td>10.953440</td>\n      <td>40.252320</td>\n      <td>-86.0</td>\n      <td>-9.0</td>\n      <td>0.0</td>\n      <td>15.0</td>\n      <td>1707.0</td>\n    </tr>\n    <tr>\n      <th>6</th>\n      <td>841663.0</td>\n      <td>5.789666</td>\n      <td>37.163120</td>\n      <td>-91.0</td>\n      <td>-11.0</td>\n      <td>-3.0</td>\n      <td>9.0</td>\n      <td>1525.0</td>\n    </tr>\n    <tr>\n      <th>7</th>\n      <td>956127.0</td>\n      <td>9.495886</td>\n      <td>41.759296</td>\n      <td>-92.0</td>\n      <td>-10.0</td>\n      <td>-2.0</td>\n      <td>12.0</td>\n      <td>2461.0</td>\n    </tr>\n  </tbody>\n</table>\n</div>"
     },
     "metadata": {},
     "execution_count": 6
    }
   ],
   "source": [
    "df.groupby(by = 'DayOfWeek')['ArrDelay'].describe() # Muestra un resumen estadístico agrupado para cada día de la semana\n",
    "\n",
    "# count: Cuántos casos hay\n",
    "# mean: media\n",
    "# std: desviación estándar\n",
    "# 25% 50% y 75%, los tres cuartiles\n",
    "# max y min, máximo y mínimo, respectivamente"
   ]
  },
  {
   "cell_type": "code",
   "execution_count": 7,
   "metadata": {},
   "outputs": [
    {
     "output_type": "execute_result",
     "data": {
      "text/plain": [
       "            ArrDelay   DepDelay\n",
       "DayOfWeek                      \n",
       "1           8.210850  10.269990\n",
       "2           7.481208   8.976897\n",
       "3           6.522017   8.289761\n",
       "4           8.411599   9.772897\n",
       "5          10.953440  12.158036\n",
       "6           5.789666   8.645681\n",
       "7           9.495886  11.568973"
      ],
      "text/html": "<div>\n<style scoped>\n    .dataframe tbody tr th:only-of-type {\n        vertical-align: middle;\n    }\n\n    .dataframe tbody tr th {\n        vertical-align: top;\n    }\n\n    .dataframe thead th {\n        text-align: right;\n    }\n</style>\n<table border=\"1\" class=\"dataframe\">\n  <thead>\n    <tr style=\"text-align: right;\">\n      <th></th>\n      <th>ArrDelay</th>\n      <th>DepDelay</th>\n    </tr>\n    <tr>\n      <th>DayOfWeek</th>\n      <th></th>\n      <th></th>\n    </tr>\n  </thead>\n  <tbody>\n    <tr>\n      <th>1</th>\n      <td>8.210850</td>\n      <td>10.269990</td>\n    </tr>\n    <tr>\n      <th>2</th>\n      <td>7.481208</td>\n      <td>8.976897</td>\n    </tr>\n    <tr>\n      <th>3</th>\n      <td>6.522017</td>\n      <td>8.289761</td>\n    </tr>\n    <tr>\n      <th>4</th>\n      <td>8.411599</td>\n      <td>9.772897</td>\n    </tr>\n    <tr>\n      <th>5</th>\n      <td>10.953440</td>\n      <td>12.158036</td>\n    </tr>\n    <tr>\n      <th>6</th>\n      <td>5.789666</td>\n      <td>8.645681</td>\n    </tr>\n    <tr>\n      <th>7</th>\n      <td>9.495886</td>\n      <td>11.568973</td>\n    </tr>\n  </tbody>\n</table>\n</div>"
     },
     "metadata": {},
     "execution_count": 7
    }
   ],
   "source": [
    "df.groupby(by = 'DayOfWeek')['ArrDelay', 'DepDelay'].mean() # Se calcula la media sobre estas columnas, se ve el resultado simultáneo de dos variables\n",
    "\n",
    "# Asegurarse que ambas columnas son del mismo tipo"
   ]
  },
  {
   "cell_type": "code",
   "execution_count": 8,
   "metadata": {},
   "outputs": [
    {
     "output_type": "execute_result",
     "data": {
      "text/plain": [
       "DayOfWeek\n",
       "1    2102.0\n",
       "2    2040.0\n",
       "3    1597.0\n",
       "4    2582.0\n",
       "5    1793.0\n",
       "6    1616.0\n",
       "7    2553.0\n",
       "Name: ArrDelay, dtype: float64"
      ]
     },
     "metadata": {},
     "execution_count": 8
    }
   ],
   "source": [
    "df.groupby(by = 'DayOfWeek')['ArrDelay'].max() - df.groupby(by = 'DayOfWeek')['ArrDelay'].min() # Permite ver el rango de valores para cada día de la semana"
   ]
  },
  {
   "cell_type": "code",
   "execution_count": 11,
   "metadata": {},
   "outputs": [],
   "source": [
    "df_ATL_HOU = df[df.Origin.isin(['ATL','HOU'])] # Crear DataFrame"
   ]
  },
  {
   "cell_type": "code",
   "execution_count": 14,
   "metadata": {},
   "outputs": [
    {
     "output_type": "execute_result",
     "data": {
      "text/plain": [
       "DayOfWeek  Origin\n",
       "1          ATL        9.123436\n",
       "           HOU        6.356856\n",
       "2          ATL        8.933587\n",
       "           HOU        9.348112\n",
       "3          ATL        8.809146\n",
       "           HOU        9.073109\n",
       "4          ATL       10.186501\n",
       "           HOU       12.994016\n",
       "5          ATL       14.797440\n",
       "           HOU       11.036545\n",
       "6          ATL        9.511662\n",
       "           HOU        4.283933\n",
       "7          ATL       13.798627\n",
       "           HOU        7.045287\n",
       "Name: ArrDelay, dtype: float64"
      ]
     },
     "metadata": {},
     "execution_count": 14
    }
   ],
   "source": [
    "df_ATL_HOU.groupby(by = ['DayOfWeek','Origin'])['ArrDelay'].mean() # Se explorara el dia de semana y el origen\n",
    "\n",
    "# Muestra cada día de la semana por separado los vuelos que salen de Atlanta y los que salen de Houston, y sus medias\n",
    "# Permite comparar en cuál de los dos ciudades los vuelos se retrasan más al igual los días donde hay más retraso"
   ]
  },
  {
   "cell_type": "code",
   "execution_count": 17,
   "metadata": {},
   "outputs": [
    {
     "output_type": "execute_result",
     "data": {
      "text/plain": [
       "Origin  DayOfWeek\n",
       "ATL     1             9.123436\n",
       "        2             8.933587\n",
       "        3             8.809146\n",
       "        4            10.186501\n",
       "        5            14.797440\n",
       "        6             9.511662\n",
       "        7            13.798627\n",
       "HOU     1             6.356856\n",
       "        2             9.348112\n",
       "        3             9.073109\n",
       "        4            12.994016\n",
       "        5            11.036545\n",
       "        6             4.283933\n",
       "        7             7.045287\n",
       "Name: ArrDelay, dtype: float64"
      ]
     },
     "metadata": {},
     "execution_count": 17
    }
   ],
   "source": [
    "df_ATL_HOU.groupby(by = ['Origin','DayOfWeek'])['ArrDelay'].mean() ## Orden diferente\n",
    "\n",
    "# Es menos intuitivo, es más sencillo analizar al ordenar primero por día de la semana"
   ]
  },
  {
   "cell_type": "code",
   "execution_count": 25,
   "metadata": {},
   "outputs": [],
   "source": [
    "# Guardar\n",
    "\n",
    "mygroupby = df_ATL_HOU.groupby(by = ['DayOfWeek','Origin'])['ArrDelay']\n"
   ]
  },
  {
   "cell_type": "code",
   "execution_count": 29,
   "metadata": {},
   "outputs": [
    {
     "output_type": "execute_result",
     "data": {
      "text/plain": [
       "                    count       mean        std   min   25%  50%   75%     max\n",
       "DayOfWeek Origin                                                              \n",
       "1         ATL     60598.0   9.123436  30.958642 -69.0  -8.0  1.0  14.0   407.0\n",
       "          HOU      8205.0   6.356856  28.887113 -47.0  -7.0 -2.0   9.0   383.0\n",
       "2         ATL     59732.0   8.933587  34.750658 -89.0  -9.0 -1.0  13.0   848.0\n",
       "          HOU      8368.0   9.348112  35.321852 -44.0  -7.0 -1.0  12.0   546.0\n",
       "3         ATL     60245.0   8.809146  34.343042 -56.0  -9.0  0.0  13.0   876.0\n",
       "          HOU      8330.0   9.073109  33.191673 -39.0  -7.0 -1.0  12.0   639.0\n",
       "4         ATL     59721.0  10.186501  35.261512 -51.0  -8.0  1.0  15.0   571.0\n",
       "          HOU      8188.0  12.994016  39.360946 -42.0  -6.0  1.0  17.0  1082.0\n",
       "5         ATL     60007.0  14.797440  38.859778 -51.0  -7.0  3.0  20.0   699.0\n",
       "          HOU      8209.0  11.036545  32.415069 -48.0  -6.0  1.0  16.0   560.0\n",
       "6         ATL     49734.0   9.511662  36.020584 -61.0 -10.0 -1.0  15.0   483.0\n",
       "          HOU      5614.0   4.283933  32.518381 -47.0  -9.0 -3.0   6.0   917.0\n",
       "7         ATL     57664.0  13.798627  42.466233 -86.0  -8.0  1.0  17.0   612.0\n",
       "          HOU      7331.0   7.045287  30.820505 -55.0  -7.0 -1.0  11.0   685.0"
      ],
      "text/html": "<div>\n<style scoped>\n    .dataframe tbody tr th:only-of-type {\n        vertical-align: middle;\n    }\n\n    .dataframe tbody tr th {\n        vertical-align: top;\n    }\n\n    .dataframe thead th {\n        text-align: right;\n    }\n</style>\n<table border=\"1\" class=\"dataframe\">\n  <thead>\n    <tr style=\"text-align: right;\">\n      <th></th>\n      <th></th>\n      <th>count</th>\n      <th>mean</th>\n      <th>std</th>\n      <th>min</th>\n      <th>25%</th>\n      <th>50%</th>\n      <th>75%</th>\n      <th>max</th>\n    </tr>\n    <tr>\n      <th>DayOfWeek</th>\n      <th>Origin</th>\n      <th></th>\n      <th></th>\n      <th></th>\n      <th></th>\n      <th></th>\n      <th></th>\n      <th></th>\n      <th></th>\n    </tr>\n  </thead>\n  <tbody>\n    <tr>\n      <th rowspan=\"2\" valign=\"top\">1</th>\n      <th>ATL</th>\n      <td>60598.0</td>\n      <td>9.123436</td>\n      <td>30.958642</td>\n      <td>-69.0</td>\n      <td>-8.0</td>\n      <td>1.0</td>\n      <td>14.0</td>\n      <td>407.0</td>\n    </tr>\n    <tr>\n      <th>HOU</th>\n      <td>8205.0</td>\n      <td>6.356856</td>\n      <td>28.887113</td>\n      <td>-47.0</td>\n      <td>-7.0</td>\n      <td>-2.0</td>\n      <td>9.0</td>\n      <td>383.0</td>\n    </tr>\n    <tr>\n      <th rowspan=\"2\" valign=\"top\">2</th>\n      <th>ATL</th>\n      <td>59732.0</td>\n      <td>8.933587</td>\n      <td>34.750658</td>\n      <td>-89.0</td>\n      <td>-9.0</td>\n      <td>-1.0</td>\n      <td>13.0</td>\n      <td>848.0</td>\n    </tr>\n    <tr>\n      <th>HOU</th>\n      <td>8368.0</td>\n      <td>9.348112</td>\n      <td>35.321852</td>\n      <td>-44.0</td>\n      <td>-7.0</td>\n      <td>-1.0</td>\n      <td>12.0</td>\n      <td>546.0</td>\n    </tr>\n    <tr>\n      <th rowspan=\"2\" valign=\"top\">3</th>\n      <th>ATL</th>\n      <td>60245.0</td>\n      <td>8.809146</td>\n      <td>34.343042</td>\n      <td>-56.0</td>\n      <td>-9.0</td>\n      <td>0.0</td>\n      <td>13.0</td>\n      <td>876.0</td>\n    </tr>\n    <tr>\n      <th>HOU</th>\n      <td>8330.0</td>\n      <td>9.073109</td>\n      <td>33.191673</td>\n      <td>-39.0</td>\n      <td>-7.0</td>\n      <td>-1.0</td>\n      <td>12.0</td>\n      <td>639.0</td>\n    </tr>\n    <tr>\n      <th rowspan=\"2\" valign=\"top\">4</th>\n      <th>ATL</th>\n      <td>59721.0</td>\n      <td>10.186501</td>\n      <td>35.261512</td>\n      <td>-51.0</td>\n      <td>-8.0</td>\n      <td>1.0</td>\n      <td>15.0</td>\n      <td>571.0</td>\n    </tr>\n    <tr>\n      <th>HOU</th>\n      <td>8188.0</td>\n      <td>12.994016</td>\n      <td>39.360946</td>\n      <td>-42.0</td>\n      <td>-6.0</td>\n      <td>1.0</td>\n      <td>17.0</td>\n      <td>1082.0</td>\n    </tr>\n    <tr>\n      <th rowspan=\"2\" valign=\"top\">5</th>\n      <th>ATL</th>\n      <td>60007.0</td>\n      <td>14.797440</td>\n      <td>38.859778</td>\n      <td>-51.0</td>\n      <td>-7.0</td>\n      <td>3.0</td>\n      <td>20.0</td>\n      <td>699.0</td>\n    </tr>\n    <tr>\n      <th>HOU</th>\n      <td>8209.0</td>\n      <td>11.036545</td>\n      <td>32.415069</td>\n      <td>-48.0</td>\n      <td>-6.0</td>\n      <td>1.0</td>\n      <td>16.0</td>\n      <td>560.0</td>\n    </tr>\n    <tr>\n      <th rowspan=\"2\" valign=\"top\">6</th>\n      <th>ATL</th>\n      <td>49734.0</td>\n      <td>9.511662</td>\n      <td>36.020584</td>\n      <td>-61.0</td>\n      <td>-10.0</td>\n      <td>-1.0</td>\n      <td>15.0</td>\n      <td>483.0</td>\n    </tr>\n    <tr>\n      <th>HOU</th>\n      <td>5614.0</td>\n      <td>4.283933</td>\n      <td>32.518381</td>\n      <td>-47.0</td>\n      <td>-9.0</td>\n      <td>-3.0</td>\n      <td>6.0</td>\n      <td>917.0</td>\n    </tr>\n    <tr>\n      <th rowspan=\"2\" valign=\"top\">7</th>\n      <th>ATL</th>\n      <td>57664.0</td>\n      <td>13.798627</td>\n      <td>42.466233</td>\n      <td>-86.0</td>\n      <td>-8.0</td>\n      <td>1.0</td>\n      <td>17.0</td>\n      <td>612.0</td>\n    </tr>\n    <tr>\n      <th>HOU</th>\n      <td>7331.0</td>\n      <td>7.045287</td>\n      <td>30.820505</td>\n      <td>-55.0</td>\n      <td>-7.0</td>\n      <td>-1.0</td>\n      <td>11.0</td>\n      <td>685.0</td>\n    </tr>\n  </tbody>\n</table>\n</div>"
     },
     "metadata": {},
     "execution_count": 29
    }
   ],
   "source": [
    "# Modificar funciones con la nueva variable creada\n",
    "\n",
    "mygroupby.describe()"
   ]
  }
 ]
}